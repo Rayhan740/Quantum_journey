{
 "cells": [
  {
   "cell_type": "code",
   "execution_count": 15,
   "id": "1f62d25b-7912-4e0a-9875-7f0fbb7d8bd3",
   "metadata": {},
   "outputs": [
    {
     "name": "stdout",
     "output_type": "stream",
     "text": [
      "{'VV': 0.2574462890625, 'VH': 0.0, 'HV': 0.6300048828125, 'HH': 0.373779296875}\n",
      "The upper bound for P['VV'] is 1.0037841796875\n",
      "The value of P['VV'] is 0.2574462890625\n",
      "The upper bound is obeyed :)\n",
      "\n",
      "The upper bound for P['VH'] is 1.26123046875\n",
      "The value of P['VH'] is 0.0\n",
      "The upper bound is obeyed :)\n",
      "\n",
      "The upper bound for P['HV'] is 0.6312255859375\n",
      "The value of P['HV'] is 0.6300048828125\n",
      "The upper bound is obeyed :)\n",
      "\n",
      "The upper bound for P['HH'] is 0.887451171875\n",
      "The value of P['HH'] is 0.373779296875\n",
      "The upper bound is obeyed :)\n",
      "\n"
     ]
    }
   ],
   "source": [
    "from qiskit import *\n",
    "\n",
    "import random\n",
    "\n",
    "def setup_variable():\n",
    "    \n",
    "    r = random.random()\n",
    "    \n",
    "    A = r*(2/3)\n",
    "    B = r*(1/3)\n",
    "    \n",
    "    return A,B\n",
    "\n",
    "#setup_variable()\n",
    "\n",
    "def hash2bit(variable, hash_type):\n",
    "    \n",
    "    if hash_type == 'V':\n",
    "        bit = (variable<0.5)\n",
    "    elif hash_type == 'H':\n",
    "        bit = (variable<0.25)\n",
    "        \n",
    "    bit = str(int(bit))\n",
    "    \n",
    "    return bit\n",
    "\n",
    "#hash2bit(0.25 , 'V')\n",
    "\n",
    "shots = 8192\n",
    "\n",
    "def calculate_P():\n",
    "    p = {}\n",
    "    for hashes in ['VV','VH','HV','HH']:\n",
    "        p[hashes] = 0\n",
    "        for shot in range(shots):\n",
    "            A, B = setup_variable()\n",
    "            a = hash2bit(A, hashes[0])\n",
    "            b = hash2bit(B, hashes[1])\n",
    "            \n",
    "            p[hashes] += (a != b)/shots\n",
    "            \n",
    "    return p\n",
    "\n",
    "P = calculate_P()\n",
    "print(P)\n",
    "\n",
    "def bell_test(P):\n",
    "    sum_P = sum(P.values())\n",
    "    for hashes in P:\n",
    "        \n",
    "        bound = sum_P - P[hashes]\n",
    "        \n",
    "        print(\"The upper bound for P['\"+hashes+\"'] is \"+str(bound))\n",
    "        print(\"The value of P['\"+hashes+\"'] is \"+str(P[hashes]))\n",
    "        if P[hashes]<=bound:\n",
    "            print(\"The upper bound is obeyed :)\\n\")\n",
    "        else:\n",
    "            if P[hashes]-bound < 0.1:\n",
    "                print(\"This seems to have gone over the upper bound, \"\n",
    "                      \"but only by a little bit :S\\nProbably just rounding\"\n",
    "                      \" errors or statistical noise.\\n\")\n",
    "            else:\n",
    "                print(\"This has gone well over the upper bound :O !!!!!\\n\")\n",
    "                \n",
    "bell_test(P)"
   ]
  },
  {
   "cell_type": "code",
   "execution_count": null,
   "id": "7ec1c5e5-db51-4691-8530-6e7d8de76d02",
   "metadata": {},
   "outputs": [],
   "source": []
  }
 ],
 "metadata": {
  "kernelspec": {
   "display_name": "Python 3 (ipykernel)",
   "language": "python",
   "name": "python3"
  },
  "language_info": {
   "codemirror_mode": {
    "name": "ipython",
    "version": 3
   },
   "file_extension": ".py",
   "mimetype": "text/x-python",
   "name": "python",
   "nbconvert_exporter": "python",
   "pygments_lexer": "ipython3",
   "version": "3.8.13"
  },
  "widgets": {
   "application/vnd.jupyter.widget-state+json": {
    "state": {},
    "version_major": 2,
    "version_minor": 0
   }
  }
 },
 "nbformat": 4,
 "nbformat_minor": 5
}
