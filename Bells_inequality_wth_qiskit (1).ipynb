{
 "cells": [
  {
   "cell_type": "code",
   "execution_count": 1,
   "id": "c3ef4a12-e9f0-486d-aa22-fb519b7db074",
   "metadata": {},
   "outputs": [
    {
     "name": "stdout",
     "output_type": "stream",
     "text": [
      "Set up started\n",
      "Set up completed\n"
     ]
    },
    {
     "name": "stderr",
     "output_type": "stream",
     "text": [
      "<frozen importlib._bootstrap>:219: RuntimeWarning: scipy._lib.messagestream.MessageStream size changed, may indicate binary incompatibility. Expected 56 from C header, got 64 from PyObject\n"
     ]
    }
   ],
   "source": [
    "print('Set up started')\n",
    "from qiskit_textbook.games import hello_quantum\n",
    "print('Set up completed')"
   ]
  },
  {
   "cell_type": "code",
   "execution_count": 2,
   "id": "6287919f-0163-4ca9-b7ba-0afbf77d750a",
   "metadata": {},
   "outputs": [
    {
     "data": {
      "application/vnd.jupyter.widget-view+json": {
       "model_id": "8ee990820f62433b945e89dce0f9568c",
       "version_major": 2,
       "version_minor": 0
      },
      "text/plain": [
       "Image(value=b'\\x89PNG\\r\\n\\x1a\\n\\x00\\x00\\x00\\rIHDR\\x00\\x00\\x01\\xb0\\x00\\x00\\x01\\xb0\\x08\\x06\\x00\\x00\\x00\\xc8N0*\\x…"
      ]
     },
     "metadata": {},
     "output_type": "display_data"
    },
    {
     "data": {
      "application/vnd.jupyter.widget-view+json": {
       "model_id": "7ec138e89a164cea93755a08b2d089b8",
       "version_major": 2,
       "version_minor": 0
      },
      "text/plain": [
       "VBox(children=(ToggleButtons(options=('Choose gate', 'NOT'), value='Choose gate'), ToggleButtons(options=('',)…"
      ]
     },
     "metadata": {},
     "output_type": "display_data"
    }
   ],
   "source": [
    "# For Not gate\n",
    "initialize = []\n",
    "success_condition = {}\n",
    "allowed_gates = {'0':{'NOT':3}, '1': {}, 'both': {}}\n",
    "vi = [[1], False, False]\n",
    "qubit_names = {'0':'the only bit', '1': None}\n",
    "puzzle = hello_quantum.run_game(initialize, success_condition, allowed_gates, vi, qubit_names)"
   ]
  },
  {
   "cell_type": "code",
   "execution_count": 5,
   "id": "750fd887-4f51-493c-94f0-2cb1ec7ffb50",
   "metadata": {},
   "outputs": [
    {
     "data": {
      "application/vnd.jupyter.widget-view+json": {
       "model_id": "0ef4c266b3a54e42a9a2c9eed8363243",
       "version_major": 2,
       "version_minor": 0
      },
      "text/plain": [
       "Image(value=b'\\x89PNG\\r\\n\\x1a\\n\\x00\\x00\\x00\\rIHDR\\x00\\x00\\x01\\xb0\\x00\\x00\\x01\\xb0\\x08\\x06\\x00\\x00\\x00\\xc8N0*\\x…"
      ]
     },
     "metadata": {},
     "output_type": "display_data"
    },
    {
     "data": {
      "application/vnd.jupyter.widget-view+json": {
       "model_id": "8fd389f640c945638ecf3e9b7a4e89d5",
       "version_major": 2,
       "version_minor": 0
      },
      "text/plain": [
       "VBox(children=(ToggleButtons(options=('Choose gate', 'NOT'), value='Choose gate'), ToggleButtons(options=('',)…"
      ]
     },
     "metadata": {},
     "output_type": "display_data"
    }
   ],
   "source": [
    "initialize = []\n",
    "success_condition = {}\n",
    "allowed_gates = {'0':{}, '1':{'NOT':0}, 'both':{}}\n",
    "vi = [[], False, False]\n",
    "qubit_names = {'0':'the bit on the left', '1': 'the bit on the right'}\n",
    "puzzle = hello_quantum.run_game(initialize, success_condition, allowed_gates, vi, qubit_names)"
   ]
  },
  {
   "cell_type": "code",
   "execution_count": 6,
   "id": "fc9dc631-7a61-43c0-8fdb-ea14097f8978",
   "metadata": {},
   "outputs": [
    {
     "data": {
      "application/vnd.jupyter.widget-view+json": {
       "model_id": "4bd5a205c35f401eb0754755df4b184c",
       "version_major": 2,
       "version_minor": 0
      },
      "text/plain": [
       "Image(value=b'\\x89PNG\\r\\n\\x1a\\n\\x00\\x00\\x00\\rIHDR\\x00\\x00\\x01\\xb0\\x00\\x00\\x01\\xb0\\x08\\x06\\x00\\x00\\x00\\xc8N0*\\x…"
      ]
     },
     "metadata": {},
     "output_type": "display_data"
    },
    {
     "data": {
      "application/vnd.jupyter.widget-view+json": {
       "model_id": "2ce4c889a3b74860a8fa6a94a9896d05",
       "version_major": 2,
       "version_minor": 0
      },
      "text/plain": [
       "VBox(children=(ToggleButtons(options=('Choose gate', 'CNOT'), value='Choose gate'), ToggleButtons(options=('',…"
      ]
     },
     "metadata": {},
     "output_type": "display_data"
    }
   ],
   "source": [
    "# For CNOT Gate\n",
    "initialize = [['x','0']]\n",
    "success_condition = {'IZ':-1.0}\n",
    "allowed_gates = {'0':{'CNOT':0},'1':{'CNOT':0},'both':{}}\n",
    "vi = [[], False, False]\n",
    "qubit_names = {'0':'the bit on the left', '1': 'the bit on the right'}\n",
    "puzzle = hello_quantum.run_game(initialize, success_condition, allowed_gates, vi, qubit_names)"
   ]
  },
  {
   "cell_type": "code",
   "execution_count": 7,
   "id": "81657cc4-2f5d-40f4-b46b-fb24e7feb28a",
   "metadata": {},
   "outputs": [
    {
     "data": {
      "application/vnd.jupyter.widget-view+json": {
       "model_id": "4352fb170f664cafb9b7c28019317c20",
       "version_major": 2,
       "version_minor": 0
      },
      "text/plain": [
       "Image(value=b'\\x89PNG\\r\\n\\x1a\\n\\x00\\x00\\x00\\rIHDR\\x00\\x00\\x01\\xb0\\x00\\x00\\x01\\xb0\\x08\\x06\\x00\\x00\\x00\\xc8N0*\\x…"
      ]
     },
     "metadata": {},
     "output_type": "display_data"
    },
    {
     "data": {
      "application/vnd.jupyter.widget-view+json": {
       "model_id": "cb9c1bf5d286411b8617812393445103",
       "version_major": 2,
       "version_minor": 0
      },
      "text/plain": [
       "VBox(children=(ToggleButtons(options=('Choose gate', 'CNOT'), value='Choose gate'), ToggleButtons(options=('',…"
      ]
     },
     "metadata": {},
     "output_type": "display_data"
    }
   ],
   "source": [
    "initialize = [['x','0']]\n",
    "success_condition = {'ZI':1.0, 'IZ':-1.0}\n",
    "allowed_gates = {'0':{'CNOT':0}, '1': {'CNOT':0}, 'both':{}}\n",
    "vi = [[],False, False]\n",
    "qubit_names = {'0':'the bit on the left','1':'the bit on the right'}\n",
    "puzzle = hello_quantum.run_game(initialize, success_condition, allowed_gates, vi, qubit_names)"
   ]
  },
  {
   "cell_type": "code",
   "execution_count": 2,
   "id": "4164a79c-df11-4382-86ca-e47a28c1361b",
   "metadata": {},
   "outputs": [
    {
     "data": {
      "application/vnd.jupyter.widget-view+json": {
       "model_id": "d8c48b91822a463f88d1153b890508e7",
       "version_major": 2,
       "version_minor": 0
      },
      "text/plain": [
       "Image(value=b'\\x89PNG\\r\\n\\x1a\\n\\x00\\x00\\x00\\rIHDR\\x00\\x00\\x01\\xb0\\x00\\x00\\x01\\xb0\\x08\\x06\\x00\\x00\\x00\\xc8N0*\\x…"
      ]
     },
     "metadata": {},
     "output_type": "display_data"
    },
    {
     "data": {
      "application/vnd.jupyter.widget-view+json": {
       "model_id": "18c62cf15ad948babef6b855c03cf89e",
       "version_major": 2,
       "version_minor": 0
      },
      "text/plain": [
       "VBox(children=(ToggleButtons(options=('Choose gate', 'CNOT'), value='Choose gate'), ToggleButtons(options=('',…"
      ]
     },
     "metadata": {},
     "output_type": "display_data"
    }
   ],
   "source": [
    "initialize = [['h', '0']]\n",
    "success_condition = {'IZ': 0.0}\n",
    "allowed_gates = {'0': {'CNOT': 0}, '1': {'CNOT': 0}, 'both': {}}\n",
    "vi = [[], False, False]\n",
    "qubit_names = {'0':'the bit on the left', '1':'the bit on the right'}\n",
    "puzzle = hello_quantum.run_game(initialize, success_condition, allowed_gates, vi, qubit_names)"
   ]
  },
  {
   "cell_type": "code",
   "execution_count": 3,
   "id": "4af6336b-8327-41c8-bf60-2ea5505f119b",
   "metadata": {},
   "outputs": [
    {
     "data": {
      "application/vnd.jupyter.widget-view+json": {
       "model_id": "a2f28dec82a74c3481fb6fded4ef04fd",
       "version_major": 2,
       "version_minor": 0
      },
      "text/plain": [
       "Image(value=b'\\x89PNG\\r\\n\\x1a\\n\\x00\\x00\\x00\\rIHDR\\x00\\x00\\x01\\xb0\\x00\\x00\\x01\\xb0\\x08\\x06\\x00\\x00\\x00\\xc8N0*\\x…"
      ]
     },
     "metadata": {},
     "output_type": "display_data"
    },
    {
     "data": {
      "application/vnd.jupyter.widget-view+json": {
       "model_id": "dc10fc9139e24b41961bda724e0ac67a",
       "version_major": 2,
       "version_minor": 0
      },
      "text/plain": [
       "VBox(children=(ToggleButtons(options=('Choose gate', 'bloch', 'unbloch', 'x', 'z', 'h', 'cz', 'cx', 'ry(-pi/4)…"
      ]
     },
     "metadata": {},
     "output_type": "display_data"
    },
    {
     "name": "stdout",
     "output_type": "stream",
     "text": [
      "{'VV': 0, 'VH': 0.50244140625, 'HV': 0.5015869140625, 'HH': 0.5001220703125}\n",
      "The upper bound for P['VV'] is 1.504150390625\n",
      "The value of P['VV'] is 0\n",
      "The upper bound is obeyed :)\n",
      "\n",
      "The upper bound for P['VH'] is 1.001708984375\n",
      "The value of P['VH'] is 0.50244140625\n",
      "The upper bound is obeyed :)\n",
      "\n",
      "The upper bound for P['HV'] is 1.0025634765625\n",
      "The value of P['HV'] is 0.5015869140625\n",
      "The upper bound is obeyed :)\n",
      "\n",
      "The upper bound for P['HH'] is 1.0040283203125\n",
      "The value of P['HH'] is 0.5001220703125\n",
      "The upper bound is obeyed :)\n",
      "\n"
     ]
    }
   ],
   "source": [
    "# Bell test for Quantum Variable\n",
    "'''Bell's inequality with Quantum variable in this section we are going to take Quantum variable for our \n",
    "experiment and also going to generate a video game'''\n",
    "from qiskit_textbook.games import hello_quantum # To generate puzzle game\n",
    "from qiskit import assemble, transpile #to generate task to the quantum computer\n",
    "from qiskit import *\n",
    "import numpy as np\n",
    "from qiskit import Aer\n",
    "\n",
    "'''Initializing qubit for our operation'''\n",
    "\n",
    "def initialize_program():\n",
    "    qubit = QuantumRegister(2)\n",
    "    A = qubit[0]\n",
    "    B = qubit[1]\n",
    "    \n",
    "    bit = ClassicalRegister(2)\n",
    "    a = bit[0]\n",
    "    b = bit[1]\n",
    "    \n",
    "    qc = QuantumCircuit(qubit, bit) \n",
    "    \n",
    "    return A, B, a, b, qc\n",
    "    \n",
    "#initialize_program()    \n",
    "\n",
    "'''Initializing hash function so that we could get our value into bit '''\n",
    "    \n",
    "def hash2bit(variable, hash_type, bit, qc):\n",
    "    if hash_type == 'H':\n",
    "        qc.h(variable)\n",
    "    qc.measure(variable, bit)\n",
    "    \n",
    "'''Here we are initializing the game and also running the run.puzzle game'''    \n",
    "    \n",
    "initialize = []\n",
    "success_condition = {'ZZ': +0.7071, 'ZX':+0.7071, 'XZ':+0.7071, 'XX':-0.7071}\n",
    "allowed_gates = {'0':{'bloch':0, 'x':0, 'z':0, 'h':0, 'cx':0, 'ry(pi/4)':0}, '1':{'bloch':0, 'x':0, 'z':0, 'h':0, 'cx':0, 'ry(-pi/4)':0}, 'both':{'cz':0, 'unbloch':0}}\n",
    "vi = [[], True, False]\n",
    "qubit_games = {'0':'A', '1': 'B'}\n",
    "puzzle = hello_quantum.run_game(initialize, success_condition, allowed_gates, vi, qubit_games, mode = 'line')\n",
    "\n",
    "'''Here we are calling  values from that puzzle and using it to setup our variable'''\n",
    "\n",
    "def setup_variables(A, B, qc):\n",
    "    for line in puzzle.program:\n",
    "        eval(line)\n",
    "        \n",
    "\n",
    "shots = 8192\n",
    "\n",
    "def calculate_P ( backend ):\n",
    "    \n",
    "    P = {}\n",
    "    program = {}\n",
    "    for hashes in ['VV','VH','HV','HH']:\n",
    "\n",
    "        A, B, a, b, program[hashes] = initialize_program ()\n",
    "\n",
    "        setup_variables( A, B, program[hashes] )\n",
    "\n",
    "        hash2bit ( A, hashes[0], a, program[hashes])\n",
    "        hash2bit ( B, hashes[1], b, program[hashes])\n",
    "            \n",
    "    # submit jobs\n",
    "    t_qcs = transpile(list(program.values()), backend)\n",
    "    qobj = assemble(t_qcs, shots=shots)\n",
    "    job = backend.run(qobj)\n",
    "\n",
    "    # get the results\n",
    "    for hashes in ['VV','VH','HV','HH']:\n",
    "        stats = job.result().get_counts(program[hashes])\n",
    "        \n",
    "        P[hashes] = 0\n",
    "        for string in stats.keys():\n",
    "            a = string[-1]\n",
    "            b = string[-2]\n",
    "            \n",
    "            if a!=b:\n",
    "                P[hashes] += stats[string] / shots\n",
    "\n",
    "    return P\n",
    "\n",
    "device = 'aer_simulator'\n",
    "backend = Aer.get_backend(device)\n",
    "\n",
    "P = calculate_P(backend)\n",
    "print(P)\n",
    "\n",
    "def bell_test (P):\n",
    "    \n",
    "    sum_P = sum(P.values())\n",
    "    for hashes in P:\n",
    "        \n",
    "        bound = sum_P - P[hashes]\n",
    "        \n",
    "        print(\"The upper bound for P['\"+hashes+\"'] is \"+str(bound))\n",
    "        print(\"The value of P['\"+hashes+\"'] is \"+str(P[hashes]))\n",
    "        if P[hashes]<=bound:\n",
    "            print(\"The upper bound is obeyed :)\\n\")\n",
    "        else:\n",
    "            if P[hashes]-bound < 0.1:\n",
    "                print(\"This seems to have gone over the upper bound, but only by a little bit :S\\nProbably just rounding errors or statistical noise.\\n\")\n",
    "            else:\n",
    "                print(\"!!!!! This has gone well over the upper bound :O !!!!!\\n\")\n",
    "\n",
    "bell_test(P)"
   ]
  },
  {
   "cell_type": "code",
   "execution_count": null,
   "id": "f63e8fd1-08a7-484b-a25f-7f43e014f80c",
   "metadata": {},
   "outputs": [],
   "source": []
  }
 ],
 "metadata": {
  "kernelspec": {
   "display_name": "Python 3 (ipykernel)",
   "language": "python",
   "name": "python3"
  },
  "language_info": {
   "codemirror_mode": {
    "name": "ipython",
    "version": 3
   },
   "file_extension": ".py",
   "mimetype": "text/x-python",
   "name": "python",
   "nbconvert_exporter": "python",
   "pygments_lexer": "ipython3",
   "version": "3.8.13"
  },
  "widgets": {
   "application/vnd.jupyter.widget-state+json": {
    "state": {
     "0259734c095043559b5096d301d71d0d": {
      "model_module": "@jupyter-widgets/base",
      "model_module_version": "1.2.0",
      "model_name": "LayoutModel",
      "state": {}
     },
     "13dd4d568a834a1daf7f7dcbc47848d0": {
      "model_module": "@jupyter-widgets/base",
      "model_module_version": "1.2.0",
      "model_name": "LayoutModel",
      "state": {}
     },
     "1b9a6890ff8d4115a00f7c99322c9bd3": {
      "model_module": "@jupyter-widgets/base",
      "model_module_version": "1.2.0",
      "model_name": "LayoutModel",
      "state": {}
     },
     "22ef76ac2b794814b707fcc42848600f": {
      "model_module": "@jupyter-widgets/base",
      "model_module_version": "1.2.0",
      "model_name": "LayoutModel",
      "state": {}
     },
     "2b1fe62efe3e42bc8fb6f3b5b097a3e6": {
      "model_module": "@jupyter-widgets/controls",
      "model_module_version": "1.5.0",
      "model_name": "ToggleButtonsStyleModel",
      "state": {
       "button_width": "",
       "description_width": ""
      }
     },
     "314a704ad8b2437cb3c3a01a99340032": {
      "model_module": "@jupyter-widgets/controls",
      "model_module_version": "1.5.0",
      "model_name": "ToggleButtonsStyleModel",
      "state": {
       "button_width": "",
       "description_width": ""
      }
     },
     "3b7601dcfa8741c68206a34a0f7ae0ec": {
      "model_module": "@jupyter-widgets/base",
      "model_module_version": "1.2.0",
      "model_name": "LayoutModel",
      "state": {}
     },
     "43739360f0a0478980e271aa9883a9e6": {
      "model_module": "@jupyter-widgets/controls",
      "model_module_version": "1.5.0",
      "model_name": "ToggleButtonsStyleModel",
      "state": {
       "button_width": "",
       "description_width": ""
      }
     },
     "4c737190b249491c935559c4f3c87d5e": {
      "model_module": "@jupyter-widgets/controls",
      "model_module_version": "1.5.0",
      "model_name": "ToggleButtonsStyleModel",
      "state": {
       "button_width": "",
       "description_width": ""
      }
     },
     "4d577cb6e9b64e21863b7f5eda6f4e20": {
      "model_module": "@jupyter-widgets/controls",
      "model_module_version": "1.5.0",
      "model_name": "ToggleButtonsStyleModel",
      "state": {
       "button_width": "",
       "description_width": ""
      }
     },
     "587b7aead1dc486ba77384c5677daf57": {
      "model_module": "@jupyter-widgets/controls",
      "model_module_version": "1.5.0",
      "model_name": "ToggleButtonsStyleModel",
      "state": {
       "button_width": "",
       "description_width": ""
      }
     },
     "5ec7eeffdebc473b86e6b29265e114f3": {
      "buffers": [
       {
        "data": "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",
        "encoding": "base64",
        "path": [
         "value"
        ]
       }
      ],
      "model_module": "@jupyter-widgets/controls",
      "model_module_version": "1.5.0",
      "model_name": "ImageModel",
      "state": {
       "layout": "IPY_MODEL_842065dfdd044bc3a1fb2d882ada0c70"
      }
     },
     "73d978808066494dad634fa08a5cbb2d": {
      "model_module": "@jupyter-widgets/base",
      "model_module_version": "1.2.0",
      "model_name": "LayoutModel",
      "state": {}
     },
     "82ea93d2e1be4c01892a83c16c23918c": {
      "model_module": "@jupyter-widgets/controls",
      "model_module_version": "1.5.0",
      "model_name": "ToggleButtonsStyleModel",
      "state": {
       "button_width": "",
       "description_width": ""
      }
     },
     "842065dfdd044bc3a1fb2d882ada0c70": {
      "model_module": "@jupyter-widgets/base",
      "model_module_version": "1.2.0",
      "model_name": "LayoutModel",
      "state": {}
     },
     "85631f87dd294668b56c675d5549092c": {
      "model_module": "@jupyter-widgets/controls",
      "model_module_version": "1.5.0",
      "model_name": "ToggleButtonsModel",
      "state": {
       "_options_labels": [
        "Choose gate",
        "bloch",
        "unbloch",
        "x",
        "z",
        "h",
        "cz",
        "cx",
        "ry(-pi/4)",
        "ry(pi/4)"
       ],
       "button_style": "",
       "icons": [],
       "index": 0,
       "layout": "IPY_MODEL_a793fff7b66f4ffe852384ca7ed33b65",
       "style": "IPY_MODEL_82ea93d2e1be4c01892a83c16c23918c",
       "tooltips": []
      }
     },
     "8bb9b77fd2f144af8f7596d356b7a9b1": {
      "buffers": [
       {
        "data": "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",
        "encoding": "base64",
        "path": [
         "value"
        ]
       }
      ],
      "model_module": "@jupyter-widgets/controls",
      "model_module_version": "1.5.0",
      "model_name": "ImageModel",
      "state": {
       "layout": "IPY_MODEL_73d978808066494dad634fa08a5cbb2d"
      }
     },
     "93e822060df94fc4bde3f5e7dc49ce8f": {
      "model_module": "@jupyter-widgets/controls",
      "model_module_version": "1.5.0",
      "model_name": "ToggleButtonsModel",
      "state": {
       "_options_labels": [
        ""
       ],
       "button_style": "",
       "icons": [],
       "index": 0,
       "layout": "IPY_MODEL_22ef76ac2b794814b707fcc42848600f",
       "style": "IPY_MODEL_314a704ad8b2437cb3c3a01a99340032",
       "tooltips": []
      }
     },
     "95100bdb3c6d4bdea0dff56f738ff059": {
      "model_module": "@jupyter-widgets/controls",
      "model_module_version": "1.5.0",
      "model_name": "ToggleButtonsModel",
      "state": {
       "_options_labels": [
        ""
       ],
       "button_style": "",
       "icons": [],
       "index": 0,
       "layout": "IPY_MODEL_9dc49e70e8f34eb3b0c9c6de5474e0f5",
       "style": "IPY_MODEL_e8b97d41efc443a685ebf801bf406302",
       "tooltips": []
      }
     },
     "9ad9234e34154c499bbd289145597ee3": {
      "model_module": "@jupyter-widgets/controls",
      "model_module_version": "1.5.0",
      "model_name": "ToggleButtonsModel",
      "state": {
       "_options_labels": [
        ""
       ],
       "button_style": "",
       "icons": [],
       "index": 0,
       "layout": "IPY_MODEL_a2cdd888a0964f588f5c04f9d20fbec6",
       "style": "IPY_MODEL_587b7aead1dc486ba77384c5677daf57",
       "tooltips": []
      }
     },
     "9dc49e70e8f34eb3b0c9c6de5474e0f5": {
      "model_module": "@jupyter-widgets/base",
      "model_module_version": "1.2.0",
      "model_name": "LayoutModel",
      "state": {}
     },
     "a2cdd888a0964f588f5c04f9d20fbec6": {
      "model_module": "@jupyter-widgets/base",
      "model_module_version": "1.2.0",
      "model_name": "LayoutModel",
      "state": {}
     },
     "a2f28dec82a74c3481fb6fded4ef04fd": {
      "buffers": [
       {
        "data": "iVBORw0KGgoAAAANSUhEUgAAAbAAAAGwCAYAAADITjAqAAAAOXRFWHRTb2Z0d2FyZQBNYXRwbG90bGliIHZlcnNpb24zLjUuMSwgaHR0cHM6Ly9tYXRwbG90bGliLm9yZy/YYfK9AAAACXBIWXMAAAsTAAALEwEAmpwYAAB9i0lEQVR4nO3dd3wc9Z3/8de0XfXeZVmWe7cx7t2AC9imt5AOpAdySS7JkUsuyV1IQi6XS7lfEggkIRUIYGMbbGOb6oIxuPfeZKv3ujM78/tjJbmoyytt0ef5ePDgYe3u7Fe7mnnPd+b7/X4UdclPHYQQQogQowa6AUIIIURPSIAJIYQISRJgQgghQpIEmBBCiJAkASaEECIkSYAJIYQISRJgQgghQpIEmBBCiJAkASaEECIkSYAJIYQISRJgQgghQpIEmBBCiJAkASaEECIkSYAJIYQISRJgQgghQpIEmBBCiJAkASaEECIkSYAJIYQISRJgQgghQpIEmBBCiJAkASaEECIkSYAJIYQISRJgQgghQpIEmBBCiJAkASaEECIkSYAJIYQISRJgQgghQpIEmBBCiJAkASaEECIkSYAJIYQISRJgQgghQpIEmBBCiJAkASaEECIkSYAJIYQISRJgQgghQpIEmBBCiJAkASaEECIkSYAJIYQISRJgQgghQpIEmBBCiJAkASaEECIkSYAJIYQISRJgQgghQpIEmBBCiJAkASaEECIkSYAJIYQISRJgQgghQpIEmBBCiJAkASaEECIkSYAJIYQISRJgQgghQpIEmBBCiJAkASZEH1IUjcjYjEA3Q4iwoAe6AUL0F4qqk547C1dELLWV+ZRe2BXoJgkR0qQHJkQfUFSdjEGzMdwxKIpKVFwmKdnXB7pZQoQ0CTAhepmqGWTmzcFwRaOqmu9nqk5kbDqpA6YASmAbKESIkgATohepmouMQXPRjSiUpvBqeUzViYhOJTVnKhJiQnSfBJgQvUTT3WTkzUV3RbYKr2aqphMRnUzawOmgyO4oRHfIHiNEL9D0CDLy5qLpbpROgklVddxRiaQPnN7pc4UQl8jeIoSfaXqkL7w0d8s9r86oqo4rMoG03JkoStdeI0R/JwEmhB/pRhSZg+eiaS4UtXu7l6rquCLiSR80q91LjkKISyTAhPAT3RVNRt4cVM3odng1U1UNwx1LxqDZKKpM0xSiIxJgQviB7oohY1BTeF3jfSxV1Zq2NxtVNfzUQiHCjwSYENfIcMde6nn5aRCGqmoYLT06l1+2KUS4kQAT4hoYEXFNPSUdRfHvXC5F1dCNSAkxIdohASZED7kiEsjInYXSC+HVrDnEMpuG5AshLpEAE6IH3JGJpOfObLps2LuraCiKito0KVrTI3r1vYQIJRJgQnSTOyqJtNwZqFrfjRJUVQ1Nc/t6YkZkn72vEMFMAkyIboiITiFt4HTUAAxxV1QVVXORmedbW1GI/k4CTIgual54NxDh1cwXYkbTGovRAWuHEMFAAkyILoiMSSc1Z0pAw6uZoqiomk5G3hwMV0ygmyNEwEiACdGJyNhMUgZcHxTh1UxRVFTV8IWYOy7QzREiICTAhOhAVFwWKdmTgiq8mimK0lTpeRauiPhAN0eIPicBJkQ7ouMHkJw1scsrygeCoiiomkF67kxcEQmBbo4QfUoCTIg2RCfkkJQ5Pih7Xm1RNYP0QTNxRyYFuilC9BkJMCGuEpM4iKSMcSETXs1UVSctdzruqORAN0WIPiEBJsRlYpMGk5g+OuTCq5mq6qQNnEZEdEqgmyJEr5MAE6JJXPJQEtJGhmx4NVNVndScqUTEpAW6KUL0KgkwIYD4lOHEpw4P+fBqpqo6qQOmEBmTHuimCNFrJMBEv5eQOoq4lKFhE17NVFUjZcBkomIzA90UIXqFBJjo1xLTxxCbnBd24dVMVTWSsycRFZcd6KYI4XcSYKLfSswYR0xibtiGVzNV1UjOmkB0fE6gmyKEX4X3nitEO5IyJxAdnx324dVMVXWSMsehKAo1FWcD3Rwh/EJ6YKLfSc66rl+FVzNV1UnMGEtMYl6gmyKEX0iAiX4lJft6ouIy+114NVNVncT0UcQmDQl0U4S4ZhJgop9QfMPKY9P7bXg1U1WdhLQRxKUMC3RThLgmEmCiH1B8E3ujU/t9eDVTVZ34lGHEp44IdFOE6DHZm0V4U1TScqbhjkqU8LqKqurEJQ9BUVQqig4FujlCdJv0wETYUhSV9IHTJbw6oKo6sUl5JKaPDXRThOg22atFWFIUjbTcGbgi4iS8OqGqOjGJA1EUhbKCfYFujhBdJj0wEXYUVSO9qUqxhFfXqKpOdEIOyVkTA90UIbpM9m4RVhRVJyN3Fro7JqgrKQcjVdWJissCVEov7Ax0c4TolPTARNhQVYOMQbMlvK6BqupExWaQkj0ZUALdHCE6JAEmwoKqucjIm4PhipbwukaqphMZm0ZqzhQkxEQwkwATIa85vHQjEkXCyy9UVSciOoW0nKlIiIlgJQEmQpqmu8nMmyvh1QtUVccdnUzawOmgyKFCBB/5qxQhS9MjyMibi6q7UeQA2ytUVccdlUh67gz5jEXQkb9IEZI0I5LMvLlomlvuefUyVdVxRSSQnjsLRZHPWgQPCTARcnQjisy8uaiaC0WVP+G+oKoaRkQc6YNmyaVaETRk7xchRXdF+y4baoaEVx9TVQ3DHUvGoNkoMkFcBAE5AoiQYbhiyMibg6rpcj8mQFRVQ3fFkDFoDqpqBLo5op+To4AICYY7jvQ830FTwiuwVFXDcEU1nUy4At0c0Y/JkUAEPVdEPBmDZqGqOooic5KCgaJq6EZziLkD3RzRT0mAiaDmG/0203fPS8IrqCiqiqZHkDl4DpouISb6ngSYCFruyETSB/nCSwQnVdVQNd98PE2PCHRzRD8jASaCkjsqibTcGVIOJQSoqoqmuckcPBfNiAx0c0Q/IgEmglJ0fA6yBl/oUFQVVTWIiEoJdFNEPyIBJoJKREwaA0cuxfTU4WmowLatQDdJdIFtW1RXnCUyJo0Bwxeju2IC3STRD0iAiaARGZNO6oApKKpGQuowGmpK8NSXS4gFOdu2qC4/g25EEhmbjqoZZOTNxnDHBrppIsxJgImgEBWbScqAyS3rGqqqTlzKEBrrymmsK5MQC1K2bVFdegqXO4aI6JSmqQ5qS3FRwx0X6CaKMCYBJgIuKi6b5OxJrRblVVWd2OTBeBqqaKgtkRALMrZtUVV6AndUAu6o5CsG3CiKgqLqZAyahSsiPoCtFOFMAkwEVHR8DslZE9pdUV5VdWKTBmGZddTXFEmIBQnbtqgsOUZEdAquyMQ2R4sqioKqGaTnzsIVmRiAVopwJwEmAiYmYSBJmeM6HSqvqjoxCQOxvR7qqgskxALMti0qio4QFZOBKyKh8+9P00nPnYE7MqmPWij6CwkwERAxiXkkZozt8jwvVdWJjhsAjk1d1QUJsQDxhdchouOzMSLiulyLTVV10nKn445K7uUWiv5EAkz0udikISSmj+r2JGVV04mKy0JRNGorzkuI9THbtigvPEhMwkAMd2y3C4mqqk7awGlERKf2UgtFfyMBJvpUXMowEtJG9HiFDVXViYxNR9Nd1JSflRDrI7btpbzgALGJeeiumB5XwVZVndScKUTGpPm5haI/kgATfSY+dQTxKcOueXkoVdWJiElDd0VRXXZaQqyX2baXsoJ9xCUPwXBF9Ti8mqmqTsqAKUTGZviphaK/kgATfSIhbRRxyUP8trahquq+EXARcVSVnpQQ6yW2bVF2cS/xKcPQjSiUawyvZqqqkZJ9PVGxmX7ZnuifJMBEr0tMH0NsUp7fF+ZVVR13VBIRUUlUlhyXEPOz5vBKSBuBpkegqP49XKiqRnL2dUTHZft1u6L/kAATvSopYxwxibm9tqq8quq4IhOIjEmlsviYhJif2LZF6YU9JKSNQtUirvmyYXtUVScpa2LT4s1CdI8EmOg1yZkTiU7I6fWSKKqq44pIICoug4qiIxJi18gXXrtJyhiDprlR/dzzupqqaiRljiMmIbdX30eEHwkw0SuSsyYRFZ/VZ/W8VFXDcMcRHT+A8sJDEmI9ZNsWpfl7SMoYh6q5/H7ZsD2qqpOYMYbYxLw+eT8RHiTAhJ8ppGRPJio2o8+LUfpCLIbYxFzKCw5IiHWT7bUoyd/tWx1FM1CUvj08qKpOQvooYpOG9On7itAlASb8SPHN8YlNQ9UCU0lZVTV0VzRxyYMpL9gvIdYFjuNge01KL+4mOWs8qqb3eXg1U1WdhLQRxKUMD8j7i9AiASb8RCEtZ2pLSY1AUlUN3YgiLnkYZRf3SYh1wHEcHNui5MIekjMnoKp93/O6mqrqxKcMJSF1ZEDbIYKfBJi4dopK2sDpuKOTAx5ezRRVQ3dFEp86gtKLeyXE2uA4DrZtUnphNylZE1BUHUVRAt0s4FIpnYS00YFuighiEmDimiiK6ltpPCopaMKrmaKoaLqbxLRRlEmIXcFx7KbLhntJzrqu6Z5XcIRXs+ZSOokZYwPdFBGkJMBEjymK5qv1FJHQa/OErpWqaqiam4S00ZRe2CMhxqXwKru4l5SsiQG7X9kVzaV0kjLHB7opIghJgIkeUVSN9EGzulVSI1BUVUXTXCRljO33IebYNrbXQ1nBPpKzJwZdr7ktqqoTHT+A5KyJgW6KCDISYKLbfKXiZ/eopEagKKqKqhlNIba7X4aYbdt4vY2UFRwgOSs0wquZqvpK6aRkTwp0U0QQkQAT3aKqBhmD5lxTSY1AUZTmEBtPSf5ubK8Z6Cb1Gdv2YnsbKC86SHLWhJAKr2a+UjoZpA6YDATX/ToRGBJgostUzUVG3hy/lNQIlOYQS86a4OuJeU0cxwl0s3qVY9t4rQbKiw43DZUPvfBq1lxKJzVnChJiQgJMdImqucnIm+PXkhqBoigKqqqTnDWRkou7cWwrbEPMsb1YZh2VxUdDPryaNZfSSRs4DQI8Z00Elnz7olOa7iYzb06vlNQIFEVRUFSdlMyJTQM7TBzHDnSz/Mq2vZhmHVUlx33LQ4X4icflmkvppA+cLiHWj8k3Lzqk6RFk5M1F1d1hdQCEpp6YZpCcNdE32dlrhU2I2bYXy1NLdekpEjPHhkXP62rNpXTSc2egKOH1tym6RgJMtEszIskcPLeppEb4HiBUTSclayJlBXub7omFdojZthezsZqa8jMkZowOy/Bq1lxKJz13poRYPyQBJtqkG9Fk5s3t05IagdR8T6ysYD+214Njh2aI2bYXs6GK2sp8EtJHhXV4NVNVDSMijvRBs1D6we8rLgn/I5PoNt0VTUbenICU1AgkX4hNoKzgAF5vI3aIhZhtW3gaKqitvkhC2oh+EV7NfKV0YskYNFtCrB/pP0cn0SWGO7YpvAJXUiOQmkOsovAQttWAbXsD3aQusW0LT3059TXFJKQO71fh1ay5lE5G3hxU1Qh0c0Qf6H9HKNEuwx1HxqDZQVFSI5BUVScpazzlxYfxWg1BfznRti0a68poqCsnPmVovwyvZqqqYRhRvoFHmivQzRG9rP8epcQVXBHxZDTdQwi2VckDQVV1kjMnUFlyDMuswwnSnphtWzTUluBpqCIueXC/Dq9miqqhG5FNIeYOdHNEL5IAE7giE0nPnRWUJTUCSVU1kjLGUVV6AtNTF3SXE23bor6mCMusIzZpkITXZRTVV0onc7Bv/qIITxJg/Zw7Mon03BlBXVIjkFRVIzFjLNXlJ7E8NUETYrZtUV9dgO31EJMwUMKrDb5SOr55jJoeGejmiF4gAdaPuaOSScudLge/TqiqRmL6GKorzmE2Vgc8xGzboq7qAo5jEx0/QL6/DjSX0skc7FsGTYQXCbB+KiI6lbSB0+Tg10WqqpOYNpLaqnw8DZUBCzHbtqitOI+iqETFZcn31wW+Ujq+hah1V3SgmyP8SAKsH2pezVsOft2jqjoJqSOory7EU1/R5zXFbNuipvwsmu4iMjZDvr9uaK5C0FwKSIQHCbB+JjImg9QBEl49pao68anDaKgtobGuvM9CzLYtqstOo7uiiIhJk++vB1pCLM9XjFWEPgmwfiQqNpOUAZPCel3DvqCqOnEpQ/DUl9NQW9rrIWbbFlWlJ3FFxBERnSLhdQ18pXSMporicYFujrhGEmD9RFRcNsnZ18nBz09UVSc2eTCmp5qGmuJeCzHbtqgsOU5EVBLuqCT5/vyguZROxqBZuCLiA90ccQ0kwPqB6PgckrMmysHPz1RVJzZxEJbVQH11IbbXvyFm2xaVxceIjEnFFZkg358fNZfSSc+dhSsyMdDNET0kARbmYhJyw66YYTBRVZ2YhBzf0PbqAr/1xGzboqLoCFGxGbgiJLx6i6rppOfOwB2VFOimiB6QAAtjsYl5JGaMkYNfL1NVnej4bMChrjL/mkPMti3KCw8THT8AIyJOTj56marqpA2cTkRUSqCbIrpJAixMxSYP6Tf1oIKBqupExWWiqDo1Fed6fDnRtr2UFx4gNnEghjtGwquPqKpO6sCpRESnBropohskwMJQXMowElL7Vz2oYKCqOpGx6eh6BDUVZ7rdE7Nti/KCfcQmDUZ3RUt49TFV1UnNmUJkTHqgmyK6SAIszMSnjiQ+ZZiEV4Coqk5ETCq6K4bqslNdDjHbtii7uI+45GEYRpSEV4Coqk7KgOuJjM0IdFNEF0iAhZGEtNFSUiMIqKpORHQyroh4qkpPdhpitm1RenEv8akj0I1IFAmvgFJVnZTs64mKywp0U0QnJMDCRGL6WCmpEURUVccdlUREVBKVJcfbDTFfz2sviWkj0XQ3iiq7ZDBQVY3krIlExw8IdFNEB2RvCQNJGeOJSZSSGsFGVXVckQlExqRRWXS0VYjZtkXphT0kpI1G1SLksmGQUVWdpMzxRCfkBLopoh0SYCEuOWsi0QlSUiNYqaqOKyKeqPhMKooOt4RYc3glZYxB01yo0vMKSqqqk5QxjpjEQYFuimiD7DUhLCV7kpTUCAGqqmG444iJz6G88CBeq5HSC7tJyhiLqrnksmGQU1WdxPTRxCYNDnRTxFVkzwlRMQkDiYrNlPAKEb4Qi8UdmcD5o+uJTx3hCy9FdsFQ4AuxMbJ2YpCRvSfEqKrCkplTyYxXsaxGHMcOdJNEFziOg+N4qa8uJDlzIlWlJ+S7CyG2bdFQW8KkYTlMHzc60M0RTeT0PYRoqspHb7mJ3MwMpoweyYtvbKHSHISuR8jQ6yDmOA6ObVFycTcpWRNRVA13dDJlF/eSlDleBm8EOV94lTI+02LG+OsAiImMYOP7OwPcMiE9sBChaxofX7aYgRkZGLqOYejcfeMsEjmLZdbhBKjEveiY49jYtknphT2kZE5EUXUURUU3IklIHUHZxT19XtlZdJ1tWzTUFHPdAIcZ40fjMgxchsH08WNYPGNKoJvX70mAhQBD1/jk8iUMSEvFZeiX/VznzvkzSNHzMT212BJiQcVxbGyvb5JyctZEVM1AURSgqTqw7iYhbRSlFyTEgpHttaivLmTKIJ2pY0bgMoyWx1yGwZQxI1k6Z3oAWygkwIKcS9f59K03k5WafEV4NTMMnVvnTCfDXYDVWCMhFiR84WVSVrCXlKyJqFrr705VNTTNTVL6GAmxIGPbFvXVF5k5JIJJI4deEV7NXIbBdSOGceu8WSgBaKOQAAtqbsPgwduXkp6chKG3f7vSZegsnTWVAdHFmI1VEmIB5tg2ttdDWcH+TguJKqqKqrlIyhhL6YXdEmJBwLYt6irzmTMilvHDB7cZXs1chsH4YYO544a5EmIBIAEWpCJcLh66YympifEdhlczl6GzePpk8mIr8DRUyIEwQGzbxuttpKzgAMlZE7o0zcEXYgZJGeMlxALMti1qK86zYEwiY4bkdhhezVyGwejBudy9cH7LJWLRNyTAglCk28Vn7lxGSnxcl8KrmcvQuXHqRIYn1uCplxDra7btxfY2UFF4qMvh1UxRVFTNt3RRaf4ubK/Ziy0VbbFti9ryMywcn8LIQTldCq9mLsNgRG4O9y1agCoh1mckwIJMVEQEn73rVhJjY9G7EV7NXIbBvOvHMzq1nsa6cgmxPuLYNl6rgfKiwyRlje/RBHNFUVFVg+SsiZRc2IPtNXEcpxdaK65m2xY1Zae5eVIWwwZmdyu8mrkMg6E52XxkyU2oqoRYX5AACyIxkZF87q7lxMdEo+s9nxvkMgxmTRzLhEyThtpSCbFe5theLLOOypJjJGd2r+d1NUVRUFSdlKwJLQM7JMR6l21bVJed5NZpOeRlZ/QovJq5DIO87Ew+dssiNFkirNfJJxwkYqOj+Nzdy4mNjkLXrn1iq8swmDZuFNfnQENNsYRYL7FtL6anjqrSEyRljPPLpOTmEEvOmkhZS09MVu3oDbZtUV16nDtn5JGTnn5N4dXMZegMzEjnE8sW+2VfFu2TAAsC8THRfO6uW4mJjPTrH7zLMJg8ejhTB+nUVxdKiPmZbXuxPDVUl58kMWOsX1fUUBQFVWsKsYt7JcR6gW1bVJcc5e7Zw8hOTW1zmkpPuQydAWmpfOrWJRjXcDVFdEwCLMASYmP43F23Eh0ZgdYLZ2suw+C6kUOZNTSSuqqLEmJ+YttezMZqqivOkZg+pteWg1I1neTsiZQV7POFmC0h5g+2bVFdfIR7540iMyUZw4/h1cwwdDJTkvn0rbfg6sH9bNE5CbAASoqP43N33UpkhLtXr5e7DINxw/KYNzKOusp8CbFrZNtePA2V1Fblk5g2stcrAqjNlxML9mN7PRJi18gXXof4yA1jSU9K7NZI3+4ydJ305EQevH0pbj9cnhRXkgALkJSEeD5753Ii3a4+udnrm6sykBvHJlFbcU5CrIds28JTX0F9dSEJqSP6rJyNL8QmUFZ0EK+3USar95AvvA7y0ZsmkpLQtTmW18rQdVIT43n4jmVEuFy9/n79iQRYAKQlJfCZO5cR4TL6tBKvyzAYnjuARRPSqKk4IyHWTbZt0VhXTkNtCfGpw/q8Fpuq6iRnTqCi8BBeKaXTbbbtpbr4AJ9YdD3JcbF9El7NDF0nOT6Wz9y5jEi3u8/eN9xJgPWxjOQkHr5jGW6jb8OrmW+uShZLJ2VTU3ZKQqyLbNuioa4UT305cSlDAlZIVFU1krLGU1l8BMuslyoEXWTbXmqK9/GpxVNIiI3p0RzLa6XrOolxsXz2ruVER0b0+fuHIwmwPpSVmsxDt9+CK0Dh1cxlGAzKSufWablUl52UEOtEc0kNs7Ga2OTBAa+Craq+FTsqS45JiHWBL7z28umbpxEXEx3Qoe26phEfE81n71xOTFRkwNoRLiTA+khOeiqfvvUW3C5XUCw14zIMctJTuWvmYKpLj0uItaO5pIZlNRCbOCjg4dVMVTWSMsZSVXpSSul0wLYtaov38uAtM4mJ8s8cy2ula5pv3uddtxIbHRXo5oQ0RV3yU5nm38tyM9P5+NJFPZ4k6TgOeBvAa4LjBdsCRQFFB1UDPRKlhwdW07IoKCnjn+8eJjZleNAcoIOBbVvUVRXgOF6i47OD8rOxbYuKwoPEJOSiu2OkuvNlbNuirngvDy6dTVSEu8fTVByvB7yNvv2u+URB1UDVQXOjaD0bmOH1eqltaOT3L6+msqa2R9vo7yTAellediYfvfmmLoeX4zjgqcapL8KpLcKpuQANpb7gUlRAafqv+WtzwLbBiEKJSkOJyUKJTIWoFBStazeLTcuiqKyC59/aT2xq7w8LDwXNJTVQVKLiMoP6M7Fti/Kiw8TEZ2O44yTEaKrnVbKPB5fO7tY0Fcesw6krxqkrvLTveRuv2vfAt/854NiguSEyBSU6EyUqHSUqFcXoWs/Ka9vUNzTy+5fXUF5d3ZNftV+TAOtFQ3OyuX/xjZ3O8HccB6cmH6doN071+aZ9RAG7ByuSK6qvZ+ZYoEegJI1GTRmL4orp8GWmZVFaUcnf39hDbOrooD5g9zbbtqipOIemuYiMTQ+Jz8K2LSqKjhAVl4krIi4k2txbbK9FQ9leHlw6l0i3q9P7zU59CXbRXpzK474elqI17XvdPTQqoBq+k01VQ4kfipo2HiUypeP22jb1jR5+v2INZZVV3XzP/k0CrJcMz83h3oULOgwvx6rHLj2EU7wHvJ6eBVZnlKaz8ehM1LTrUOJyUJS2d2jT8lJeVcVfN+4kNnVMvzwI2rZFTflZdCOSiJjUkPoMbNuisuQ4kdEpuCITQqrt/uA4Do5t4Snfz4NL5+LuYJqKY1s45cexi3ZBY6UvdLodWJ1RfPufO9637yUObfdSv23bNHhMnl6xhpKKSj+3I3xJgPWCUXm53HXjvHbDy6kvwb74Pk7VGUDx9Zb6gmqAoqGkjUdNvQ5Fa31Z07K8VNTU8JfXPyAm1b/r+wU736rkpzDccUREJ4dkANi2RVXpSdyRibijEkPyd+iJ5vAyy/fx6WXz2p2m4pg12AUf4JQdpsdXOXpCNQAHJWkkasZkFKP1FRHbtmk0TZ5Z+RpFZeV9064QJwHmZ2OH5HH7gjlthpdjW9gXt+MU72064wsQRQPNhTpoEWpsTquHLa+Xqppanl3/flOIhf9B8NKBPwF3VFJI/87hEMTd4TgOtm1hV+znU8vm+aapXDXS13Ec7NKDOPnv+u4ZE6hJ4CqoKkr2HNTk0a0qONuOg8c0+cMrr1FQUhagNoYOCTA/mjBsCLfOn9XmDH+n5iLe0+vBaui7HldnFB0lYTDqgHko+pUDPiyvl5q6ev60dhvRqePC+iAYjpfefJdCz6AbUSF3KbQ7HMfG9lo41Qf41C3zcLexVJPTWIn39Ou+ARnBMl1E1SEiGW3QIhR3/BUP2Y6DaZr8cdU6LhSXBKiBoUECzE8mjRzOLbOnt+p5OV4Pdv5mnLKjwRNcl1N8w4HVgTeiJgy+4iHfMN8G/vDq1rANMdu2qCw6SmRcOq6I+LD6HUNxMEp3+MLLRKk+xCeWzmu1WK7j2NhFu3Euvt9L97iule8emZI5FTVtYqt7040ekz+vWc+5wqIAtS/4SYD5wdQxI1k0Y2rr8Goox3tshW8YbiAvGXaFqqPED0bNvemKHcnr9VLX2MgfXt1CVEp4hZhv5N5hosN4+LlvOsAFUJSgnw7QHY5tY9smWu1hPn7z3FbTVByrAe/xV6ChPDhPHC+n6BCRiDb0NhT9yiWmPKbJX159nTMXCwPUuOAmK3FcoxnjR7cdXrWFeI/8E6y64A8vANvCqTiJ9/gqnMsus2iaRlREBA8vm019yd6wWbHDti3KCw8SE58TtuEFvmWnouKzAIXaMCml49g2tteDUddOeHlq8B55vmn+ZAj8vo4FDaV4j7yA46m54iGXYfDxpYsYnJ0ZoMYFNwmwazB74jhunDq5VXjZ1efxHl8BtidALeshx4Lai3iPvuhbfaCJpqpEut08vHwuDaV7sb0hcFDogG1blBccIDZxUL9YvUJVdaLiMlBVnZoQL6Vj21683kbcjUf56JI2wqux0hdenhrfJONQ4djgqcZ75HmcxiuH0bsMgwduvomhOdkBalzwkgDrofmTJzJ/8sTWPa+aC9gn1gTPzeLucrzQUI732Eqcy4YYq6pKhMvFw8vm4SlvLnEfelefbduirGA/cclDMFzRYR9ezVRVJzI2HV2PoLo8NEvpOI6N12ok2jzOA4va6nlV4z36om+gVNDd7+oKB6wG3wmk58pVOVyGwf2Lb2REbutRw/2ZBFgP3DR1ErMnjmu9A9UW4j2xKjQuW3TE8fouaRxfdcVK56qq4nYZPLRsPmbFft9k0BAKMdv2UnZxH/Epw9CNSJR+El7NVFUnIiYVlyuG6tLQKqXj2F4ss554+xT33TQH4+oTR7M2xMOr2WUhZl65PqLL0Lln4QJG5eUGqG3BRwKsmxbPmMr08WPauGnciPfE6tDteV3N8UJdEfaFLVf8WFVVXC6Dh5bNw1uxHztEQswXXntISB3RL8OrmarquKOTcUUmUFV6IiRCrDm8EjnLXTfMah1ejoP35Gtg1hHa4dXMAbMO78nXWu1bLkPn7hvnMXZoXoDaFlwkwLph6ZzpTBkzos2Fee1zb/TdrP6+4nhxSg74FjW9jKoouF0uPr1sPlTtb7qcGLz3G2zbovTCbhLSRqHq7naX0uovVFXHHZVERFQKlSXHgjrEbNuL6aklRTvPHfNntLlAgF282zdgIyzCq5kD9aXYxXtaPWIYOrfPn8OE4UMC0K7g0r/35C5SgFvnzeK6EcPaDq+KkziVZ0JjtGF3OV68p9ZdMaijmdtl8Kml81FrDgZtiPnCaw+J6WPQNHe/uefVGVXVcEUmEBmTTkXRkaAMMdv2YjXWkOEu4Na5redYgm+qinNhe/hc+bicY+FceA+nofWyUi5DZ/ncWUwaOTwADQseEmCdUIA7bpjL+GGD2wwvx6zDPrMx9O97dcTbiH3+nTYfchkGn7hlHlrdIWyvB8cOnhBr7nklZYxF01woAayCHYxUVcMVEU90fDYVRYeDKsRs24vZWM2AqGKWzmo9TQWaBnWcWhueJ47NHC/eU2vbPDl0GTq3zJ7O1DEjA9Cw4CB7dAcUReHuhfMZPTi37fByHLxnNoTn2d/lHK9v5e7KM20+7DIMPr5kPq76o3i9HuwgCLFL4TUOVTMkvNqhqhqGO5aYhBzKCw8GRYjZtoWnoZJBseUsntF6mkrL8wp2gKeK8Lp0eDUHPFW+37UNLkNn0YypzBw/po/bFRxkr26Hqijct2gBI3Jz2i1G6VSdhtqLBG5h0D7kWNhnNuC0c7brMnQeWDyXSM8xbG9jQEvc216TkvxdJGWO94VXP7/n1RlV1dBdMcQm5lFecCCgIWbbFp76CoYlVnPT1NbTVJo5jVU4hTvD/+QRfIsMFO7E8bRdK8xl6NwwdRJzrhvXxw0LPNmz26CqCh9ZciNDc7I7rKRsF+zoHztQM8eLU3Gy3Yddhs5HFs4hxjyB12rs83tijuNge01KL+wmOWsiqirh1VWqqmG4oohLHkJZwf6AnIDYtkVjXTmjUuqZf/34jve94t0QAqNf/cZxsItaD+ho5jIM5l0/kQWTr+vDRgWe7N1X0VSVj92yiLzsrA53IKe+FOpL+7BlQcA2sQs/6PAphqFzz02zSbBPYXnqrphH1puaS2qUtISX3qpUheiYomroRhTxKcMou9i3y4bZtkVDbSnjM0xmXze2433PNnFKD9Evrny0sHFKD16xzNvVXIbBrIljuWna9X3YrsCSALuMrml8YtliBmakd1hJGfBVcg3CUXe9rqESp664w6e4DJ27bpxFknoO06zr9bN5x/Et7Fp2YQ8pWRObLhtKePWEoqroRiQJqSP6LMRs26KhpphJOQ7Tx4/qMLwAX2WHfsop7/h3dxkG08eNZsnMqX3UosCSAGti6BqfunUJ2WmpnYaXYzXilB8jvG8et8Px+sK7E4auc8f8GaQZF7A8tb0WYs0lNcou7PX1vNqoMi26R1FUVN1NQtooSi/s6dUQs22L+upCpg7SmTK67TmWl3McB7vww/Cbc9kVtold8GGnCwe4DIPJo0ewbM6MPmpY4EiAAS5d59O33UJmcnKn4QVglx7EN8C+P3JwKk7gWPWdPtPQdZbPnkZWRCFmY7XfQ6wlvAr2kZw9EVULj1IhwUBVNTTNTVLGGEov7O6VELNti7qqi8waGsF1I4d2Gl6Ab9BUF/72wpZV1zRwrGMuw2DiiKHcPn9WWB+p+n2AuQ2DB29fSnpSYqslatrjlOwL73lfnVJwKk506ZkuQ+fmmVPIiS7BbKjyW4g5to1teSgr2N9yz0v4l6KqqJqLpIxxlOb7N8R8dcrymTcylnHtzLFs83Ul+/tn76uZbfo+gy5wGQZjhw7mjhvmhm2I9esAi3C5ePiOZaQmxmPoXQwv2/SVaujPHAun+nyXn+4ydBZPn0xeXAWehoprPhA2l9QoKzxActYECa9epCgqqmaQlDme0gu7/FJKx7YtaivOccOYpHbnWLbH6ULvI9x15zNwGQajB+dy98L5YXlfuN8GWKTbzWfvXE5yfGyXwwuA+hKQAyZObfcqxLoMnRunTmR4Ug2e+p6HmOPY2FYjFYWHpOfVR3whppOUOYHSi7uvqZSObVvUVJxh0YQ0Rgwa0L3wsk3w1Hb+xHDnqb2i1FFnXIbBiNwc7l98A6oaXiHWLwMsOjKCz921nIS4GPTuhBfg1BaF99I1XWXW4ni7dynHZRjMmzSeMWkNNNaVdTvEHNvGMuupKD5CUtZ4WdewDymKiqoaJGdOoOTCnh6V0rFti5qyU9xyXRZDczqeptKmOjl5BHyfQV1Jt17iMgyGDMjigSU3oYXRqjTh85t0UUxUJJ+9czlxMdHoWvcPgE5NvgQY+Hai+u7tRODbkWZOGMOETIuG2pIuh5ivpEYdlSVHfStsyIGszymKgqLqpGRNaBnY0dUQs22L6tIT3DptIHnZGd0PL8Cpk5NHwLegQF1Rt1/mMgwGZWXwsaULwybE+tVRIDY6is/euZzoyIgehReAU9f60tl///d/U1vbt5c2CgoKSE9P79P3rKmp4X/+5398/3C8OHWFKDGZ3d6OyzCYNm4UunaUHWeLiIxJ6zCQbNuL5amluuyUb21D6XkFjKIoKJpBctZ1lFzcRXLGBFRN73DFE194HefOmUPJSk3uUXgBODXnWwVYv933avIhbUK3t+MyDHLS0/nk8sX8ec3rWN7QPiEIjxjugviYaD5/163EXEt4ec2monlX6usdCOjzHQggJibm0j8cL05Nz2+ouwyD60cPZ3qei/rqgnZ7Ys0lNWrKT5OYMUZ6XkFC1XRSsq7zTXbuoJSObVtUlxzlntnDyU5L6XF4AW1OoO+X+x70qAfWzGXoZKem8qlbb+7e/f8g1C8CLDE2ls/ddStRkRFoPQwvAOxGUOTsv1lX5oJ1xDdXZQizh0VTV3Wh1Qi35pIa1ZXnSEgfLeEVZFRVJzl7ImUF+3whdlUVAl94Hea+eaPJSEm69oNlGzXp+q1r/CwMQyczJYkHb7u5S3Nfg1XYB1hSfByfvWs5kRHua7/ua3shDIei9pgf5gX55qoMYsGoeGqr8lt6YrbtxdNQSW1VPolpIyW8gpSq6iRnTaSsYD/ey+rB2baX6uJDPLBgHGlJCf4505f7X5f4YRk7Q9dJS0rk4duX4naF5go2YR1gKQnxfPbO5US6Xf65admfVp7vCj9N5nYZBiPzBnLT2GRqK87iODae+nLqq4tISB0h4RXkfCE2gfKiA3i9jTi2l+qi/XzspokkJ/gpvKB/rj3aHj+FuaHrJCck8Jk7lhHhcvllm30pbAMsLjqaz9y5jAiXgeq3ETfS+7qS/z4Pl2EwPDebG8amUHhmG3XVhcSnDpXwChGqqpOcOZHSi3spOLOFTyyeTFJcHIbuz0vusv+18OOVIEPXSIqL5bN3LQ+5yc5hG2AAir//4FWdfrmAb3t6YTSgpiqkx+mE2XzLfsLBrSskRWu+A6G/v0Op7XaJ3z8L39Ey1Ha7sP2LqKqt5fcr1tDoMf1X4l7V+lcRvc74sXfkMU1OnL9AZW0tD952M3fMGk516YmgKHEvOmfbFrXF+3ho2Vw+e+cytuzeS3lVNZblx+9PAuwSP34WlmVRXl3NUy+vxg6x41tY/0UUl1fw1IrVNHg8/gkxLUIC7DKKEdP5k7rAY5ocPXOe6to6Jo8agaqqDEhL5a5ZQ6kuPSYhFuSaw+vBpTOJjYpE1zRunjWd7fsOUFpZhemvENMj/LOdcKD557MwLYvSyip+//Ia6htDb5RnWAcYQGlFFU+9tJr6xka81xhiiqqBq/VBOzo6+pq22xOFhd1bi9AfamouW8RY0VFisq55mx7T5NCpM3hMk4kjLpXUcBk6WanJ3DtnJNUlRyXEgpRtW9SV7OOhZbOIjrg0TcXQdRbNmMbOQ0cpLq/0S4gp0RmtftYv9z3a/iy6y7QsissreHrFqzR4Qi+8ABR1yU/7RZciITaGz9y5jCi3+5rmgnlPv95pVdR+QTXQht2BEpXW4014TJP9x0+haRqj8ga2OcnVt5NV8tyb+4hNleH0wcS2LepL9vLQsjlEuNuepuIxLd7csZMxQ/K6VbKozfcr2Y99fnM/L2UEKDrqgNmoKWN7vAnTsigoLePZVevw+PMybx8L+x5Ys4rqGp58cTW1DQ14r2H5FCUmGxQ5iGJ7ISK5xy/3mCa7jxzHZRjthhf4zuRTE+P56I3jqS4+JD2xIGF7LRpK9/Lw8rlEthNe4OtJL5gyiUOnznChpBTT7Pn3p0SlyTxMAEVBier5aiAe0+JCcSl/WrU2pMML+lGAgW9gx5MvrqK6rr7Ha4DJTtTEHee7pNoDHtPkg0NHiI2OYnhu5yU1DF0nOT6Ojy+8juriAxJiAeQ4DrbXxFO+l4eXzSPC5ep0morL0Jl3/QROns/nXFExnp6GWESyTGYG32cQmdSjl3pMi/NFRTy7eh2mFfqfZb8KMIDqunqefGkV1bV1PQuxyCTZiQAluvuL+IIvvN7ff4jUhASGDOh6SQ1d10mMjeWTi6c0hZh8B33NcRwc28Ks2M9Dy+bj7sYcS5dhMGviOM4XFnG2oKBHIea7Bx3X7deFHVc8Sg+WtPOYJmcuFvCXMFjEt1m/CzCA2voGnnxpNZXVNVjdPAtRFA3cib3UshChGiixA7r9Mo9psW3vATJTU8jNTO/2wq66rhEfE82nl0ylpnifhFgfchwH27bwVuznoWXzcPVggQCXYTB93GiKSso5lX8Bj9m9enJA099df74CoqDEZnf7VR7T5FT+Rf62dsM1D2YLJv0ywADqGhp46uXVlFVVdbsrraZNBDU01w7zDwclYXC3XuExTd7duYfczAxy0tN6vCq5rmnERkfx4M3TqS3ZK5cT+4Dj2NheE6oO8Oll83G7XKg9vIzuMgwmjx1JeVU1x8/ldzvE1JSx/XtBbUVDTRnXrZd4TJNjZ/P5x7pN2HZ4jdnrtwEGUN/o4fcr1lBa2b1hvkrisF5sVbBTUZJGo3QjwD2mxVsf7mZ4bk5TSY1rGwSjaxoxUZE8eMss6kr2SYj1oubwUmsO8qml8/yy6KvLMJg0aji19Q0cOX22WyGmRKZARD++AhKZhBLZ9cFTHtPkyOmzvLDhzZCbpNwV/TrAABo9Jk+vWENRWUWXQ0xRdZT+eiaoKL4eaBd5TItN73/AmMF5/imp0UTTNKIjI3ho6WzqpCfWKxzbF15a3SE+ccu8a6rldTWXYTBh+BAsr83Bk6e7FWJqxuT+eQVENVDTr+/y0z2myf4Tp3lx49tdrpwdavp9gIHvIPuHV16joLSsyyGmpna/GmpYiM5EcXftRrppWbz+3g6uGzHMfyU1LqOpKpERbh5eNpeGUumJ+ZNt23i9Hlz1R/j4kvl+Da9mLsNgzJBBqKrK3mMnuxxiSnxePz151Hy/exd4TJM9R0+w8s13w3r1VgmwJqZl8adVa7lQXNKlHUlxxUBM92+mhrRunAF6TIu1W7YzdcxI/5bUuIqmqkS6XTy0bC6NpXtbFcUU3WfbXmxvI5GeYzyweG6vFjx0GQYjBw0kyu1m1+FjXdv3FBUlbUL/CjFFQ0mbiNKFNRA9psnOQ0dZ/c7WPmhYYEmAXca0vDy7ej3nC4u7tCNpmVP616RmPapLow9N0+K1Le8xc8JYkuJi/VxSozVVVYlwGTy0fB6e8uYS9+F83tl7HMfGazUSY57gIwvn9Em1XpdhMHRgNvGxMew4cLhL+55vMEc/Go2oKKgpYzp9WvM0lde2bO+DRgWeBNhVLK+Xv7z6OmcuFna6IynRmShJw/vHmaCio+Ut6bRekMe0WPPuVuZeN56E2Bj0Xup5XU1VVdwuFw8tm49VsR/HtiTEusmxvVieehLsU9xz0+xrWvapu1yGweDsTNKSEnlv38HO9z09EiV7rl8rIgQtVUcZMA9Fj+zwaR7TZOue/bz+3gd91LDAkwBrg9e2+dvaDZw43/lcFXXAnPBfJVvRUdKvQ4lK7fBpHtNi9TtbWDBlEvEx0ejXsOZkT6iKgstl8OCyeXgr92HbJo5U8e0S2/ZimXUkqWe568ZZfdLzuprLMMjNTGdAehpbdu/vfN9LHgXRmYT3YUyF6EzUpJEdPss3TWUvb+zY1UftCg7h/M1fE9t2eH79Gxw7e77DHUlRDbS8m8P4UqIC7jjUjCkdPstjWqx6ewsLp08mJirymhZMvhaqouB2ufj00gUoVQewvZaEWCds24vlqSVFv8Ad82f02v3KrnAZBgPSUhg8IIt3du7peN9TFLTcheHdC1N1tNyFHV758C2YvIu3d+7pw4YFBwmwDtiOwwsb3uLwqY7nqijRGSip48IzxBQNLe/mDm8ee0yTV97ezOIZU4iOiOjznldb3C6DTy6dj1Z7sOmemIRYW2zbi9lYQ2ZEIbfOmRbQ8GrmMgyyUpMZMWggb+7Y1eGyU4oRhZp7Y3iGmKqj5t6IYkS1+xSPabFx+wds2bO/DxsWPCTAOuE4Di9tepv9x091GGJq5nRwRRNWy9woOkrWNJQOJo56TJOVb23m5lnTiIqMCFjPqy0uw+DjN89DrzuM7fXghNESOv5g217Mhipyoou5ZeaUgFw2bI+h62QkJzFu2GA2bv+gwxBTE4agxOWG171oRUOJy0VNGNLuUzymxfqt23lv38E+bFhw6Tf1wPxh+dyZTBg+pN05MY6nCu+Rf4LVAKE++0LRURKHog68sd3LF40ek5VvvcvyuTO7tCr55RzbCw2lOHXFOLUXcepLfXWebC84tq9kuqKBqqG441Gis3z34CJTUDRXt34Vj2nyj9ffpcE9DFVzd3sNv3Bk2xaehkoGx1Vx49Truh1ejlmPU1+EU1cMNRdwzFrfIteO11e1vOm7Q3WhRKWhRKf7vj93QpeGgjdrrhj8wcEjLJrefsg6XhPvsZehoSz0F9tWNIhIQht+Z7sr3nhMi1c3b2PX4WN93LjgIgHWTUtmTWXyqBHth1hjhS/EvI193DI/UnSU+EGogxa3GV6242CaJivf2sKtc2d2aVVyxzZxyk/gVJ3BqSsET43vAOc4XStQqGi+/2wL9AjfwTA2BzVxBIrR8egs8O3wz298lzpjSFOIhdHZejfZtoWnvoLhybXMmzS+S5OUncYK7LKjODX5UF8Ctum7ZG5bQBd6ts0HYsfrC7HoDJT4wShxAzsNNNOyKK+q4b29+1kya3oHIebBe/RFaKzwnQSFIkUFdwLa8LvbPVEzLYtX3trM3mMn+7hxwUcCrAcWTp/MtLGj2g+xhnK8R19qCrEQ+3hVHSVuEOqgRW0eWGzH8d3zemsLt83zjVbrKLyc+lLs4r04ZUd883bs7q9A3q6mS0ZK3EDU1IkQk9Xpze4XN22hShuErkei9MOemG1bNNaVMTbdw8wJYzoML8fx4lScwi7a5Qstx6FLYdVVquG7VJY6DjVlDIoR0+5TLctLZU0N7+zay9LZM9oPMasB77EVTSEWYj0xRfOF17A7UNoZ2ewxLVa88Q4HTp7u27YFKQmwHrphynXMnDC2g8uJ1b4QM+vw607fm1QdJWk06oA5bfe8bJtG02TVW1u4bcFsXIbR5qrkjm3hVJzALtwJjZVNB5Je/jNTDdBcKKkTUZNHtXsAME2Ll97cSgUD0Y3IHhflDEW2bdFQW8LELJtp4zo4AWuswi7Zi1NyEHD8e9LRluZ7V9FZqOkTUWIHtvn3Z3m9VNfW8eYHu1g2Z2bHlxNProbaoq717oOBokN0Gtrg5Sha+5cNX9z4FodPn+3jxgUvCbBrMHfSBOZ2cAnGserxnljtuy4f7Ov0KRpK5jS09EltPmzbNg0ekzXvbOW2+bPbXZXcrjyNfWajL7R6+8DXFkUHBZTMGaip49s8EJqWxcq33qPEm43uiuoXlxNt26KhpojJAzWuHz28zb9Zxzax87filDYFVyAuw6kGGDFoeYt9K89fxfJ6qa2rZ+P7H7J8bvvz1RzHi31mE07FyeAPMUVHSRjsG3HYzkAUj2nx/Ou+aT3iEgmwazRrwlgWTJnUwY7kYJfsw7mwFWyboOuNqTq44tAGLW63TINt29Q3enj13W3ctmA27rYOflY99tk3carOdvuAYRgG3/72tzt8zo9+9CPM7tSOUnXf5ZhBi9scRekxLdZsfp9CTzq6KyasQ8y2LeqrC5g+OIKJI9oehGRXn8c+/brvsnc3L731yvenaChpE1AzprXqJXu9XmobGnl92/vcOm9Wh5dB7aoz2Kc3+E6mgu2SoqKBZqDmLkSNy233aR7T5B/rNnHi/IU+bFxokADzg2njRrFwWsfDkB1PNd4zG6CuKEh6Y0pTr2sqageLhHptm/qGRl7b8h63z5/d6mDhOA5OxXHss29eGoXWTd///vf9+rxLFFBUlPTJqBmTWp3dekyLtVt3kF+fiuGODcsQs70WddUXmT08hnFDB7X+/ryN2Ofewak40eOeSq99f4oOeiRa3iKU6MwrHvJ6vdQ3eli75T1ua+Pv8nKO14N9fjNO+dHg6Y0pOkrScNTs2R2OqvWYJn99bQOnLxT0YeNCR/+7i90Ltu87xLqt2zuecOmKRRt6B8qA+S03rwNGNSAqFW3UR9DSJ7UfXl4vdfUNrN2yve3wshrwHn8F++wmsD3Bd4aLA44Xp+hDvIf+gdNQfsWjLkPn5plTyI0uxWyowraDrf3XxrYtaqvymT8qrs3wsqvO4T3wZ5yK48FzYL+cY4FZjffYK3jPvXXFZHRN04iMcHPL7OmsfHNzxwsNaC603BvQht4KRnRgJz2ruu8S6dBb0Qbe0Gl4/XnN6xJeHZAA85MPDh5hzbtbMTsKMUVBSx6JNuYTKOnXgx7Zh4X5muZVRWeg5i5EG34Piju+3WdbXi819Q2s37aj7fDy1OA98jzUXAiSHmUHbAsaK/AeeQGn9sqDgcvQWTh9EoPjK/E0VIRNTTHbtqitOMdNY5MZlTew1ffnLT2MffLVHl0y7HOOhVN6GO/xVTiX3Vf1ldJxs2zuTFa+uZlGTycLAMdkoY3+OEr2bHDHNwVZXyw8oLRc0laz56CN/hhKTFaHr2j0ePjTqnWcLSjsg/aFruCZeh8Gdh85jtdrN13SaP+jVfRItMypOBmTcarO+YYp1170Pejvg4lqAApK8mjfoIYuFKNsGe21Yxe3zZvValVyp6HcN2k01CZs2ybe4ytR826+4p6DyzC4YcoE9F37OFJi44pMRA3hpYls26Km/DQ3X5fF4AGZrcOrcCfOxfeDs9fVHseC2ot4j76ENvT2llGmzaV0ls+bycq33m25nNjW6FjwVVPXUsZCylicukLsoj2+y6co/v88FB1wUBKGoKZNQIlK7/QlzdNU/vjKWi6WlPq3PWEodPfSILXv+Em8tpe7bpjXaTkKRVFR4nNR43NxPDXYJftxKk/4hp43X2Ls1kg+1Xem51i+4IpMRU0ZixKf1+Xh4pbXS2VNLe9+uIfl82a2WhvPaajwTRYN1YnatoV9ci0MvgU1bmDLj12GwdzrxmHsOcC+wlLcUckhGWK2bVFTdpKlkwcyKCs9PMKrmeOFhjK8x16+YqKvqqq4DYPb5s3mlTc3t5xAdja5XolKRxu0yHcfsOwITtlhqC9rerAHcxZVo2muHBCZhJI0EjVpBIrm7tLLbdvGY1o888prFJaWde+9+6nQ20NDwMGTZ/Dab3LvTQu6XFNJccWgZU2HrOm+a/0NFTj1xTi1BTi1Fy/Np7piaLPi29E0N0SmosT4lltSIlM7XAC0PZZlUV5dw7a9+7llTutVyR1PFd5jIRxezRwL+9RrKEOWo1xWVdtlGMyYMAZt/2F25ZcQEZ0SUiFm2xbVZSe4fVoeA9LTWl0F8BbvDd3waubYvsvBx1agDbuzZc6Uqqq4XAa3L5jNyrc2c+vcWV1aIQZA0dxoqeMhdbyvhpxZ3bTEWRFO7YWmaTBm62kFiuoLrYgk31Jn0Wm+FWKM2E7r5l3Ntm0aPSZPr3yV4vKKbr22PwudvTPEHDl9judef4P7Ft3Q7XXmFEX1ncFFJkHSiCsec5ym+TmK0q015TpjWhZlldW8f+AgN8+a3jq8vCbeoy+DFeLh1cy28J5YgzbyPhR3QsuPXYbB1LEj0fVjvH+qiMjYtJAIMdu2qC49xl2zhpGZktLqb86uPIWTvzW0w6uZY/t6YqdeQxtya0tYNJfSuX3+HFa+tZnlc2d0e41ORVHAFYfiioOrFtK9tO/R7nytnvDNsfTw+xVrKK2o8tt2+wMZxNGLjp09z9/XbuxSifSuUhQFRdX8Hl7F5ZV8eOgIi2e0XVLDPv8OWPWE1D2vztgW3lPrWpVacRkGk0YOY8YQN/XVBUE/sMO2LapLjnLPnBFkpbYOL8eqxz6zITzCq5njhdqL2KWHWj3kdhncsWA2a97dRn1jI14/VSG4tO/5L7y8tk19YyNPvbRawqsHJMB62cn8C/z11Q1+DTF/Mk2LwtJy9h47zk3TJrfZW7SrzuKUHwv+0Wrd5kBjhW/Jq6u4DIMJwwczZ3gMdVUXgjbEbNuiuvgw988fTUZyUuues+PgPbMRvMHZ/mtiWzj57+B4Wh/4XYbB7fNn89rm7dQ1NPgtxPzJ6/VS19DAky+tpqyqOtDNCUkSYH3g9MUC/rxmPY1BFmKmaXGhpJRDp85ww5Tr2wwvx2r0rdAQTmfvl7MtnIIPcOpLWj3kMgzGDMllwegEaivPB12I+cLrEA/cOJ7UxIS2e87lR6Emn6BbAcZfbG9TL7r1lQGXYXDb/Nms2/I+tfX1eL3BcwLm9XqprW/gyRdXU1FdE+jmhCwJsD5ytqCIP61aS6PHE+imAL5VKM4XFXPyXD7zrp/Q7n06+9wbvknK4cyx8J5c66tRdhWXYTByUA4Lx6VQW3E2aELMF14H+PjC60iJj2szvBxPDc65t4J/nt41caChDLt4d5uPugyd2+bPZsO2D6ipq8cKghCzvF6q6+p58qVVVNXWBro5IU0CrA/lF5Xwh1fW0uDxYLdxxthXPKbF2YJCzhYUMuu6ce0uw2NXnsKpOhO6tZW6w6zFvri9zYdchsGwgdksmZhJTfnpgIeYbXupKT7AJxdNJjE2Fr2N8ALwnnndVyA03NkWzoXtOI0VbT7sMnRunT+LN3bsorq2LqAhZnm9VNXU8uRLq6iuqw9YO8KFBFgfu1hSyjMrXsXjMbEDcF3eY5qcyr9IYUkpM8Z3XA/Kzt8a5mfvl3EsnOK9ON62e5suw2DwgEyWT8mhpuxkwELMti1qivfxqSVTiY+NQdfbHlDg1BX7yomE66XDqzle7IIP233Y0HWWzpnB2x/uobK6Bsvq+xCzLC8V1TU89fJqausb+vz9w5EEWAAUlpXz+xVraOzjEPOYJsfP5VNeVcWUDgpyAr4ll8x+dmNZAbvsSLsPuwydgRnp3D49j+rSE30eYrZtUVuyjwdvnk5sdBS61v5oOLtwZxgOuumIg1N+DKeDOYouQ2fpnOls2b2fsqoqLKvvvj/TsiirquL3L6+mriFMpqIEAQmwACkur+Cpl1dT3+jpkxDzmCZHTp+ltr6BSaPargd1ObtwZ/+4/HQ528Ip/LDNAQHNXIbOgLRU7p49lOqSo30WYrZtUVeyjwdvmUVMVGSH4eVY9TiVJwmrKQ9dodDmsPrLGbrOklnT2L7/ECWVVZh9EGKmZVFaUcnvV6yhvjHM7yf3MQmwACqtrOKpl1dT58e5Km3xmCYHT57G9NpMGN52PajLOWad795XfzsAAngbcWryO3yKYehkpiRz79xRVBcf6fUQ84XXXh5cOovoyAi0DsILwC45QN8sUhtkbAuncGeHJyDgOwlZPGMqOw8dpbi8oldDzLQsisoqeHrlq50uNiy6TwIswMqrqnnyxVXU1Tf0yjBfj2my79hJVEVl7JDWJTXaYpfs83s7QoZtdngvpZmh66QnJ3L/grFUFx/utRCzbYuGkr08vGwOURERaJ2sKuE4Nk7R7vCd9tAZ28SpPtvp01yGzk3TJrPv2EkKSst6JcRMy6KgpIw/vPJah6WWRM9JgAWByqZRSTX1DX4dIeUxTXYdOUaE283INkpqtMVxHJzivf3s/slVai/geDqfm2PoOqmJ8Xz0xglUFx/0ez0x22vRWLqXh5bPI9Lt7jS8gKZRo/34u7PNNiemt8Vl6CyYMokjp89xobjEryHjMU3yi0r446q1fXKZsr+SAAsSVbV1vhCr888wX49psuPgYeJjYhg2MLtL4QVcWjS4P1NU3wLKXWDoOsnxsXx84SSqi/f7pSfmOA6218RT7guviC4uSgvgVJ3r/irq4aa2oNPLiM1chs7cSeM5df4i5wuL/LJijsc0OV9YzJ/XrA+KeWfhTAIsiNTU1fPkS6upqqm9pj98j2ny3r6DpCUmMji7dT2ojjh1RfTL+yeXs02cmq4FGICu6yTGxfLJxVOoucYQcxwHx7YwK/bz0LL5uI2uhxfgWz29v1MU34lYF7kMg5kTx3K+qJgzFwuvKcQ8psnpCwX85dXXJbz6gARYkKmt962NVlFd06Nhvh7TZOue/QxISyU3s3U9qM44tRflDJ7uB4GuacTHRPOpJdOaQqz7By/HsbFtE2/lPh5aNg9XN3peza+nobzb7xt+FJy67lUydhkG08eNprisnJP5F3sUYh7T5MT5C/x93cagXHsxHEmABaHm1anLqqoxuzHh0mOavLNzD3nZmQxIT+12eAE4NXIGD0BDeatV6jujaxqx0VE8eMsMaov3dqsn5jg2tteCqgN8eukC3C5Xu1WF29VY4atR1d/Zpm8eYze5DIPJY0ZSWV3DsbPnuxViHtPk6JnzPL/+DWy7H47eDRD5aw9SzfWBSiq6NszXY1q8uWMXIwYNbCqp0YPwcmxolDN4wBcEDRXdfpmuacRERvDQ0lnUdTHEfOFlotUe5FNL5+N2df+7A3Bqi3r0unDU0xMxl2Fw3chh1Dd6OHz6bJdCzGOaHDp1ln9ufCugS8T1RxJgQazRY/LMylcpKivvMMQ8psXG7R8wbtjgNktqdFlDOfix1lGo6+5lqGaaphEVGcFDy+ZQX7KvwxBzbBvb60GvO8THb57XoxOPlm3J5d9LGrvfg27mMgzGDxuM17bZf/xUhyHmMU32Hz/Fy5ve7vLAEeE/EmBBzmNa/OGVtVwsKcNsY5ivx7R4/b0dTBo1vN2SGl3leKrp9wM4mtkmmD0vc6GpKlERbh5aNoeG0rZ7YrZt4/U24qo/wseWXFt4Ae0uZts/KWD1fL1Bl2EwZvAgDENnz9ETbYaYxzTZfeQ4K9/a3B+n/AcFCbAQYFoWf1q1lvzi4ivmqpiWxbot7zFt7Kh2S2p0S3+d/NoO5xp7M6qqEul28dCyeTSW7sX2XtqebXuxvQ1EeY7zwOJrDy/fRuX7a6Eo1/z37DIMRuTmEB0Zwc5Dx64IMY9p8uGho6x5d9u1tlRcAwmwEGF5vTy7ej3nCgsxLQuPafHqu+8xa+K4DktqdIvtpV8uH9Ue77VfjlNVlQiXwUPL5+Ep34ftNXEcG6/VQKx1ivsXzWm3Flu3SYBdRvHLWp4uw2BoTjaJcTHsOHAYj2niMU227zvE2i1tl98RfcdPe47oC17b5q+vbmDxjKnkFxdzw5RJna5K3i39oe5Xd/hpQreqqrhdLh5aPp8/rnkLj5ZKemQ1d94469p7zZeT7+9Kfvo8XIZBXnYmmqby5ge7cRybrXsO+GXb4tpIDyzEeG2b17a8h67p/g0vAFXOZ66guvy3KUXB0DSmj8mj9MIubpwyvt1aXj1/E/n+ruDHz8NlGAzOzuLk+QsSXkFEAixE7Tx8lMOnujbMt8sUDRnEcRk/HgBNy6K4opK1m32Xnf6+biMNjY3+LaWjygjSFo7j1xG1HtNiw3sfcLGk1G/bFNdOAixEOY7DPze+xaFTZ/wXYpr/ehyhT0Xx0+dhWhbF5RU8vWINDR5fPajSiiqefMm/pXQUze2X7YQHGzQ/DIyhKby272DLnv1+2Z7wHwmwEOY4Di9veof9x0/6JcSUiGQZidhM1SEy+Zo3Y1oWBaVlPLOydUkNv5fSiUpHdukmqssvge4xLdZt3c72fR0XyhSBIX/tIc4BVr61hd1Hjl9ziClGpF/v+4Q0x0KJSrumTXhMiwvFJfypg5IazaV0av1QSkeJTpf7YM2iUq95E6ZpsebdrXxw8IgfGiR6gwRYmFjz7jY+OHjk2nti13jQDhuaG0WP7PHLfSU1inh29fpO17Osqq3jdy+toqau/pp6YkpUmvSgAVBRYgZc0xZMy2Ll25vZfeS4n9okeoMEWBhZt/V93tt38JpCTInJRv4sQIns+Rm8xzQ5c7GwWyU1fKV0VlF5DaV0FD0S5D4YqDpKdM9PxEzT4qVN77Dv2Ek/Nkr0BjlShZmN2z9ky+79Pa4uK5eh8C3kG5vdo5d6TJOT+Rf529oN3R6cUVvfwFMv97yUDoASKT1oHKvHn4NpWvxz41scPHnav20SvUICLAy9+cEu3v5wV496YkpUqlyGUjSUqPRuv8xjmhw7e57n1m3qcUmNuoaeldJpEZslJVW0CBS9+z1Rj2ny3OtvcPj02V5olOgN/fwvPXy9u2sfb7y/s9s9MUVzwzVcPgsLioISndmtl3hMk8Onz/LChmsvqdFcSqe0i6V0LqcmDKVfz+VTNJSkEd1+mcc0+fvaTRw7e74XGiV6iwRYGNu69wCvb3u/2yGmZkwG1T9zaEKOoqGkjEfpxqRgj2my/8RpXtrov5IajR6Tp7tQSudqijseojP80oZQpaZO6NbzPabJX1/bwMl8KeYaaiTAwtz7Bw6zdst73TsIxuX26/tgauq4Lj/XY5rsOXqClW++6/dlkJtL6RSUlHXr+1PTr++/JyAx2SiumC4/vdE0+fOa9Zy+0P0KziLwJMD6gQ8PHWXV21u63BNTFBUlbSIo/S/ElLiBKEZ0l57bXFJj9Ttbe609pmXxx1VryS8q6XKIKbE5/XNVFdVAS7++y09v9Hh4dtU6zhZIJetQJQHWT+w5eoKVb73bZlHMtqjJY+h3pVVUHTV9Upee6jFN3t/fNyU1fKV01nG2oLBLA3MURUFJm9T/TkD0CIjJ6vRptuPQ4PHwh1fWcr6ouA8aJnqLBFg/sv/4KV564+0u9cQUPQIlYSj96k/EiIGozu8feUyTrXv28/p7H/RBo3yaS+mcvlDQpRBTk0f1QauCiKqjpF+PonQ8gMW2bTwek2dWviYL84aBfnR0EgAHT57hnxve7FKIqdkz+88K54qONvDGTg+AHtPi3Z17eWPHrj5q2CVe2+bv6zZy4vyFTkNM0VwoWTP6z71MI7bT0LZtm0aPye9XrKGwtKyPGiZ6kwRYP3TkzDmeW7+p0xBTjGjUgTeG/0FQ0VFSxqDEdDx03mNavLljJ2/v3NNHDWvNth2eW/8GR8+c7zTE1NTxEJlC2A+rV3S0vJtROiifYts2DR4PT61YTXF5Rd+1TfQqCbB+6vi5fP6+dkPnB8HEob5BAX6srRR0jCjUrJkdPiWYSmp0tZSOoihogxaH9wmIqqNkTkWJTGr3KV7bpq6xkSdfWk1pRVUfNk70Ngmwfuxk/kX+8urrnYdYOPfCFA0t75YO530FY0mNrpbSUVyxKAPmhun3p4A7ETXtunaf4fV6qWto4KmXVlNeVd2HbRN9QQKsnztzsZBnV6+n0dPBQVCPQB20KPxGtTXf+I9KafcppmXxapCW1OhqKR01aSREZxF2u7uqNV06bPsSqeX1UlPfwJMv+taXFOEnzP6iRU+cKyzij6vW0ujxtLsMkhqXi5IyNnzO5BUNotJ8q460w2NavPLWZnYFeUmNzkrpKIqClrsQjEjC5n6YoqPk3IDijmvzYcvrbVnhv6q2to8bJ/qKBJgA4EJxCc+88hoe02w/xLJnoSQMD/0QUzSITEEbcitKOwvfmpbFy2+8w94QKanRWSkdxYhEG36Pb65UqIeYoqMMmIOWNLzNhy2vl6qmQqE1dfV93DjRlyTARIuCkjKeXvGqryfWRikQRVFQBy5AiR8cuiGmaBCRiDb0NpR2fgfTtPjnhtArqXGplE47IeaK8YWY5iZkQ0zRUbJnoKWMafNhy7KoqK7hqZdXU1vf0MeNE31NAkxcoaisvCnEzPZDLHchStLo0AsxRYfoDLThd6G0s9SSaVohXVLDV0pnT7tTJBR3HNrI+3yTtkNt91d0lJz5aO0s1mtaXsqqqvn9y6upa2js48aJQAixv2DRF4rLK3jq5dXUN7bfE9Ny5qKkTw6dgR2qjhKfizb0VpR2Frr1mCZ/X7cx5EtqvLtrL2/saL+UjuKKRRt5L0Qkhsj3p/iW+cpbgpY8ss1nmJZFaUUFv1+xhvpGTx+3TwSKBJhoU2llFU+95DuTba+ysJYxGXXIMtCjgniemAqqgZI9F3XQknYnuzaX1DhxPjxKaviWumq/lI6iR6KNuBcldXxwh5iqQ2Qy2oj7UOMHtfkU07J8Vw5WvtrhaFoRfiTARLvKq6t58qVV1NY34PW2XR1YjR2ANubjKMljgu9AqOoQNwBt9MfQUka3O9w6XEtqvL/fV0qn3RBTNbTsmWgj7gZ3YpBdElZ8lwyzZqKNuA8lIrHNZ5mmRUFJGX94ZW23696J0CcBJjpU2Tyaq74Bq50QU1QDLWcu2rA7wBUX+CBTVNBcqLk3oQ+5tcPyKI0eM6xLavjKvXRcSkeJTEEb9ZHLLgkHeICH2nSvcvRH0VLHt3vi4TEt8otL+OOqtd2uXC3CgwSY6FR1bR1PvrSK6tq6dkMMQIlORxv1UZT0Sb56VF0sqhgd3Xn9ra48B1X3VVROHIE2+hOoCUPbfeqlkhqvhX1Jja6U0lEUFS1jMtrI+6F56bAuXhb23/dngBGDMmA+2rA7UVyx7T7VY5qcKyziz2vWd/g3KcKboi75aT8r+iR6Kjoygs/csYy4mGh0reODm+N4cSpPYxfugvpicByg7Xtp10bxrZhvRKOkXoeaNLzdEYbNbNvGY1o888pr/WpV8tGDc7nzhnm4jM57yI5Zi11yAKd4LzhesHvp3pKiAw5KXC5q2kSIzuxCRQCT0xcK+Me6Te3enxX9gwSY6JZIt5uH71hKYmwMut61S4VOYyV28T6c0gOXfngtB0RF910mdLwoCUNQUydAVFqnBz64VFLj6ZWv9stVyUfk5nDPwgVdCjEAx7Fxqs5iF+2G2gu+z96xwLmG4FAN3wmN5kJJm4iaPApFj+zSSz2myYnzF3j+9TewbTl09XcSYKLbIlwuHrp9KUnxsRhdDDHwHQxpKMepK8apK8CpuQiNFaAo+K5mO81PbPoZ+O7HOGB7wRWLEp2OEpOFEpkKkcntTkZuS3NJjd+vWNOvVyUfmpPN/Ytv7HKINXOsRpz6Yqgvxqm5gFNXBGbdZZeKHd9/Dld+f47Xd8IRkeT77qLSUaJSwRXXpZOOZh7T5OiZ87y48a12V4sR/YsEmOgRt2Hw4O23kJIQ360Qu5rjONBYidNYAbblO9g1H/AUHVQNxYjxHfyuobim17ZpaGzk9y+voUxWJWdwdiYP3HwTLqNr9ynb43hNaCjBMeubLjVagOO7f6bqvvl3Ecm+S7zdCKureUyTQ6fO8PIb7/r+ZoRAAkxcA5eu86nbbiY9MRGjm2fzfcnr9VLXFF6yKvklgzIz+NjShdccYr3NY5rsP36SV97aghysxOVkFKLoMY9l8cdXXuNiaWmHI9wCyev1UislNdp0+mKBr5ROJ/XgAsljmuw+cpyVEl6iDRJg4pqYlpc/rVrH+aLioJtI6vV6qa6r53dSUqNd5wqL+OMrHZfSCRSPafLBwSOseXdboJsigpQEmLhmltfLn9es52xBYdCEmOX1XpqELSU1OtSVUjp9zWOabN93iHVb3w90U0QQkwATfuG1bf722gZOX7jYYXXgvmBKSY1u66yUTl/ymCZbdu9nw/YPAtoOEfwkwITfeG2bv6/dyPFz+QELMdPyUi4lNXqkuZROQzuldPqCxzR5+8M9vPnBroC8vwgtEmDCr2zH4fnX3+TImXN9HmJSUuPaFZdX8PsOSun0Jo9p8caOXby7a2+fvq8IXRJgwu8cx+HFDW9x8OSZPgsxX0mNCimp4QddKaXjbx7TYsN7O9i6Z3+fvJ8IDxJgolc4wIo33mHfsZO9HmKm1VxS47WgGUQS6ppL6dR1UErHXzymxdot77F9/6FefR8RfiTARK9xgFfe3sKuI8d6LcQ8pkl+kZTU6A1dKaVzrTymxZp3tvLhoaO9sn0R3iTARK979d332HHgsN9DzGOanC8slpIavaiqi6V0esI0LVa+9S67jx7363ZF/yEBJvrE+m072Lb3gN9CrLmkxl9efV3Cq5fV1NXz1Murqaqp9dtn7TEtXnrjbfYfP+WX7Yn+SQJM9JlN7+9k8+591xxizSU1/r5uo9SD6iO19Q08+ZJvOS7rGi/VekyLf254k4Mnz/ipdaK/kgATfeqtD3bz1ge7exxizSU1nl8v9aD6Wn1jI0+9tJrSyuoe32/0mBbPrd/EkTPn/Nw60R9JgIk+t3n3Pja9/2G3Rwz6Smqc5Z9SDypgGjwenl6xhpKKym6HmMc0+fvaDRw/l99LrRP9jQSYCIhtew+yfuv7XQ6x5pIaL296W+pBBVijafLMilcpLCvvcoh5TJO/vrqBk/kXe7l1oj+RABMBs+PgYV7b/F6nISYlNYJPSymdks5L6TR6TJ5dvZ7TFwv6qHWiv5AAEwG18/BRVr+9pd0zeY9p8sEhKakRjJpL6eQXt11Kx3YcGj0mf1q9lnOFRQFooQh3EmAi4PYcO8GKN95tdRBsKamxRUpqBCvL6+XZ1a1L6diOg8c0+cMrr5FfVBLAFopwJgEmgsL+E6d4adPbLT0xj2mydY+U1AgFV5fSsW2bRo+Hp1e8ysWS0kA3T4QxCTARNA6dOsPzr7+J12vzzs69vLFDSmqEistL6TR6TJ5e8SpFZeWBbpYIc4q65KdyX1wIIUTIkR6YEEKIkCQBJoQQIiRJgAkhhAhJEmBCCCFCkgSYEEKIkCQBJoQQIiRJgAkhhAhJEmBCCCFCkgSYEEKIkBT2Afa7Rxex6Yn7rvjZkWceBuCTN43h2/dP77X3zk6JafXefWneuBzGDUpt+fdfvrnU7++RnhjN5p9/lI0/uQ9D79mfU1vfkRBCdCasA8zQVcbnpVJT7yEnNTbQzek1itL2z+eNz2F83qUA+/hPX/X7ey8Yn8OGnae56d+ex7TsTp9/dVv7y3ckhPA/PdAN6E1Lpw5h9fYTHD1fxkfmj+Kn/2y/LMeyaUP49v3TsR1Yu+Mkj/9jG898dQm/XrWTkxcrKH7hESZ84Y+UVjXw52/cws3feZG7Zw/ny7ddj6LAhp2n+eHftxEdYfDcY8txGTrH8svafK9pIzP52WcWYDsO+0+X8KX/20BuWhwvfvd2jueXMzgzgb++cYBfv7KTuCgXT31lMUlxkSjA53/1OicuVrDpifvYeayQsYNSePS3m/jVF27EZWhEuQ2++rs3OHK+jE8uHEt9o8WDS8ax8LEXOPT7hxjx0NNEunX+9PVbSE2IwrYdPvfL9S3b3HOyiNEDU1BVhWX/8RKJMRE899hyvLaDosDtP1hBdZ0HgKzkGL770Zm4DY3s5Bi+8rtN7W738rYey7+0yGt739Ffvrm0VwJXCBE+wjrA7p83km88/RaFFXWse/yedgNMUeBnn1nAtK/8hcraRtb/6F5Wv3ecN/ecZcGEgQxMjeO190+wYEIupVV1vLX3HAkxbr561xTm/es/sLw2L333dsYOSuHGiblsPpDPEy9s54EFoxg1MLnV+/3qCzdx/49Xcaqgkqe/uoTl04aw91QxOamxLPjmP2jweNn+y4/z3FuH+eqdk1mx9RjPv32Y8Xmp/PjBudz7+CoAPjxWwDeefguAu/7rFeoaTUbmJPHrL97Ewsde4NkN+zlxoYK/vXnwivf/zM0T2He6mB/+fRtzxg7giYfmcfcPXwHg7b3n+NqTb/K7Rxex8LpcXLrGlgP5fOfZd1v9HhdKa/jpC9vJTonlR8+9x6O3X9/udi9va1e+IwkvIURnwjbA4qJczBydzZOPLgZgUFoc4/NS2XuquNVzU+OjKKyopbK2EYDthy8wYkASm3af4amvLCYnNZYf/G0r37xnKhU1jfxpw36GZiWSmxbH+h/dA0BCdAS5aXEMH5DES5uPNG3nIg8tGd/q/eKj3ZwqqARg28F8RuQks/dUMYfPlVFTbwJw4EwJeRnxjBuUwtxxOXz2lgkAWN5LxQO2HroAQIRL5xefv4HhA5Lw2jbZyR1fihsxIImXNx/1beNgPr95ZGHLYx8eKwTgbFEVyXGRPPf2YcYPTuPP31jKueIqvv/XLe1eKuxou81tvVx3viMhhLha2AbY3bNH8JMXtvOb1b6aUjdMHMgDC0az99TbrZ5bXFlHekI08dFuKmsbmTYyixffPcLFslpSE6LQNZXdJ4qIchsMzUrkkd9sJD7azfELFSx67IWWy2uKojAsO4nrh2Xwxu6zTBme0WbbKmsbycuI51RBJTNGZ7Nq23EARuYkER1h0OCxGJObwqmCSg6cKeW9wxdYufUYwBUDJby2L0iWTM7DazvM/8Y/GDUwmZXfuwMAj+VF11rfIDtyvowZo7PYtPsMM0dnc/T8pUt6DpcCUgE0VeEHf90CwFNfWczi6/NYs/1Em79XR9ttbuvluvMdCSHE1cJ2EMdHFoxi/QenWv69+UA+y6cPaXPAg+PAt555i3WP38OW//0om/efb+kF7DhSQEF5LQC7ThRRUFaL13Yoq27gVys/ZONP7mPjT+5j7Q/vITU+iqfX7WH+uBzW/+hepo7MbLNt//K7Tfzlm8t4+2cfwbRsVr3nC7DThZU89ZXFbP3fj/HnjfsprqzjR89t4545I9jw43vZ+JP7eOS261ttb9uhC0wcksb6H93LvXNHtvx8464zPLRkAi/8+61X/N5Pr93LhLw03vzp/fzgE7P5tz+0Hxjzx+fw9s8+wqYn7iMnNZbNB863+9zubBc6/o56Y8SkECK8SEHLIJGbFsdT/7KExd9+IdBNEUKIkBC2PTAhhBDhTXpgQgghQpL0wPrAH752M7PGZLf6efOKIN2x6Yn7yE6J8UezelVPfrdA+eUXbmRYdmK7j08YnMbX75rS8u9P3DSGTy0c2/LvP379Ztb/6F7AN8hm5ffuaHdyuRDCfyTARL+gqm0nSnpiNFlJMVdMrr7anpNF/M9LO1r+fcuUwax53zcSc9ygVBKi3S2PmZbNtkMXWD5tqJ9aLoRojwRYH3lo8Xhe+6+7eeOn95ORGH3FY5Funee/fStv/PR+Nv7kPoZkJgC+EYDv/OwBNj1xH//z2QUtz//6XVNY9/g9vP7je3EZWpfe/1/vnsp3HpgB+HoMd8wc1qXX/fILN7LpifvY9MR9NKz+GrFRri69zqVr/PaRRWz534/y04fnd+k1AOPzUlve72/fWgbAyu/dwbxxOUS6dTb//KMMSo/v0rb+8LWb+c2XF7Lq+3eyaNIg/vdzN7Q8tv7xexiYFscdM4excdfplp+fevZzPPPVJWz++Uf5yYPzAN+akk99xTdXzWVoxEW5KamsB+A7D8zgx89vv+J91+44yd1zRnT5dxZC9EzYzgMLNkfOl/Hgz9fywIJRfPPeqXztyTdbHmtvZYz/9+WFLPjmcxRV1F3Rg7h6tYxX3z/Z6fv/7MX3WfOfd/Hzzy2gtsFkRdO8ss585bebAPjBx2exYefplmWkOpOWEMX3/7qFwvJaDjz1IP/1961deu1vHlnEZ36xjkNnS1t+54d/sY41/3kXJy5U8MsVH3C6sLJLbQA4U1TFF/9vA4oC//mJ2bgMjaykGCyvzdmiKsbkprTMsQPITIrm+3/dwrniatY9fg8TBqddsb0bJgzkzb1nAV+wHc0vo7BpmkWzo/nljB2U0uU2CiF6RnpgfWTH0YuAb3WOEdlJVzw2YkAS2w76VqrYejCfETlJpMZHUVrVQFFFHQC2fWmszdWrZXTVL1Z8wJeWT+Lxf2zrVts/c/N4kmIj+clVPY2O5JfWtBzYz5fUkBgT0aXXpcRFcuhsKXDpdy6prGfDztOMH5zKP9890q22bzuUD/jm+r2y7Th3zBzGpxaN5Q+v72vz+QXltZwrrgbg/SMXGTHgyntjy6cPZXXTvL1v3TuNn724o9U2hBB9QwKsj1w/zLcqx5ThGRy96n5L8woWQMsKFsWVdSTFRpAS7wuoywcFXL1aRldEuQ2+97FZfPHXr/PLL9zY5XYvnzaEhZMG8ehvN3b5NQCOc+Xg1q62s7iyjhEDfAHf/DuPyU1hxqhsVr93gi/fOqlb7fBeFvx/WL+XTy8ax82TB/NK0+onB86UMDQroeU56QnRLYNkJg/LaHVvbMSAJA6fKyMm0iA9MZp//Nty/vivtzBxcCqPNZXmGZ6dyIEzJd1qpxCi++QSYh8ZkpnA2h/eTYRL56NPrLnisafX7uXZf72FN396Pw7wuV+uB+CR32xk5ffupNG02H2iiK8/9WYbW+6aX33xRn6x4gNe2nyUodmJfH7pRH736u5OX/c/n7uBkso6Nv7EV6/r1u+9TG2D2eN2dOZL/7eB3z66CMdxKCir5aH/XcfvHl3EJ/77Vc4WVbHu8XvYfOA8u08UdXvbF8tqqW802XOyCMvrW9pq5dZj/N+XbuLJ1/Y0PaeG7z4wk7GDUtl2MJ9dJ4qYNy4HgElD09l13Nf7rak3uf7LzwKXJqH/+Ln3ALh5ymBe7GZPUQjRfTIPTPQrL37nNh774ztX9Kx+9YUb+fWqnRzLL+fIMw8z4qGn23ztlOEZVNd7OHyu7TI54BtG/89/v407/nMFjuxZQvQq6YGJfkHXfPOzThdWtros+GjTQJXO7Dha0OlzTMvm9h+s6FEbhRDdIz0wIYQQIUkGcQghhAhJEmBCCCFCkgSYEEKIkCQBJoQQIiRJgAkhhAhJEmBCCCFCkgSYEEKIkCQBJoQQIiRJgAkhhAhJEmBCCCFCkgSYEEKIkBT2Afa7Rxex6Yn7rvjZkWceBuCTN43h2001nHpDdkpMq/fuS/PG5TBuUGrLv//yzaV+f4/0xGg2//yjbPzJfRh69/6cctPiKHnhETY9cR+bf/7RbtUpE0KIsA4wQ1cZn5dKTb2HnNTYQDen1yjtVIucNz6H8XmXAuzjP33V7++9YHwOG3ae5qZ/ex7Tsjt9/tVt/fB4ITd+63lmf+1vjBqYzOiByX5voxAiPIV1OZWlU4ewevsJjp4v4yPzR/HTf77f7nOXTRvCt++fju3A2h0nefwf23jmq0v49aqdnLxYQfELjzDhC3+ktKqBP3/jFm7+zovcPXs4X77tehQFNuw8zQ//vo3oCIPnHluOy9A5lt923ahpIzP52WcWYDsO+0+X8KX/20BuWhwvfvd2jueXMzgzgb++cYBfv7KTuCgXT31lMUlxkSjA53/1OicuVrDpifvYeayQsYNSePS3m/jVF27EZWhEuQ2++rs3OHK+jE8uHEt9o8WDS8ax8LEXOPT7hxjx0NNEunX+9PVbSE2IwrYdPvfL9S3b3HOyiNEDU1BVhWX/8RKJMRE899hyvLaDosDtP1hBdZ0HgKzkGL770Zm4DY3s5Bi+8rtN7W738rZeXc4EQFMVIl061fW+bf/lm0t7JXCFEOEjrAPs/nkj+cbTb1FYUce6x+9pN8AUBX72mQVM+8pfqKxtZP2P7mX1e8d5c89ZFkwYyMDUOF57/wQLJuRSWlXHW3vPkRDj5qt3TWHev/4Dy2vz0ndvZ+ygFG6cmMvmA/k88cJ2HlgwilFt9Ch+9YWbuP/HqzhVUMnTX13C8mlD2HuqmJzUWBZ88x80eLxs/+XHee6tw3z1zsms2HqM598+zPi8VH784FzufXwVAB8eK+AbT78FwF3/9Qp1jSYjc5L49RdvYuFjL/Dshv2cuFDB3948eMX7f+bmCew7XcwP/76NOWMH8MRD87j7h68A8Pbec3ztyTf53aOLWHhdLi5dY8uBfL7z7Lutfo8LpTX89IXtZKfE8qPn3uPR269vd7uXt/Vy1w9NZ9MT95GVFMOek0WcK64Geqe3KIQIL2EbYHFRLmaOzubJRxcDMCgtjvF5qew9VdzquanxURRW1FJZ2wjA9sMXGDEgiU27z/DUVxaTkxrLD/62lW/eM5WKmkb+tGE/Q7MSyU2LY/2P7gEgITqC3LQ4hg9I4qXNR5q2c5GHloxv9X7x0W5OFVQCsO1gPiNyktl7qpjD58qoqTcBOHCmhLyMeMYNSmHuuBw+e8sEACzvpfJtWw9dACDCpfOLz9/A8AFJeG2b7OSOL5eOGJDEy5uP+rZxMJ/fPLKw5bEPjxUCcLaoiuS4SJ57+zDjB6fx528s5VxxFd//65Z2LxV2tN3mtl7tw+OFLP72CwD87+du4L55I3n+7cMdtl8IISCMA+zu2SP4yQvb+c3qXQDcMHEgDywYzd5Tb7d6bnFlHekJ0cRHu6msbWTayCxefPcIF8tqSU2IQtdUdp8oIsptMDQrkUd+s5H4aDfHL1Sw6LEXWi6vKYrCsOwkrh+WwRu7zzJleEabbausbSQvI55TBZXMGJ3Nqm3HARiZk0R0hEGDx2JMbgqnCio5cKaU9w5fYOXWYwBXDJTw2r4gWTI5D6/tMP8b/2DUwGRWfu8OADyWF11rfYPsyPkyZozOYtPuM8wcnc3R85cu6TlcCkgF36W9H/x1CwBPfWUxi6/PY832E23+Xh1tt7mtHSmvaSAlPrLT5wkhBIRxgH1kwSg+/6vXW/69+UA+v/7iTTz2x9YB5jjwrWfeYt3j92A7Dut2nGrpqe04UkBMpAHArhNFqIqC13Yoq27gVys/ZONP7sNrO1hem0/+7DWeXreH5x+7lZuuG8SBM617ewD/8rtN/OWby/DaNgfPlLLqvePkpsVxurCSp76ymKFZifx5436KK+v40XPb+O0ji/jS8utQFIXXdpzk5y/tuGJ72w5d4Fv3TmP9j+5l68H8lp9v3HWGn3/2BpZOG8J9P1rV8vOn1+7l2X+9hTd/ej8O8Llfrm/3c5w/Pod/u286ltfGY3rZfOB8u8/tznabNV9CVBSF6rpGPtZ06VDugQkhOqOoS37qdP400dty0+J46l+WtFxOE0II0bGwHkYvhBAifEkPTAghREiSHpgQQoiQJAHWB/7wtZuZNSa71c+bl7Tqjk1P3Ed2Sow/mtWrevK7Bcovv3Ajw7ITu/z8y5fkGpgWxx++dnPLvz+1cCwNq7/W8u+nv7okJL4vIUKRBJjoF1S17fW20hOjyUqKaXN1kPZcPjpy+fQhLdMK3IbGnbOGc7ZpMjb4RmZ+7c4pPWy1EKIjYTuMPtg8tHg8/37/DCLcOg/8eDUF5bUtj7W3tNP88Tn85yfmYHq97D5RxNefehOAr9815Yrlnjymt9P3/9e7pxLh0vjh37fxx6/fzKptx1nRNLesI7/8wo2MHZQCwKzR2aTe938tS0l1xKVr/PaRRYwfnMqWA/l8s41VONoyPi+V//38DQAUlNXy0SfWsPJ7d/C/L3/A+0cvsuHH9/GxJ9ZwurCy02394Ws30+CxGJASy2/W7GLx9Xl89ck3AFj/+D185pfruWXKYDbuOt3m6zc9cR+HzpYyLDuJRo/FR36ymtoGkyPPPMyIh54GYNGkQTzwkzUAPHLb9Tz52m5+/rkbWrbx3uEL/PbRRV363YUQ3SM9sD5y5HwZt3z3RZ5eu4dv3jv1iseal3a64ZvP8YO/buGJh+YB8P++vJC7f7iSG7/1/BXLML299xxL/v2fnLxYwcLrcrv0/j978X2mj8zi559bQG2D2aXwAvjKbzdx47eeZ/P+83z/r1u6FF4AaQlRfP+vW5j11b+xdOpgYqNcXXrdbx5ZxJf/30Zu/NbzfPy/fT2dh3+xjicensfT/7KEX674oEvh1exMURW3fv9l1n94illjsnEZGoPS47G8NmeLqhiTm8LxCxXtvn7z/vMs/vYLbDt8odWqKrFRLmzbobbBJCHGzdyxA3j1/ZOttlHf6HtcCOFfEmB9ZMfRi4BveakR2UlXPDZiQBLbDvqWWtp6MJ8ROUmkxkdRWtVAUUUdALZ9abDo1cs9ddUvVnzAl5ZP4vF/bOtW2z9z83iSYiP5yfPbu/ya/NIaCpt6medLakiMiejS61LiIjl0thS49DuXVNazYedpxg9O5Z/vHulW27cd8k3sdhx4Zdtx7pg5jE8tGssfXt/X6rl3zR7OpifuY9X372z52ftHC3z/P3yREQOu/N5unpzH+g9PA/Bv907nv19sf7FoIYT/SYD1keuH+ZaVmjI8g6NX3W9pXoIJaFmCqbiyjqTYiJallS4vQ3L1ck9dEeU2+N7HZvHFX7/erbpby6cNYeGkQTz6241dfg2A41w5O6Or7SyurGsJiubfeUxuCjNGZbP6vRN8+dZJ3WqH97Lg/8P6vXx60ThunjyYV5qW7zpwpoShWQkAvLT5KDd+63lu/f7LLa+ZPCzd9//hGRw9f2V1gWXThrLqPd92hmcn8th903ntv+4mMymaf/zb8pbnRbkNKmoau9VuIUTn5B5YHxmSmcDaH95NhEvno0+sueKx9pZgeuQ3G1n5vTtpNK0r7oH1xK++eCO/WPEBL20+ytDsRD6/dCK/e3V3p6/7n8/dQEllHRt/4ivMeev3Xqa2wexxOzrzpf/bwG8fXYTjOBSU1fLQ/67jd48u4hP//Spni6pY9/g9bD5wnt0nirq97YtltdQ3muw5WYTl9a3NuHLrMf7vSzfx5Gt72nzN9FFZPHzzBEzTy30/vrQcl6YqpCdEcaG0BoA7/2tly2NHnnmYj/xkte/1I7N4Y8+ZbrdVCNE5mcgs+pUXv3Mbj/3xnStGHf7qCzfy61U7W41E3PTEfXziv18lv6Sm1XZS46O4flg66z441eH7Pf3VJXzvL5vb3IYQ4tpID0z0C7qmsvJ7d3C6sLJVUD36203d3l5xZV2n4QXw8P+u6/a2hRBdIz0wIYQQIUkGcQghhAhJEmBCCCFCkgSYEEKIkCQBJoQQIiRJgAkhhAhJEmBCCCFCkgSYEEKIkCQBJoQQIiRJgAkhhAhJEmBCCCFCUtgH2O8eXcSmJ+674mdHnnkYgE/eNIZv3z+91947OyWm1XsHi3njchg3KLXNx9ITo/nvh+f3bYM6cXV7//LNpQFsTd9o/ju9XG5aHOt/dK9ftiVEqAvrADN0lfF5qdTUe8hJjQ10c4LKvPE5jM9rHWCKAoXltVdUgO5LSjuFw65u78d/+moftUgIEazCejX6pVOHsHr7CY6eL+Mj80fx03+2XzF32bQhfPv+6dgOrN1xksf/sY1nvrqEX6/aycmLFRS/8AgTvvBHSqsa+PM3buHm77zI3bOH8+XbrkdRYMPO0/zw79uIjjB47rHluAydY/llbb7XTx+ez8zR2TR4LJ56bTdJsZG4DY1frvwQgB2//gTz/vUf/N+XbsJr22QlxRAT5eJ3a3bzyYVjSYqN4Lbvv8zFslqOPPMwK7ceY9aYAew8VsDF8loWTRpERU0Dd/znSgAe/9QcZozOxqVr/Pi5bWw9eIFPLhxLfaPFg0vGsfCxFzj0+4f45ztHmD4qi0d+s5FffP5GFn/7BXJSY3ny0cVEuHVMy2bJv7/A5bUqp43M5GefWYDtOOw/XcKX/m8DuWlxvPjd2zmeX87gzAT++sYBfv3KTuKiXDz1lcUkxUWiAJ//1eucuFjBpifuY+exQsYOSuHR327iV1+4EZehEeU2+Orv3uDI+bI22zvioaeJdOv86eu3kJoQhW07fO6X61u2uedkEaMHpqCqCsv+4yUSYyJ47rHleG0HRYHbf7CCwRkJ3HRdLv/z0o52/zbmj8/hPz8xB9PrZfeJIv7npR0tPcDU+CiOnCvjnsdf6fTv8T8+OpMTFyr425sHmTUmm4cWj+fBn6/lD1+7GdPykpUcQ1JcJLd/fwXFlb5K3P/z2QVcNzSd88XVfPJnV4b2sOxEfvfoIhRFobCslk//fC0NHotHbpvER+aPoq7R4s8b9/PnjQdw6Rq/fWQR4wensuVAPt8M0AmKEP4U1gF2/7yRfOPptyisqGPd4/e0G2CKAj/7zAKmfeUvVNY2sv5H97L6veO8uecsCyYMZGBqHK+9f4IFE3Iprarjrb3nSIhx89W7pjDvX/+B5bV56bu3M3ZQCjdOzGXzgXyeeGE7DywYxaiBya3eb8nkPK774p9aDqQxkS7WPX4Pv1z5IfPG5bDjyEXqGn1FI/ecLOYzv1jPb768kKkjMlny7//k0duv5965I/nlyg/RNZW/bjrIt555m/1PPsh3n32XHz/3Hi9/93YmDkkjPSGKxJgIbvjmc0S6dbb8/KNM+tKzPLthf8vBFHzlRtZsP8F3nn2X3LS4lrb+98Pz+cWKD3h952kUBa4qtMyvvnAT9/94FacKKnn6q0tYPm0Ie08Vk5May4Jv/oMGj5ftv/w4z711mK/eOZkVW4/x/NuHGZ+Xyo8fnMu9j/uKRH54rKCl13fXf71CXaPJyJwkfv3Fm1j42Aut2tvsMzdPYN/pYn74923MGTuAJx6ax90/9IXJ23vP8bUn3+R3jy5i4XW5uHSNLQfy+c6z77a8fs/JIvac7Lg45v/78kIWfPM5iirqUFUF23a48VvPExfl4pXv38n3/rK5w9d3xYGzpXzuV6/zb/dN4565I/jN6l3omso/3znC1596kycfXcSt04deUcjziQfn8f2/bOHd/ef5zgMzeHjJeN7cc5Y7Zg1nztf/jtd2UFVflzYtIYrv/3ULheW1HHjqQf7r71uprvNcc7uFCKSwDbC4KBczR2fz5KOLARiUFsf4vFT2nipu9dzU+CgKK2qprPWVfd9++AIjBiSxafcZnvrKYnJSY/nB37byzXumUlHTyJ827GdoVmLT/Yh7AEiIjiA3LY7hA5J4afORpu1c5KEl41u937f/+A7PfPVmbMfhZy++z8GzpRw8U8K0kZl8etE4fr3qw5bn7j5RCMD5kuqW6r/5JdUtl9Msr82+077fKb+0hl1NB7jzJdUkxUYwdlAqc8fltNyLcxsayXGRrdrktR3eO3yh1c9H56bwxp6zQOvwAoiPdnOqoBKAbQfzGZGTzN5TxRw+V0ZNvS+ED5wpIS8jnnGDUpg7LofP3jKhqe2XNrj1kO+9I1w6v/j8DQwfkITXtslO7vjS74gBSby8+ahvGwfz+c0jC1se+/CY77M7W1RFclwkz719mPGD0/jzN5ZyrriK7/91C6Zld7j91PgoSqsaKKrw9Yhs29dml6Hx3GO38h9/3szBs6UdbqPZ5Z/f1VdKdx4rAOBcUTWDMxOanu/w/tGLALx/5CLDByRdEWDDBiSy9WA+ANsOXuCOWcMoLK9ly4HzeJva2dze/NIaCstrAThfUkNiTIQEmAh5YRtgd88ewU9e2M5vVu8C4IaJA3lgwWj2nnq71XOLK+tIT4gmPtpNZW0j00Zm8eK7R7hYVktqQhS6prL7RBFRboOhWYk88puNxEe7OX6hgkWPvdDSk1IUhWHZSVw/LIM3dp9lyvCMNtu2cdcZ1mw/wawx2fzg47O55/FX+P3avXztzslkJce2HHgBLs8M57IjoNLOzaIrnoPCwbMlbNh5mq8++Qbguy9oWjYey4uuKW2+7nIHz5Qwf3wOG3edabMHVlnbSF5GPKcKKpkxOptV244DMDIniegIgwaPxZjcFE4VVHLgTCnvHb7Ayq3HWtrSzGv7gmTJ5Dy8tsP8b/yDUQOTWfm9OwBatbfZkfNlzBidxabdZ5g5Opuj5y8Vq3S4/LMATVX4wV+3APDUVxaz+Po81mw/0ebv3ay4so6k2AhS4iMpqaxv+Qz+8NUlPLN+L+/uP9/h6y9XVlNPdkoMAJOGXfm3cfnH2vzVKorC5GEZvH/kIpOHZ7L+wysLaB47X87M0dm8u/88M0ZnceR8GQfOlPC5pRNbeorN7b36+23nVqMQISVsA+wjC0bx+V+93vLvzQfy+fUXb+KxP7YOMMeBbz3zFusevwfbcVi341RLT23HkQJiIg0Adp0oQlUUvLZDWXUDv1r5IRt/ch9e28Hy2nzyZ6/x9Lo9PP/Yrdx03SAOnGnd29M1lVf/6y7A19v44d+3ApfOsH+/dq9fP4e1O04xY1Q2m564D8fx9d4++bPX2LjrDD//7A0snTaE+360qt3Xf+Ppt3jqK4v59kdmtHkP7F9+t4m/fHMZXtvm4JlSVr13nNy0OE4XVvLUVxYzNCuRP2/cT3FlHT96bhu/fWQRX1p+HYqi8NqOk/z8qntP2w5d4Fv3TmP9j+5t6V0A7bb36bV7efZfb+HNn96PA3zul+vb/V3mj8/h3+6bjuW18ZheNh84z4TBaZ3eA3vkNxtZ+b07aTQtdp8oYsWWo9wydQiZyTF8cfl1bDmQz3/8ufPLiP985wgrv3cHc8YOaOm1dsTy2tw5azg/eWgeF0qqWfXecXJSLvVIH/vjO/z20UUo+IL2E//9Gg0ei1XvHWfz/zxAbYPJXzYd4M8bD3T6XkKEIqnIHETe+dkDLP/eSy2XMkNVblocT/3LEhZ/+4VAN0UIEcbCehh9qMhMiub1H9/Lq++fCPnwEkKIviI9MCGEECFJemBCCCFCkgSYEEKIkCQBJoQQIiRJgAkhhAhJEmBCCCFCkgSYEEKIkCQBJoQQIiRJgAkhhAhJEmBCCCFCkgSYEEKIkCQBJoQQIiRJgAkhhAhJEmBCCCFCkgSYEEKIkCQBJoQQIiRJgAkhhAhJEmBCCCFCkgSYEEKIkCQBJoQQIiRJgAkhhAhJEmBCCCFCkgSYEEKIkCQBJoQQIiRJgAkhhAhJEmBCCCFCkgSYEEKIkPT/Afky0qGTdlwRAAAAAElFTkSuQmCC",
        "encoding": "base64",
        "path": [
         "value"
        ]
       }
      ],
      "model_module": "@jupyter-widgets/controls",
      "model_module_version": "1.5.0",
      "model_name": "ImageModel",
      "state": {
       "layout": "IPY_MODEL_e2d828bf5da141c1887fed69ddba8ab6"
      }
     },
     "a770f3b4adc2497280af610485ddb010": {
      "model_module": "@jupyter-widgets/controls",
      "model_module_version": "1.5.0",
      "model_name": "ToggleButtonsModel",
      "state": {
       "_options_labels": [
        "Choose gate",
        "bloch",
        "unbloch",
        "x",
        "z",
        "h",
        "cz",
        "cx",
        "ry(-pi/4)",
        "ry(pi/4)"
       ],
       "button_style": "",
       "icons": [],
       "index": 0,
       "layout": "IPY_MODEL_ba653d4dbe80480e9310dfee6a496eb0",
       "style": "IPY_MODEL_2b1fe62efe3e42bc8fb6f3b5b097a3e6",
       "tooltips": []
      }
     },
     "a793fff7b66f4ffe852384ca7ed33b65": {
      "model_module": "@jupyter-widgets/base",
      "model_module_version": "1.2.0",
      "model_name": "LayoutModel",
      "state": {}
     },
     "b607ac74af9f46748ffc4789881e0276": {
      "model_module": "@jupyter-widgets/controls",
      "model_module_version": "1.5.0",
      "model_name": "ToggleButtonsModel",
      "state": {
       "_options_labels": [
        ""
       ],
       "button_style": "",
       "icons": [],
       "index": 0,
       "layout": "IPY_MODEL_e002aa4d3d7f4213985b0e6f70661de6",
       "style": "IPY_MODEL_4d577cb6e9b64e21863b7f5eda6f4e20",
       "tooltips": []
      }
     },
     "ba653d4dbe80480e9310dfee6a496eb0": {
      "model_module": "@jupyter-widgets/base",
      "model_module_version": "1.2.0",
      "model_name": "LayoutModel",
      "state": {}
     },
     "c1fa09f4492f45389ebfe71683ae09ff": {
      "model_module": "@jupyter-widgets/controls",
      "model_module_version": "1.5.0",
      "model_name": "VBoxModel",
      "state": {
       "children": [
        "IPY_MODEL_85631f87dd294668b56c675d5549092c",
        "IPY_MODEL_b607ac74af9f46748ffc4789881e0276",
        "IPY_MODEL_9ad9234e34154c499bbd289145597ee3"
       ],
       "layout": "IPY_MODEL_3b7601dcfa8741c68206a34a0f7ae0ec"
      }
     },
     "c819dc90de924920837b8f01ed90ce34": {
      "model_module": "@jupyter-widgets/controls",
      "model_module_version": "1.5.0",
      "model_name": "ToggleButtonsModel",
      "state": {
       "_options_labels": [
        ""
       ],
       "button_style": "",
       "icons": [],
       "index": 0,
       "layout": "IPY_MODEL_1b9a6890ff8d4115a00f7c99322c9bd3",
       "style": "IPY_MODEL_4c737190b249491c935559c4f3c87d5e",
       "tooltips": []
      }
     },
     "d301608e92844de1b57ebbbd43005ca2": {
      "model_module": "@jupyter-widgets/base",
      "model_module_version": "1.2.0",
      "model_name": "LayoutModel",
      "state": {}
     },
     "d4ca6aa373c14cb49443f576dd329371": {
      "model_module": "@jupyter-widgets/controls",
      "model_module_version": "1.5.0",
      "model_name": "ToggleButtonsModel",
      "state": {
       "_options_labels": [
        ""
       ],
       "button_style": "",
       "icons": [],
       "index": 0,
       "layout": "IPY_MODEL_0259734c095043559b5096d301d71d0d",
       "style": "IPY_MODEL_43739360f0a0478980e271aa9883a9e6",
       "tooltips": []
      }
     },
     "dbb777730a5b43adb6f9575f5ad50fe4": {
      "model_module": "@jupyter-widgets/base",
      "model_module_version": "1.2.0",
      "model_name": "LayoutModel",
      "state": {}
     },
     "dc10fc9139e24b41961bda724e0ac67a": {
      "model_module": "@jupyter-widgets/controls",
      "model_module_version": "1.5.0",
      "model_name": "VBoxModel",
      "state": {
       "children": [
        "IPY_MODEL_eb16c5ecddf449e6879d7c041c365953",
        "IPY_MODEL_c819dc90de924920837b8f01ed90ce34",
        "IPY_MODEL_d4ca6aa373c14cb49443f576dd329371"
       ],
       "layout": "IPY_MODEL_13dd4d568a834a1daf7f7dcbc47848d0"
      }
     },
     "e002aa4d3d7f4213985b0e6f70661de6": {
      "model_module": "@jupyter-widgets/base",
      "model_module_version": "1.2.0",
      "model_name": "LayoutModel",
      "state": {}
     },
     "e2d828bf5da141c1887fed69ddba8ab6": {
      "model_module": "@jupyter-widgets/base",
      "model_module_version": "1.2.0",
      "model_name": "LayoutModel",
      "state": {}
     },
     "e8b97d41efc443a685ebf801bf406302": {
      "model_module": "@jupyter-widgets/controls",
      "model_module_version": "1.5.0",
      "model_name": "ToggleButtonsStyleModel",
      "state": {
       "button_width": "",
       "description_width": ""
      }
     },
     "eb16c5ecddf449e6879d7c041c365953": {
      "model_module": "@jupyter-widgets/controls",
      "model_module_version": "1.5.0",
      "model_name": "ToggleButtonsModel",
      "state": {
       "_options_labels": [
        "Choose gate",
        "bloch",
        "unbloch",
        "x",
        "z",
        "h",
        "cz",
        "cx",
        "ry(-pi/4)",
        "ry(pi/4)"
       ],
       "button_style": "",
       "icons": [],
       "index": 0,
       "layout": "IPY_MODEL_dbb777730a5b43adb6f9575f5ad50fe4",
       "style": "IPY_MODEL_eecf5b35f9ee407893007d18eb290980",
       "tooltips": []
      }
     },
     "eecf5b35f9ee407893007d18eb290980": {
      "model_module": "@jupyter-widgets/controls",
      "model_module_version": "1.5.0",
      "model_name": "ToggleButtonsStyleModel",
      "state": {
       "button_width": "",
       "description_width": ""
      }
     },
     "f60a7272958e45b4b5e36606dc8bd3b6": {
      "model_module": "@jupyter-widgets/controls",
      "model_module_version": "1.5.0",
      "model_name": "VBoxModel",
      "state": {
       "children": [
        "IPY_MODEL_a770f3b4adc2497280af610485ddb010",
        "IPY_MODEL_95100bdb3c6d4bdea0dff56f738ff059",
        "IPY_MODEL_93e822060df94fc4bde3f5e7dc49ce8f"
       ],
       "layout": "IPY_MODEL_d301608e92844de1b57ebbbd43005ca2"
      }
     }
    },
    "version_major": 2,
    "version_minor": 0
   }
  }
 },
 "nbformat": 4,
 "nbformat_minor": 5
}
