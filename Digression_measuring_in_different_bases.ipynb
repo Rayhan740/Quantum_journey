{
 "cells": [
  {
   "cell_type": "code",
   "execution_count": 18,
   "id": "c7dc2320-b5a5-4ffd-bb3d-7c0ef497b6f0",
   "metadata": {},
   "outputs": [
    {
     "data": {
      "image/png": "[encoded data removed]",
      "text/plain": [
       "<Figure size 314.126x144.48 with 1 Axes>"
      ]
     },
     "metadata": {},
     "output_type": "display_data"
    },
    {
     "data": {
      "image/png": "[encoded data removed]",
      "text/plain": [
       "<Figure size 504x360 with 1 Axes>"
      ]
     },
     "execution_count": 18,
     "metadata": {},
     "output_type": "execute_result"
    }
   ],
   "source": [
    "from qiskit import QuantumCircuit, assemble, Aer\n",
    "from qiskit.tools.visualization import plot_histogram\n",
    "from math import sqrt, pi\n",
    "\n",
    "# Creates the X measurement function (generally we measure in z basis)\n",
    "\n",
    "sim = Aer.get_backend('aer_simulator')\n",
    "\n",
    "def x_measurement(qc, qubit, cbit):\n",
    "    '''Measure qubit in x basis and then put the result in cbit'''\n",
    "    qc.h(qubit)\n",
    "    qc.measure(qubit, cbit)\n",
    "    return qc\n",
    "\n",
    "initial_state = [1/sqrt(2), -1/sqrt(2)]\n",
    "#Initialize our qubit and measure it\n",
    "\n",
    "qc = QuantumCircuit(1,1)\n",
    "qc.initialize(initial_state, 0)\n",
    "x_measurement(qc, 0, 0) # measure qubit 0 to classical bit 0\n",
    "display(qc.draw())\n",
    "\n",
    "qobj = assemble(qc)\n",
    "counts = sim.run(qobj).result().get_counts()\n",
    "plot_histogram(counts)"
   ]
  },
  {
   "cell_type": "code",
   "execution_count": 19,
   "id": "91b408b6-9e01-43e2-9ae0-e6f13ea96a3a",
   "metadata": {},
   "outputs": [
    {
     "data": {
      "application/vnd.jupyter.widget-view+json": {
       "model_id": "be665dcf38dc4a78ac3369f78f85eb52",
       "version_major": 2,
       "version_minor": 0
      },
      "text/plain": [
       "VBox(children=(HBox(children=(Button(description='X', layout=Layout(height='3em', width='3em'), style=ButtonSt…"
      ]
     },
     "metadata": {},
     "output_type": "display_data"
    },
    {
     "data": {
      "application/vnd.jupyter.widget-view+json": {
       "model_id": "4a3b2eb00e1b47969d2b5cf5f6655e05",
       "version_major": 2,
       "version_minor": 0
      },
      "text/plain": [
       "Image(value=b'\\x89PNG\\r\\n\\x1a\\n\\x00\\x00\\x00\\rIHDR\\x00\\x00\\x01 \\x00\\x00\\x01 \\x08\\x06\\x00\\x00\\x00\\x14\\x83\\xae\\x8…"
      ]
     },
     "metadata": {},
     "output_type": "display_data"
    }
   ],
   "source": [
    "# Run P gate on widget\n",
    "from qiskit_textbook.widgets import gate_demo\n",
    "gate_demo(gates='pauli+h+p')"
   ]
  },
  {
   "cell_type": "code",
   "execution_count": 20,
   "id": "a86db22a-5a0b-4afc-af72-c5e6305524a0",
   "metadata": {},
   "outputs": [
    {
     "data": {
      "image/png": "[encoded data removed]",
      "text/plain": [
       "<Figure size 133.526x84.28 with 1 Axes>"
      ]
     },
     "execution_count": 20,
     "metadata": {},
     "output_type": "execute_result"
    }
   ],
   "source": [
    "# Drawing a P-gate using p(phi, qubit)\n",
    "qc = QuantumCircuit(1)\n",
    "qc.p(pi/4,0)\n",
    "qc.draw()"
   ]
  },
  {
   "cell_type": "code",
   "execution_count": 21,
   "id": "fa1398c9-67df-4ee1-998a-16dfdaf46ca1",
   "metadata": {},
   "outputs": [
    {
     "data": {
      "image/png": "[encoded data removed]",
      "text/plain": [
       "<Figure size 133.526x84.28 with 1 Axes>"
      ]
     },
     "metadata": {},
     "output_type": "display_data"
    },
    {
     "data": {
      "image/png": "[encoded data removed]",
      "text/plain": [
       "<Figure size 374.326x84.28 with 1 Axes>"
      ]
     },
     "execution_count": 21,
     "metadata": {},
     "output_type": "execute_result"
    }
   ],
   "source": [
    "# I(Id-gate or Identity gate), S and T gate\n",
    "\n",
    "# I-gate (Id-gate)\n",
    "qc = QuantumCircuit(1)\n",
    "qc.i(0)\n",
    "display(qc.draw())\n",
    "\n",
    "# S-gate (S-dagger, Sdg, sqrt(Z)^+) phi = pi/2\n",
    "qc.s(0)\n",
    "qc.sdg(0)\n",
    "qc.draw()\n",
    "\n",
    "# T-gate (phi = pi/4)\n",
    "qc.t(0)\n",
    "qc.tdg(0)\n",
    "qc.draw()"
   ]
  },
  {
   "cell_type": "code",
   "execution_count": 22,
   "id": "001d45d1-f9f3-46d4-b4fc-022a235efedf",
   "metadata": {},
   "outputs": [
    {
     "data": {
      "application/vnd.jupyter.widget-view+json": {
       "model_id": "7360bf2931ed4fe3be1a6f848728e71a",
       "version_major": 2,
       "version_minor": 0
      },
      "text/plain": [
       "VBox(children=(HBox(children=(Button(description='I', layout=Layout(height='3em', width='3em'), style=ButtonSt…"
      ]
     },
     "metadata": {},
     "output_type": "display_data"
    },
    {
     "data": {
      "application/vnd.jupyter.widget-view+json": {
       "model_id": "93c6442053294c69b109966ca586df3c",
       "version_major": 2,
       "version_minor": 0
      },
      "text/plain": [
       "Image(value=b'\\x89PNG\\r\\n\\x1a\\n\\x00\\x00\\x00\\rIHDR\\x00\\x00\\x01 \\x00\\x00\\x01 \\x08\\x06\\x00\\x00\\x00\\x14\\x83\\xae\\x8…"
      ]
     },
     "metadata": {},
     "output_type": "display_data"
    }
   ],
   "source": [
    "# To see all the gate at once \n",
    "from qiskit_textbook.widgets import gate_demo\n",
    "gate_demo()"
   ]
  },
  {
   "cell_type": "code",
   "execution_count": 28,
   "id": "23a4d04d-011f-42b4-a282-0e1987b66229",
   "metadata": {},
   "outputs": [
    {
     "data": {
      "image/png": "[encoded data removed]",
      "text/plain": [
       "<Figure size 133.526x84.28 with 1 Axes>"
      ]
     },
     "execution_count": 28,
     "metadata": {},
     "output_type": "execute_result"
    }
   ],
   "source": [
    "# U gate --> can define all the gate at once\n",
    "# Lets have U-gate transform a |0> to |+> state\n",
    "\n",
    "from qiskit import QuantumCircuit, assemble, Aer\n",
    "from qiskit.tools.visualization import plot_histogram\n",
    "from math import sqrt, pi\n",
    "\n",
    "\n",
    "# Let's have U-gate transform a |0> to |+> state\n",
    "qc = QuantumCircuit(1)\n",
    "qc.u(pi/2, 0, pi, 0)\n",
    "qc.draw()\n"
   ]
  },
  {
   "cell_type": "code",
   "execution_count": 29,
   "id": "7639cedd-7d93-4fc0-96ac-05df71204473",
   "metadata": {},
   "outputs": [
    {
     "data": {
      "image/png": "[encoded data removed]",
      "text/plain": [
       "<Figure size 288x288 with 1 Axes>"
      ]
     },
     "execution_count": 29,
     "metadata": {},
     "output_type": "execute_result"
    }
   ],
   "source": [
    "# Let's see the result\n",
    "from qiskit.visualization import plot_bloch_multivector\n",
    "\n",
    "qc.save_statevector()\n",
    "qobj = assemble(qc)\n",
    "state = sim.run(qobj).result().get_statevector()\n",
    "plot_bloch_multivector(state)"
   ]
  },
  {
   "cell_type": "code",
   "execution_count": 30,
   "id": "3f592b25-4000-4ead-9e80-b12671b6ff8f",
   "metadata": {},
   "outputs": [
    {
     "data": {
      "text/html": [
       "<h3>Version Information</h3><table><tr><th>Qiskit Software</th><th>Version</th></tr><tr><td><code>qiskit-terra</code></td><td>0.21.1</td></tr><tr><td><code>qiskit-aer</code></td><td>0.10.4</td></tr><tr><td><code>qiskit-ibmq-provider</code></td><td>0.19.2</td></tr><tr><td><code>qiskit</code></td><td>0.37.1</td></tr><tr><td><code>qiskit-nature</code></td><td>0.4.2</td></tr><tr><td><code>qiskit-finance</code></td><td>0.3.3</td></tr><tr><td><code>qiskit-optimization</code></td><td>0.4.0</td></tr><tr><td><code>qiskit-machine-learning</code></td><td>0.4.0</td></tr><tr><th>System information</th></tr><tr><td>Python version</td><td>3.8.13</td></tr><tr><td>Python compiler</td><td>GCC 10.3.0</td></tr><tr><td>Python build</td><td>default, Mar 25 2022 06:04:10</td></tr><tr><td>OS</td><td>Linux</td></tr><tr><td>CPUs</td><td>8</td></tr><tr><td>Memory (Gb)</td><td>31.211315155029297</td></tr><tr><td colspan='2'>Sun Sep 18 09:15:43 2022 UTC</td></tr></table>"
      ],
      "text/plain": [
       "<IPython.core.display.HTML object>"
      ]
     },
     "metadata": {},
     "output_type": "display_data"
    }
   ],
   "source": [
    "import qiskit.tools.jupyter\n",
    "%qiskit_version_table"
   ]
  },
  {
   "cell_type": "code",
   "execution_count": 6,
   "id": "63c786c0-3b72-4c85-9dd1-a524d2d0c95c",
   "metadata": {},
   "outputs": [
    {
     "name": "stdout",
     "output_type": "stream",
     "text": [
      "{'1': 501, '0': 523}\n"
     ]
    },
    {
     "data": {
      "image/png": "[encoded data removed]",
      "text/plain": [
       "<Figure size 504x360 with 1 Axes>"
      ]
     },
     "execution_count": 6,
     "metadata": {},
     "output_type": "execute_result"
    }
   ],
   "source": [
    "# Exercise 2\n",
    "# Use Qiskit to display the probability of measuring  a |0> qubit in the states |+>  and |->\n",
    "# If we want to measure |-> state then just change 0 state to 1 with x gate\n",
    "\n",
    "from qiskit import QuantumCircuit, Aer \n",
    "from qiskit.tools.visualization import plot_histogram\n",
    "\n",
    "qc = QuantumCircuit(1,1)\n",
    "qc.h(0)\n",
    "qc.measure([0],[0])\n",
    "qc.draw()\n",
    "\n",
    "sim = Aer.get_backend('aer_simulator')\n",
    "counts = sim.run(qc).result().get_counts()\n",
    "print(counts)\n",
    "plot_histogram(counts)"
   ]
  },
  {
   "cell_type": "code",
   "execution_count": null,
   "id": "6ee44154-45f6-4c70-bb68-ee919b9374ee",
   "metadata": {},
   "outputs": [],
   "source": []
  }
 ],
 "metadata": {
  "kernelspec": {
   "display_name": "Python 3 (ipykernel)",
   "language": "python",
   "name": "python3"
  },
  "language_info": {
   "codemirror_mode": {
    "name": "ipython",
    "version": 3
   },
   "file_extension": ".py",
   "mimetype": "text/x-python",
   "name": "python",
   "nbconvert_exporter": "python",
   "pygments_lexer": "ipython3",
   "version": "3.8.13"
  },
  "widgets": {
   "application/vnd.jupyter.widget-state+json": {
    "state": {
     "008fb37aaa5e4d4cb6f918ef40a3e961": {
      "model_module": "@jupyter-widgets/base",
      "model_module_version": "1.2.0",
      "model_name": "LayoutModel",
      "state": {}
     },
     "0444e6d532cd4df0b6724bd684166121": {
      "model_module": "@jupyter-widgets/base",
      "model_module_version": "1.2.0",
      "model_name": "LayoutModel",
      "state": {
       "height": "3em",
       "width": "3em"
      }
     },
     "0c696d183e4f4331bc6bad0335cea74f": {
      "model_module": "@jupyter-widgets/controls",
      "model_module_version": "1.5.0",
      "model_name": "HTMLModel",
      "state": {
       "layout": "IPY_MODEL_5d5fa29954c049b7bf9b458489c77a5c",
       "style": "IPY_MODEL_2cd4b7ba51714b8297efd0c2e63304b2",
       "value": "<h5>Job ID</h5>"
      }
     },
     "0eea64b62819484099e7139bd335f80c": {
      "model_module": "@jupyter-widgets/base",
      "model_module_version": "1.2.0",
      "model_name": "LayoutModel",
      "state": {}
     },
     "12d580b0bca24d24a0155d68543500c2": {
      "model_module": "@jupyter-widgets/base",
      "model_module_version": "1.2.0",
      "model_name": "LayoutModel",
      "state": {
       "height": "3em",
       "width": "3em"
      }
     },
     "12f7bf5f388b49c9b26d94f83fb85d61": {
      "model_module": "@jupyter-widgets/base",
      "model_module_version": "1.2.0",
      "model_name": "LayoutModel",
      "state": {
       "margin": "0px 0px 10px 0px"
      }
     },
     "14abbb5203ba49508d171f015b42520f": {
      "model_module": "@jupyter-widgets/controls",
      "model_module_version": "1.5.0",
      "model_name": "ButtonModel",
      "state": {
       "description": "Reset",
       "layout": "IPY_MODEL_646b1016d9534c3bbcb0cd9e9650a7dd",
       "style": "IPY_MODEL_5ffe8cb2397a42f2ba4e579d62d3139a"
      }
     },
     "17092b2f34544d35838c5aaa56658ff7": {
      "model_module": "@jupyter-widgets/controls",
      "model_module_version": "1.5.0",
      "model_name": "ButtonStyleModel",
      "state": {}
     },
     "17b2e76900a54b37984d19781010ce17": {
      "model_module": "@jupyter-widgets/controls",
      "model_module_version": "1.5.0",
      "model_name": "HTMLModel",
      "state": {
       "layout": "IPY_MODEL_ab4940faa5ef45e495d64b2ecd004275",
       "style": "IPY_MODEL_57dd4fc3020d4072845b27dd8280be45",
       "value": "<h5>Message</h5>"
      }
     },
     "1af1769f717f4ec2b33f24959df443bc": {
      "model_module": "@jupyter-widgets/base",
      "model_module_version": "1.2.0",
      "model_name": "LayoutModel",
      "state": {
       "height": "3em",
       "width": "3em"
      }
     },
     "1b976776a3254f10a2ebedceaca22fdc": {
      "model_module": "@jupyter-widgets/controls",
      "model_module_version": "1.5.0",
      "model_name": "VBoxModel",
      "state": {
       "children": [
        "IPY_MODEL_c140f38c892c42e7aca4f34719457b10",
        "IPY_MODEL_9eaef74dc9774c81933edfa4944c98c1"
       ],
       "layout": "IPY_MODEL_3efbe850434648558e36042427b1f055"
      }
     },
     "2029803e462e4e30ac836a6a67ce780e": {
      "model_module": "@jupyter-widgets/controls",
      "model_module_version": "1.5.0",
      "model_name": "ButtonStyleModel",
      "state": {}
     },
     "20ecb72123ac452ca8d6ed8fa9ece110": {
      "model_module": "@jupyter-widgets/base",
      "model_module_version": "1.2.0",
      "model_name": "LayoutModel",
      "state": {}
     },
     "214c685ed19e42ab9f637167a7a99adf": {
      "model_module": "@jupyter-widgets/controls",
      "model_module_version": "1.5.0",
      "model_name": "ButtonStyleModel",
      "state": {}
     },
     "25094e28c3004e6dbf8502dff0baa1bc": {
      "model_module": "@jupyter-widgets/base",
      "model_module_version": "1.2.0",
      "model_name": "LayoutModel",
      "state": {}
     },
     "253417f50b31411b9f5f0a0204b2f730": {
      "model_module": "@jupyter-widgets/base",
      "model_module_version": "1.2.0",
      "model_name": "LayoutModel",
      "state": {}
     },
     "26843b5b6c0b454eb6acfe485f0ea410": {
      "model_module": "@jupyter-widgets/controls",
      "model_module_version": "1.5.0",
      "model_name": "ButtonModel",
      "state": {
       "description": "H",
       "layout": "IPY_MODEL_1af1769f717f4ec2b33f24959df443bc",
       "style": "IPY_MODEL_e42da321b094404b9ebfc93166877c15"
      }
     },
     "2787d6862b864aacbfaba57c12bb6961": {
      "model_module": "@jupyter-widgets/controls",
      "model_module_version": "1.5.0",
      "model_name": "ButtonModel",
      "state": {
       "description": "Sdg",
       "layout": "IPY_MODEL_fb02c5456647456fa17caa7ffb463979",
       "style": "IPY_MODEL_9d633515e7fa48168347ac27df9e6229"
      }
     },
     "286a47a956b546cd9fe67b6abdf63bc3": {
      "model_module": "@jupyter-widgets/controls",
      "model_module_version": "1.5.0",
      "model_name": "DescriptionStyleModel",
      "state": {
       "description_width": ""
      }
     },
     "2913ce1dd62a4dc2a58bead7f8748265": {
      "model_module": "@jupyter-widgets/controls",
      "model_module_version": "1.5.0",
      "model_name": "ButtonStyleModel",
      "state": {}
     },
     "2bfa3981861746478304cfcf1e17f144": {
      "model_module": "@jupyter-widgets/controls",
      "model_module_version": "1.5.0",
      "model_name": "DescriptionStyleModel",
      "state": {
       "description_width": ""
      }
     },
     "2c975f4ecf684f0196e3124c55bfe550": {
      "model_module": "@jupyter-widgets/controls",
      "model_module_version": "1.5.0",
      "model_name": "ButtonStyleModel",
      "state": {}
     },
     "2cd4b7ba51714b8297efd0c2e63304b2": {
      "model_module": "@jupyter-widgets/controls",
      "model_module_version": "1.5.0",
      "model_name": "DescriptionStyleModel",
      "state": {
       "description_width": ""
      }
     },
     "31e8382b3d804a729a0e26b2fcc2f3c7": {
      "model_module": "@jupyter-widgets/controls",
      "model_module_version": "1.5.0",
      "model_name": "HTMLModel",
      "state": {
       "layout": "IPY_MODEL_a0c57d8a08294c8d98a16f8940ad98a6",
       "style": "IPY_MODEL_286a47a956b546cd9fe67b6abdf63bc3",
       "value": "<h5>Backend</h5>"
      }
     },
     "36724a10b354409da35520e52031fd59": {
      "model_module": "@jupyter-widgets/base",
      "model_module_version": "1.2.0",
      "model_name": "LayoutModel",
      "state": {
       "height": "3em",
       "width": "3em"
      }
     },
     "367f1bde9f3d4b5b9020fd79b6f9380f": {
      "model_module": "@jupyter-widgets/controls",
      "model_module_version": "1.5.0",
      "model_name": "ButtonModel",
      "state": {
       "description": "P",
       "layout": "IPY_MODEL_0444e6d532cd4df0b6724bd684166121",
       "style": "IPY_MODEL_a987e43442bb4a129943eb668603bba4"
      }
     },
     "38ea94bc15ac488fa1d0d83b6bf109e5": {
      "model_module": "@jupyter-widgets/base",
      "model_module_version": "1.2.0",
      "model_name": "LayoutModel",
      "state": {
       "height": "3em",
       "width": "3em"
      }
     },
     "3cec343d0bc0477c9f77ae72ae6fc090": {
      "model_module": "@jupyter-widgets/base",
      "model_module_version": "1.2.0",
      "model_name": "LayoutModel",
      "state": {}
     },
     "3eb11ce5c9bf49239ae68d7620324e65": {
      "model_module": "@jupyter-widgets/controls",
      "model_module_version": "1.5.0",
      "model_name": "FloatSliderModel",
      "state": {
       "layout": "IPY_MODEL_73b578649820407991c8ee2ce84e74ee",
       "max": 3.141592653589793,
       "min": -3.141592653589793,
       "step": 0.1,
       "style": "IPY_MODEL_f81e83651a264f93b6d386de227d1336",
       "value": 3.141592653589793
      }
     },
     "3efbe850434648558e36042427b1f055": {
      "model_module": "@jupyter-widgets/base",
      "model_module_version": "1.2.0",
      "model_name": "LayoutModel",
      "state": {}
     },
     "44e13a859f1a4d02b8061717c0bf72db": {
      "model_module": "@jupyter-widgets/controls",
      "model_module_version": "1.5.0",
      "model_name": "FloatSliderModel",
      "state": {
       "layout": "IPY_MODEL_20ecb72123ac452ca8d6ed8fa9ece110",
       "max": 3.141592653589793,
       "min": -3.141592653589793,
       "step": 0.1,
       "style": "IPY_MODEL_e33733e99b1c477580451132fd75bf8b",
       "value": 3.141592653589793
      }
     },
     "45a549f21b164667a4b103e61be38b7c": {
      "model_module": "@jupyter-widgets/base",
      "model_module_version": "1.2.0",
      "model_name": "LayoutModel",
      "state": {
       "width": "95px"
      }
     },
     "464ee918008a4d578bf87a8e9ab45e22": {
      "model_module": "@jupyter-widgets/base",
      "model_module_version": "1.2.0",
      "model_name": "LayoutModel",
      "state": {}
     },
     "4b920e73849c4e7b8ce5a752df5325ab": {
      "model_module": "@jupyter-widgets/controls",
      "model_module_version": "1.5.0",
      "model_name": "ButtonModel",
      "state": {
       "description": "H",
       "layout": "IPY_MODEL_8cfb42a3e1c24cb3911ac950853b673d",
       "style": "IPY_MODEL_63f543ba16e2409cbac622456c5cf87b"
      }
     },
     "5382a3df5e0646269efabe056bcb20be": {
      "model_module": "@jupyter-widgets/controls",
      "model_module_version": "1.5.0",
      "model_name": "ButtonModel",
      "state": {
       "description": "Z",
       "layout": "IPY_MODEL_6329880fe18c48b39e9b7b6a61990219",
       "style": "IPY_MODEL_7750772e532b412d962df85ee96f8b4b"
      }
     },
     "55478c88522845ba9c3981df42e6b231": {
      "model_module": "@jupyter-widgets/controls",
      "model_module_version": "1.5.0",
      "model_name": "ButtonModel",
      "state": {
       "description": "S",
       "layout": "IPY_MODEL_e359d01aa3404fbfbf82c0fbb9c70b57",
       "style": "IPY_MODEL_aeef0f269b5143c9a1affb04e9efb4f0"
      }
     },
     "57dd4fc3020d4072845b27dd8280be45": {
      "model_module": "@jupyter-widgets/controls",
      "model_module_version": "1.5.0",
      "model_name": "DescriptionStyleModel",
      "state": {
       "description_width": ""
      }
     },
     "5d5fa29954c049b7bf9b458489c77a5c": {
      "model_module": "@jupyter-widgets/base",
      "model_module_version": "1.2.0",
      "model_name": "LayoutModel",
      "state": {
       "width": "190px"
      }
     },
     "5ffe8cb2397a42f2ba4e579d62d3139a": {
      "model_module": "@jupyter-widgets/controls",
      "model_module_version": "1.5.0",
      "model_name": "ButtonStyleModel",
      "state": {}
     },
     "6329880fe18c48b39e9b7b6a61990219": {
      "model_module": "@jupyter-widgets/base",
      "model_module_version": "1.2.0",
      "model_name": "LayoutModel",
      "state": {
       "height": "3em",
       "width": "3em"
      }
     },
     "63a801ecdad84f3d9b92762a14be5bbe": {
      "model_module": "@jupyter-widgets/controls",
      "model_module_version": "1.5.0",
      "model_name": "ButtonModel",
      "state": {
       "description": "X",
       "layout": "IPY_MODEL_38ea94bc15ac488fa1d0d83b6bf109e5",
       "style": "IPY_MODEL_83dda6f79898475bb1cd8ec4c468e9cc"
      }
     },
     "63f543ba16e2409cbac622456c5cf87b": {
      "model_module": "@jupyter-widgets/controls",
      "model_module_version": "1.5.0",
      "model_name": "ButtonStyleModel",
      "state": {}
     },
     "646b1016d9534c3bbcb0cd9e9650a7dd": {
      "model_module": "@jupyter-widgets/base",
      "model_module_version": "1.2.0",
      "model_name": "LayoutModel",
      "state": {
       "height": "3em",
       "width": "6em"
      }
     },
     "670526128ea547569a04e773fb1fc3af": {
      "model_module": "@jupyter-widgets/controls",
      "model_module_version": "1.5.0",
      "model_name": "HTMLModel",
      "state": {
       "layout": "IPY_MODEL_12f7bf5f388b49c9b26d94f83fb85d61",
       "style": "IPY_MODEL_2bfa3981861746478304cfcf1e17f144",
       "value": "<p style='font-family: IBM Plex Sans, Arial, Helvetica, sans-serif; font-size: 20px; font-weight: medium;'>Circuit Properties</p>"
      }
     },
     "6969c68fac744252b18df70fba46e021": {
      "model_module": "@jupyter-widgets/base",
      "model_module_version": "1.2.0",
      "model_name": "LayoutModel",
      "state": {
       "width": "70px"
      }
     },
     "6b698f80b667436296cea9a5fb99585c": {
      "model_module": "@jupyter-widgets/controls",
      "model_module_version": "1.5.0",
      "model_name": "HTMLModel",
      "state": {
       "layout": "IPY_MODEL_45a549f21b164667a4b103e61be38b7c",
       "style": "IPY_MODEL_b576f3d1daed40929926814c1e2a74d8",
       "value": "<h5>Status</h5>"
      }
     },
     "721062e182aa485cb9e57de2c6c359c9": {
      "model_module": "@jupyter-widgets/controls",
      "model_module_version": "1.5.0",
      "model_name": "HTMLModel",
      "state": {
       "layout": "IPY_MODEL_6969c68fac744252b18df70fba46e021",
       "style": "IPY_MODEL_8cd863aa547949788d1ce53f2fa76254",
       "value": "<h5>Queue</h5>"
      }
     },
     "72398560cc0043cf9e4bae1ad116f70b": {
      "model_module": "@jupyter-widgets/controls",
      "model_module_version": "1.5.0",
      "model_name": "HBoxModel",
      "state": {
       "children": [
        "IPY_MODEL_0c696d183e4f4331bc6bad0335cea74f",
        "IPY_MODEL_31e8382b3d804a729a0e26b2fcc2f3c7",
        "IPY_MODEL_6b698f80b667436296cea9a5fb99585c",
        "IPY_MODEL_721062e182aa485cb9e57de2c6c359c9",
        "IPY_MODEL_17b2e76900a54b37984d19781010ce17"
       ],
       "layout": "IPY_MODEL_85ecbcc9460e43acab082260101c3bff"
      }
     },
     "73b578649820407991c8ee2ce84e74ee": {
      "model_module": "@jupyter-widgets/base",
      "model_module_version": "1.2.0",
      "model_name": "LayoutModel",
      "state": {}
     },
     "755df312983e4235a05baa21e6f92ae7": {
      "model_module": "@jupyter-widgets/controls",
      "model_module_version": "1.5.0",
      "model_name": "ButtonModel",
      "state": {
       "description": "Y",
       "layout": "IPY_MODEL_78e3c8d9503d4ab39260ad7051521f10",
       "style": "IPY_MODEL_be3c63cb92be46249dea559ce5dd7d48"
      }
     },
     "7750772e532b412d962df85ee96f8b4b": {
      "model_module": "@jupyter-widgets/controls",
      "model_module_version": "1.5.0",
      "model_name": "ButtonStyleModel",
      "state": {}
     },
     "78e3c8d9503d4ab39260ad7051521f10": {
      "model_module": "@jupyter-widgets/base",
      "model_module_version": "1.2.0",
      "model_name": "LayoutModel",
      "state": {
       "height": "3em",
       "width": "3em"
      }
     },
     "81984cc734e34bb99d1326dc0102576d": {
      "model_module": "@jupyter-widgets/controls",
      "model_module_version": "1.5.0",
      "model_name": "ButtonModel",
      "state": {
       "description": "P",
       "layout": "IPY_MODEL_8cc1354bc1494092868f85fdfc90530e",
       "style": "IPY_MODEL_aada0f10bdb445b69dadde2b7ae39915"
      }
     },
     "824b6c72364c4ab7a2cd228c42ba6ee6": {
      "model_module": "@jupyter-widgets/base",
      "model_module_version": "1.2.0",
      "model_name": "LayoutModel",
      "state": {
       "height": "3em",
       "width": "3em"
      }
     },
     "83dda6f79898475bb1cd8ec4c468e9cc": {
      "model_module": "@jupyter-widgets/controls",
      "model_module_version": "1.5.0",
      "model_name": "ButtonStyleModel",
      "state": {}
     },
     "85a7dafeb21c49a29c98240cb1dc1a62": {
      "model_module": "@jupyter-widgets/controls",
      "model_module_version": "1.5.0",
      "model_name": "ButtonModel",
      "state": {
       "description": "Reset",
       "layout": "IPY_MODEL_92b2d31bd39b454aad186bcdde54b264",
       "style": "IPY_MODEL_cdba61623a69433b9af99003018a9fb2"
      }
     },
     "85ecbcc9460e43acab082260101c3bff": {
      "model_module": "@jupyter-widgets/base",
      "model_module_version": "1.2.0",
      "model_name": "LayoutModel",
      "state": {
       "margin": "0px 0px 0px 37px",
       "width": "600px"
      }
     },
     "8cc1354bc1494092868f85fdfc90530e": {
      "model_module": "@jupyter-widgets/base",
      "model_module_version": "1.2.0",
      "model_name": "LayoutModel",
      "state": {
       "height": "3em",
       "width": "3em"
      }
     },
     "8cd863aa547949788d1ce53f2fa76254": {
      "model_module": "@jupyter-widgets/controls",
      "model_module_version": "1.5.0",
      "model_name": "DescriptionStyleModel",
      "state": {
       "description_width": ""
      }
     },
     "8cfb42a3e1c24cb3911ac950853b673d": {
      "model_module": "@jupyter-widgets/base",
      "model_module_version": "1.2.0",
      "model_name": "LayoutModel",
      "state": {
       "height": "3em",
       "width": "3em"
      }
     },
     "92b2d31bd39b454aad186bcdde54b264": {
      "model_module": "@jupyter-widgets/base",
      "model_module_version": "1.2.0",
      "model_name": "LayoutModel",
      "state": {
       "height": "3em",
       "width": "6em"
      }
     },
     "94e2537dad5c4d4c9583320c9df749e1": {
      "model_module": "@jupyter-widgets/controls",
      "model_module_version": "1.5.0",
      "model_name": "ButtonStyleModel",
      "state": {}
     },
     "96a63786ab3240dba8dbe513e99e1082": {
      "model_module": "@jupyter-widgets/controls",
      "model_module_version": "1.5.0",
      "model_name": "ButtonModel",
      "state": {
       "description": "T",
       "layout": "IPY_MODEL_824b6c72364c4ab7a2cd228c42ba6ee6",
       "style": "IPY_MODEL_94e2537dad5c4d4c9583320c9df749e1"
      }
     },
     "9d633515e7fa48168347ac27df9e6229": {
      "model_module": "@jupyter-widgets/controls",
      "model_module_version": "1.5.0",
      "model_name": "ButtonStyleModel",
      "state": {}
     },
     "9eaef74dc9774c81933edfa4944c98c1": {
      "model_module": "@jupyter-widgets/controls",
      "model_module_version": "1.5.0",
      "model_name": "HBoxModel",
      "state": {
       "children": [
        "IPY_MODEL_367f1bde9f3d4b5b9020fd79b6f9380f",
        "IPY_MODEL_3eb11ce5c9bf49239ae68d7620324e65"
       ],
       "layout": "IPY_MODEL_253417f50b31411b9f5f0a0204b2f730"
      }
     },
     "a0c57d8a08294c8d98a16f8940ad98a6": {
      "model_module": "@jupyter-widgets/base",
      "model_module_version": "1.2.0",
      "model_name": "LayoutModel",
      "state": {
       "width": "145px"
      }
     },
     "a59443931df24259a7407267c1027ebb": {
      "model_module": "@jupyter-widgets/controls",
      "model_module_version": "1.5.0",
      "model_name": "ButtonStyleModel",
      "state": {}
     },
     "a7ce8936855648d3aa3d6aee4d211386": {
      "model_module": "@jupyter-widgets/controls",
      "model_module_version": "1.5.0",
      "model_name": "ButtonModel",
      "state": {
       "description": "Tdg",
       "layout": "IPY_MODEL_e15bfaf2c0c445d0b8a9da77020141d3",
       "style": "IPY_MODEL_a59443931df24259a7407267c1027ebb"
      }
     },
     "a8222a02250c4cdbba37b0499eb3b759": {
      "model_module": "@jupyter-widgets/controls",
      "model_module_version": "1.5.0",
      "model_name": "HBoxModel",
      "state": {
       "children": [
        "IPY_MODEL_ac0320bf56654d6da7c7118b933fc781",
        "IPY_MODEL_da76593c628e4391a186131ed6e2530f",
        "IPY_MODEL_5382a3df5e0646269efabe056bcb20be",
        "IPY_MODEL_26843b5b6c0b454eb6acfe485f0ea410",
        "IPY_MODEL_85a7dafeb21c49a29c98240cb1dc1a62"
       ],
       "layout": "IPY_MODEL_25094e28c3004e6dbf8502dff0baa1bc"
      }
     },
     "a91f94888be0481092f6814ac6699fbb": {
      "buffers": [
       {
        "data": "iVBORw0KGgoAAAANSUhEUgAAASAAAAEgCAYAAAAUg66AAAAAOXRFWHRTb2Z0d2FyZQBNYXRwbG90bGliIHZlcnNpb24zLjUuMSwgaHR0cHM6Ly9tYXRwbG90bGliLm9yZy/YYfK9AAAACXBIWXMAAAsTAAALEwEAmpwYAACRxUlEQVR4nO39eZAdV34eiH4n97vfqrq1ASjsC0EAJLjvIMhuqvvF00RHeDwzbxSjsGTL0rNkt9x+M3bYnpi25eiRx7YseZEjxhPxWpYiWvaTI9wtjSy1eiG7SQJcQAAkQGIHCkABtVfdJff1/XHOycp7624FgCwAlV9ERVXdJfNk3ptf/tbvR6IoQooUKVKsB4T1XkCKFCk2LlICSpEixbohJaAUKVKsG1ICSpEixbohJaAUKVKsG1ICSpEixbohJaAUKVKsG1ICSpEixbohJaAUKVKsG1ICSpEixbohJaAUKVKsG1ICSpEixbohJaAUKVKsG1ICSpEixbohJaAUfYMQ8nuEkIgQsn0N75kkhEx+fqtK8SAjJaAUXzgIIb/AiOwX7vD9Wwgh/19CyG1CiMNI7ncIIQP3eKkpPmdI672AFA89vnQvN0YI2QXgGIARAN8DcB7AswB+HcBXCSEvRVG0eC/3meLzQ0pAKT5XRFF05R5v8t+Bks/Xoyj6N/xBQsi/BPANAN8C8P++x/tM8TkhdcEeEhCKv0kI+ZQQYhNCbhFC/i0hpNQuDkMI+UfMDTraZlvb2XO/12F3AiHk7xBCzrN9TRFCfpsQUmyzraZ9E0LeAvBt9u+32X74z/Yex7gLwM8AmATwuy1PfxOAAeDnCSG5bttJcf8gtYAeHvwOgK8DmAbw7wF4AL4G4DkACgD3Hu7rtwEcAfD/A3WDvgLgbwN4hRDychRFdpf3/h6AKlvb9wCcTjxX7bHf19jvv4iiKEw+EUVRgxDyLihBPQ/gR70PI8V6IyWghwCEkBdByecKgGejKFpij/9DAG8CGAdw/R7u8iUAh6Mous728/cB/BGAvwTgfwHwTzq9MYqi3yOEAJSAvhtF0e+tYb/72O+LHZ6/BEpAe5ES0AOB1AV7OPCL7Pe3OPkAALNE/v7nsL9/xcmH7ScEJZ4QwF/9HPbHUWK/ax2e54+XP8c1pLiHSAno4cCT7PdP2jz3DoDgHu9v1X6iKLoK4CaA7YSQ8j3eX4qHFCkBPRzglsFs6xNRFPkAFu7x/lbth2GmZT33GtzC6bR9/nj1c9p/inuMlIAeDvALc7T1CUKIBKDS5j08iNsuDljusb9V+2EYa1nPvcYF9ntvh+f3sN+dYkQp7jOkBPRw4CT7/Wqb514GILZ5fJn9nmjz3NM99rdqP4SQnWxbk1EUVXu8n7uE7dbVDW+y3z9DCGn67hJCCqDBcRPAe2vcbop1QkpADwd+j/3+h4SQQf4gIUQD8Jsd3vMB+/2LzEri75kA8L/12N+vE0K2Jd4jAPjnoN+nb3d81wp4pfLWPl4bgxU1/gWA7QB+reXpfwwgB+APoigy1rLdFOuHNA3/ECCKoncJIf8GwN8CcJYQ8p+xUge0DFob1Pqe9wkhPwWt5/mAEPJjUNfqvwHwfbS3jDjeBXCaEPKfQN2trwB4HMBHAP5ZH0s+Dmqp/G1CyBBWYkf/JoqiXu7br4K2YvxrQsiXAJwDrXV6DdT1+od97D/F/YIoitKfh+AHAAHwN0EvSAfAbdBq4RJo5fBkm/eUAfxfAObYe84C+GVQCyMC8Hstr/899vhOAP8f0D4sG8At0ELIYpt9dNr3V0GJSGfbjABs7/NYJ0AtrWnQAsvrbP8D6/05pD9r+yHsA03xEIO3QkRRtH19V5IiRTPSGFCKFCnWDSkBpUiRYt2QElCKFCnWDSkBbQBEUbT9XsV/EjIed7U9QsjLbDut6fQUGwj3OwFF6c/99fPNb37zmwBw7dq1a63PTU1NRX/1r/7VaNOmTZGqqtH27dujv/23/3a0vLy8ajtBELw9PDyMN95449+u9zFt8J91xf1OQCkeEFy5cgVPPfUUvv3tb+PZZ5/FN77xDezcuRP/6l/9K7zwwgtYXGxWSRUEAT/7sz+Lt956C7Xa59W5keJ+R0pAKe4JfvVXfxVzc3P41//6X+O73/0u/uk//af48Y9/jG984xu4cOEC/uE/XF0f+LWvfQ2e5+HP/uzP1mHFKe4HpASU4q5x5coV/MVf/AW2b9+OX/u15pDOP/7H/xi5XA5/8Ad/AMNo7pB44403kMlk8L3vfe+LXG6K+wgpAaW4a7z55psAgJ/5mZ+BIDR/pQqFAl566SWYpon33mvuEc1ms3jjjTfwZ3/2Z/A87wtbb4r7BykBpbhrXLhAVTL27m2vkrFnD1XJuHhxtUrG1772NdRqNbz11luf2/pS3L9ICSjFXYMHkUulUtvn+ePVanXVcz/7sz8LQRBSN2yDIiWgFOuKkZERPP/88/jjP/7j9V5KinVASkAp7hrcwumUTuePl8vlts/X63UUi6tGiqXYAEgJKMVdY98+Oi2nXYwHAC5dugSgfYzo6tWrOHv2LL72ta99fgtMcd8iJaAUd43XXqPzAv/iL/4CYdg0LxCNRgPvvvsustksnn/++VXv5bGflIA2JlICSnHX2LVrF37mZ34Gk5OT+N3fbZ6Y/M1vfhOGYeDnf/7nkcutnpj8ve99D+Pj43jmmWe+qOWmuI+QSrKmuCf4d//u3+HFF1/E17/+dfzoRz/C/v378f777+PNN9/E3r178a1vfWvVexYXF/HOO+/gl37pl8CmpabYYEgtoBT3BLt27cKJEyfwC7/wC3j//ffxW7/1W7hy5Qp+/dd/He+99x6GhoZWvedP//RPEQRB6n5tYKQWUIp7homJCXz729/u+/Xf+973kM/n8frrr3+Oq0pxPyO1gFJ8YUjqj9u2je9///v46le/ClVV13FVKdYTqQWU4o4R+j6CIEAYRUAUIQpDKjIThgjDEIQQEEIQgVZB+74PWZZRGR7Gxx9/jN27d+Pnfu7n1vswUqwjUgJK0YQgCOi4FEIQBQF8z4PvuvS370Ov1SAIAm5dvYrQNCnxAPR34u+Qj9CJItR1HWEYQlNVOK6L6Rs3UCmV8N3/9J8giiJmrl+HIEmQZBmyqkJRFMiquqqxNcXDh5SANjBc14Vt2/A8D45lwbYsOI4Dz7bhex4iRiQEAAiBJAh47OBBfOPrX0cEoNZoAKCuFaF/IGLZLE4+tuPAdhzkMxkEYYggCKAbBjzPgyxJlLAEAaauw7QsmKYJyzRhmCZM04SiKCgNDKBYLqMyMoJKpYJt27ZBUZR1OWcp7i3u97lg9/XiHlRYloXlxUXUazU4pgmfSWFEoNMNiSBQ6ycMKQmx34QQiKKIbCYDTVUhCkLsYgGIXS6OIAhQrVYhSRLyrAYoiiIsV6sQJQmiKOL69eu4cfMmBEKQz+ehqCoymQwy2SwymobA92ExYrQsC6ZloVqr4dDhw3jx5ZeRz+e/2JP38GFd6x9SAtog8H0fi7OzWJibg67rCHwfiqJAURSIoghJFCG2/BAAQRiCAAjDkJKA4yAIAhBCoCoKNE2DJIoAmNWTsIBM04RpWSgVCpBlmT4O4MbNm5i8dg21Wg1btmzBzp07US6XEYYhfN+H57qwXRee5yEMAgRhiDCKEDAitCwLt6enUV1exubNm/H4U09h565dyGQy63NyH2ykBNQF9/Xi7nf4vo9GrYba8jIW5+ZgOw4EQpDL5ZDPZqHIMiRJgiSteOJhFNE4ECjpxDEeILZuXNeF4ziwXRcAoCkKMplMU8wmiCJUl5chCkLcaDo3O4tTp09DEAQMj4xg+/btUBQFQRDADwIauAazxAiBKAixBcatqyAMEbDgd8MwcHNqCosLC9i+Ywe2TExgqFJBZWQEuVwOqqqmBY69kRJQF9zXi7sf4XkeGo0GGktLsA0DYRDAchxEUYRCLod8LkctjSCg1obvxxc/QC98gV34AnOxBEGAwAhAkqTY4gnCELZtw7JtgBDks1moLDZjex7qtRpy2SwEQcCZTz7B7Pw8Dh06hHyhgOryMnW3NI1aYMwl45aYIAgAs6hiNxCrr5YwDDEzN4cPTpzAls2bUalUEAHI5HIYqlQwMjqKcrmcBrQ7IyWgLrivF3e/IAgCWJaFRq0Gs16HzwjH9TxU63V4vg+FXeDcIiCENH3zeCqdZ694NisOLPPHGSEpkgRFVaEqCgRBgOs4CKIIiiQhl8vBsCwas9F1fPzJJxgdHcWOHTsgCgIESYLjOFBkGYPlMl0T2wdHRAhC5urxtQS80TW5dhYA100Tx959FyMjI9izdy8s24ZhmhAlCflyGWNjYxgaGoKmaZ/3x/GgISWgLrivF7fecBwHjUYDer0Os16HbZoIogih7yOMItiWBUEUUcjnkVFVCMlYD3O9CLMwkuCxmJDV9oQsBhPxGI3vw2Exmog9F4LW//BgtWlZuHXzJhzPw759+zAwMABNlqEoCiRJgmEYcD0PgwmNIEEQmiyVCGi7tqCl454Tkud5OH78OGRZxnPPPQcCwGTnyPN9ahUND2NsbCzVH1pBSkBdcF8vbr1g2zbq9ToWZmdRW1qC7/sQBSEml2wmgyAIIIgiBsvlphhPEiFLi0MQVltD7CLn8RiOiMWIwjCE5/txPMh1Xbiui4ZhYG5+Hremp1EsFLB161YMFIvIZrMQebAaNI5k2TYK+TzEBOlwl08UBBBBgABAEEUQUYRECIgoIvD9FSutBUEY4t133sHI8DAeefRRkCgCBAGe66Ku6zBME/liEaPj4xgZGUE2m727D+PBR0pAXXBfL+6Lhm3bWF5exvz8PJbn5yEA0GQZuVwOGU2DxtLjtmVBN01k2P8Amt0WBp8VHbYiCAIAKwTF40Vh4vXc0kEiZuQ6Dubm53H58mVs2rwZ1yYncfDRRyFKEkAINE1DLptFNpNBGASoNRoo5PNQZDkOegdBEBNcwKyvVhAWH5IkCbIk0e0DcQDbsiz8+Mc/xnPPPYfBwUEA1LoCc+uWazX4YYjBoSEMViool8vQNG2jBqzX9aDTQsQHAL7vY35+HnNzc2jUapCiCIPFIgZKpVXZJ9/3YVoWJElCpku8I+KVygkE3MVyHPi+jyBBNrIsQ2XVyQKzTiRBoK6e48D1PMzOzeHW1BRefO45ZAoFTN24gfGxMTpyhxA4to16rYZavQ5VUeD5PkBI3AsWFzTyNSbWlCSkMAxpmt6yYAFxcFxmbmU2k8GTTzyBDz/8EK+//jpkWW4isqGBATiOg+WlJTiuC8uyUCwWUSqV4nKBFF8MUgK6jxFFEebn53Hz5k0YjQY0SUKlUECxWFxFLvzub5gmAKDQoUAviiIQRhxhGMJjLRb8Ig/ZtkRRRFaWIckypETwmu8rCENaOe26iABcu3YN1aUlvP7aazTALEkQBAGFYhGGroMQgsGBAXieB8uyYJgmdF2HZZool0ool8vxMfGgMwGoK5YkBZYZy7A1e56HIAjgeV48W4wQgkKxiMrwME6dOoXnnn0WEYt18ZomWZYxUCxCNwxM6zqq+TxGRkdRLBZRKBQ2qjX0hSMloPsUy8vLuHL5MsxGA6ooYnxwEOVyGbIorlygiewRIQSGYSDwfeTz+VUXEGGv88MQnm3Ddpz4ghUEISYangpPxn54WwUvMjQtCzZLvSuyjDNnz8L3fRx97TVEUQTHdeO4kyJJEAoF6LoOwzCQz+eRzWQwODgIbX4eruvC931Mz85CkWUMlErI53KImMsYslgPWTmQ+Jj4ejkCRko+I6QdO3bgww8/xPlLlzAxMQGVFV2yg4IoCCgVCmgYBhrVKvRaDZWREQwODmKwUknbPb4ApAR0nyEMQ9y8eRPXr12DDGDL8DAGh4YgsCK8+GJMtj0QgiAIYNs2ZFZcGIPFPVzXhcusBQCxSyWxjBhPgYfsN8FKnEdg+/F9H7phIAxDqJoGSZJw/Ngx5PJ5vPD885QETRPBTAPh2Rso1mgBoSSKKBYKqOs6dF1HPpeDLMvIZDJQVBXFQgGNRgP1eh1zCwtYXFpCuVRaCVBz64WRES8Z4Ovk4Nk9FYjT9o899hg+/uQTDFcqsG0bkiRBVVVKjCzFn8/lILC1L87Nob60hHq9jolt29Lq6s8ZaRD6PoJpmrh08SJqS0soZrPYtmULJBa/4FZIJ9fAYG0PxWKRWjBRFGemPN8HAEiSRNsvZBmCIMTp9SSSfV9JWLYN27ZBBAH5XA6iIODYu+8im8vhySefjF3Ahf/7NPwfXEZWjwACKF/eDfm/ewyEEIRhiHqjgTAMUSgU4uxZuVSibl0UwTQM1BoNOGxfxUIBhUKhydKJSwRaYkat4Gn8N998E7t27sTQyAgc143ri1RFgaKqcSyLN8NyCzCTzWLHrl0YaKPm+BAhzYJ1wX29uHuFMAwxPz+Pq5cvI3IcjFQqGBsdbZK5CDtcbDyYvFyrQRQEaJoGhxEPQN0rfqEl093xvtm2+TqaigFB3RrDMBCEIRRFQTabhQDgwxMnEAQBnn/uOdq8GkUIHQ/T/+sfQ7UB1Yqot0SAzD//fwIFNY4dNRqNOLDtOg6dF9ZSj2RbFqr1OmzbRhhFyOdyGCiXafyKWXFx71mP7/Dt27fx2blzeO3oUURAXMfkel6cTVNlGUQQ4Hoe7cKXZRBC4Ichtmzbhq3btj2scaE0C7aRYds2rk9Oora4CCWKsGnrVhQKBVp9zBtBsfpbwq0UQggs24bjOJAkKbZ2VNZoyosNk7GT5AXL3ZAwDEFYQSGHY9swbRsAdVN4TOTs2bMwTRMvv/wyTYkDACGwf3IVCAHRTy4U8P7iIpT/9hAAGlQu5POoNxowDQMis9Z4qwcn3Uwmg0wmA8d1Ua/V0DAMLNdqyOVyGCiVaG0QVtxRfk7aWYnj4+P49LPPMDc3h5HRUao3JEkIWbW44zgwLIuSEXNNXdel51CSMHnlCkxdx559+yClWbJ7ipSA1hELCwu4dfMmAstCXlUxODBAySeKQBJp46SrEUtmsIvMtm3MLSwgCsO47keW5ThGFFsVbawE/ohACIggwAuCOGZkmCZ834+lNHiq/8qVK5iensarr74ax5qiKELkBrB+TAcTikHzfvyfXIP8lb1AToklPQr5PJaXl2GaJgrFYrx9AjRlrFRFQWV4GJlcDsvVKnTDgGlZGCyXkctmV5UScFcw+T8hBPv27sWFixcxMjoak5QoCNAEAZqqwvf9mHD5ubVsO25qnZ+dhWOa2Ll3L4odJrymWDvSDr11wuzsLG5NTkKJIpQLBZTKZapt0+KKtDZg8r9tx0G1VsNStQpEEYYrFRS47AW3AHrESPj2CCgJiYKAwPdRr9XgBwGy2SyKhUJMDrdu3cKFixfx8ksvNes4EwLvJ1cRmC5ICAitXOf48H94uekhifWMBVEEg7lkyTUJhMQSHJwIhysVjI2MQBYELC4uYmZuDq7vN22Xx334D2+03bxlC0zTxPLSUuLFUXz8kiQhl8+jyOJNURTRVpd6HRqzJOuNBq5cuIDpW7d6nNUU/SIloHXAzPQ05m7eRE6WUcjnISsKSvk8rShmbhdHXEDHLR7HwXKtBt0wANBsVqFQgMayNbzJtBPxRFixEFpf43oedMOAKEkoF4vQNC0mhsWFBZw+dQovvfgisq0DBh0f3p9fQCCutn44vB9fAQy36TFVVZFRVbhMdCw+5kS7R9ylz57LaBrGxsYwUCrBd11M376N5VqtbcU0sFIBDQBbt27F9Rs32rZxxETErLNCPo9MJgPLcbC4tASNSXuYloWFmRlcv3wZQQv5pVg7UgL6gnH71i3MT00hoygYHBpCFIbIZjIQ2F2Xu0oRADB3JQJrw2DEQwhBkRUkEiCu3u2ZEWJ/t3udyQoDJVGkmTSWphYEAZZp4tjx43j22WdpwDi53SiC+5OrCBoOQgGQ2vNAWyuIEBJn5XhxohcEccsHt4TQEsMSBAGlchnj4+PI53Jo1Ou4NTMDM0FirSCEYPPmzZienqZNs4zcYiF9/jomQSLJMsqlEkrFIlUVqNUQRRE8z4PLpEauXrwYB/tT3BlSAvoCcWtqCsu3btG7+OhonGrWNK3ZdUjU+Di2jVoL8ZRLJSiKEn/5VUXpK5XRzjKKAOiGAcOyoKoqCgmXC2xNH3z4IQ48+ihGWGYuzs4BCB0P7p+dhy/SS7iTBRQBcH90BWHdjquweauFJMuQFQWmZSFgxZFJCEBbPR9ZljE8PIyR4WFIgoD5hQXMzc/D72CZlEolEEFAnWlZ83W1EhIS5Fdgbhn/fCzbxnK1SivBTRNXzp2D04X4UnRHSkBfEKZu3sTS9DQyuRzGR0djyYtsJhMHi+PMFlbS1Q3mahUSxMNdCN5j1anbvZfVE0YRGo0GbMeBpqrI5XKrMkifffYZFEXBrl274u3EmacogveTa4iY9RNFEYgfIoxCBCGVUuU/YRgitF04P7y4Iu+RSKNnWU+bbpqrapPi/baRDgGAbDaL8bExlEslOK6LW7Oz0HW97TnZvGkTbt++3ZwVTJ6TliZYgRDkmHqkqigo5HJwHAe1ej2OT127fLkj6aXojpSAvgBMTU1haWYG+VwOYyMjtL6EfWFlWY4re+PMluuiVqvB9X3kslmUSiWojHjibBZLIcs92gU6WUZBGKJer8PzPORzubYVv7Ozs7h+/Tqefuqpjhes/94N+lsASAQIIKx6uv1XK/hgqmlbvN2CFzgiolrSncDLBlY9LggYKJexaWwMmixjcXkZC4uLq2JDmzZtwszMTExoTfE2NGfQOHlKokibZz0vFsv3fB8NXae6SK6L65cvd4xDpeiMlIA+ZywuLmJxehrFXA6jw8Px47xeh2dcAGb1sHYFQRRRKhbjbnceE+LpdY+NzWntV0oGWDuRjx8EqLM7eKFQWCG3BBzbxocnTuDpp5+G0m1yqUXdwFDq7H41rc/ygLA548X/kyQJWiYTFwomQejBUfmPLsWHsixjdGQExUIBpmVhena2KVM2NDRElRo5yXF3l5UftIKwbBzP+rmeR9tIVBWiKFLhfdOE3mhganKy9wlI0YSUgD5H2LaN6Rs3kJFlVBLl/BEA3/PiC5ugxerJZFAqFJqaQgU0E4rLYiVywv2KgFXiYq3wfB/1eh0RgFKxuBLAbilUPHHiBLZv24aRkZG22+ExEenoLhoLIoDYhwEgv7IDgrBCILyKmkNTVcjswvZbCKGpI79LVbIgCBgaHMTw4CCiMMTMzExMOIQQjI2NYWZmpuWAoo6kxt+nqCpcJuwfRhFy2Wxcea4bBhbn53Hr+vXeJyFFjLQQ8XNCGIa4de0aSBBgdNOm2Irhd3IeVA2CALquw/G8uOgvHnPDtsVjLlEYxu6Lz14fFyjyrvguF5Hv+2g0GlQmoyXYnMSly5fheh7279/f9RgJIVC/sg/RUAbShSkorggcn1p1IUvPTQCKCHHPMMRnt8Tvja26ZA0QIcjl86jX6zAMI870ofW1zH3q1kqUy+chKQoWFxcxv7iIouOgVCphuFLBzNwcdu7cCbBtxJM30GxFJqEqCu1f87y4N01jDb2GZdFG3Vu34Ichtu3Y0fXcpaBICehzwuzNm3AMA5XBwaaKYS45CkLgOA4cx0EEIJfJxKp8PDjbVIDIqpWTBXaxkBfQlXgA5nY1GlQrpzXTlXjd8tISLpw/j9def737JIkkaTw2BmVXAfliEeaHtwGv2XJR/qcnQRSx+f0JGZHW2IkgCMjlctAbDViWhWyixmlV5XOHwDSHqigYGx3F0tISGroOy3GQz+dRv3QpcSjN4mzJREDS0hIEAZIkwbKsOGbGLdRCNgvDsmBYFpybNxGFIbazwH2KzkgJ6HNAbW4O9cVFZDKZuLUiHnMDls5lmjpFpn/TZPWQ1fKpAKsOBuIAdpNV1QV+EKDByKeYaHtoRRAE+ODDD/H44cPQNC0WKUtOR+WNsTwgHkURbNuG47oQBAFGLgL8BD9FgFevgyhik4xIfB5sG0EQQGYd+rwtRBQEKKoKx3Egy3KTq9mKTv1y8XkTBFQqFaiqiqVqFQYbXcQHLHYKHvO5ZEl6U1UVNfZeenz0cw1ZJs/1PNiOg8lr1xAGAXbu3dtx3SlSArrncOp1LM7MIAIwXKnEd1bCyIdLUgS+T0fGdHK5OiCpCyTJck/yibvPgbitImJzwcIwRMj0nv0wxKWLF5HRNGSzWVRrtXhNfB+tqXB+TEEUxdNUpQCADyCgb4gIIIgr1ci87oaTmO/78D2PCpy1IIoiGKZJhcwKhVgbiM8N48L1YDGypIvaDoVCAYqiYGFxEWomg6lbt7B506buJ7DF1ZNEkWoNtYtPMYkPURRRbzRwk1Vd79y792HtpL9rpAR0D+HrOuZu34btuhgbG2sarkdApS3quo4gCDAwMADdNOF5Xnxh9fsVDX0fAgCpx7A9z/dRrVZpvVE2S2U1OgjRW5aFGzdv4pVXXoGWycRz37nLmJz73m5UDu/tgk0AD4jCFULVMlkQtc1XLYogSxJc10WpWFwZ7ZMgKFEU0dB1eK6LSJJWLvyEC8dnjRFmQYmCQLvl21z0qqpidGQEhUIBM7OzyOVyKJdKHc9hMv7EZ63JkgQiinGPGn9dBErKEoBcNgvDNJtIKB2OuBopAd0j+LoOvVqFYRgYGBiIJ4RyuQrP81BnxXGlYhGCKMJmI200TeubfCIg/uLHGSTmFvlBAJ9pPPO+rtD3adOn70MQRciyDFEQqBUhihCZ+/Dxxx9j/yOPYHBgoMcCopZ/acOocicXV7JplhCIACCK9IdBY0L4ruvSZl1gpbCRzY0PggC+61KXkKXTBXaMSalZPr0DhGB0ZATzc3No6DqiMMRAj+Pm1p/nebT0gZAm6Vn+GrCaJlmWoWkabMvC1M2biKIIu/btS0moBSkB3QMEponAdanbwnSGgZVUsWPbaDDtm2I+D0GSEPg+VEWhA/qY9kwv8BaIIAxBRBEum17hMtLhrxEFAR6bPFoeGuo5I/3W1BRs28bu3bt7H2xL1opbJGKXGE33zbUvLEwik83C8zwYloUcs85EQQBa9hlGESWlIIAXBAh8HzZrk0iOmpZlGaViEdcnJ5HP5ShRg07L6AYu4K9pWiyE3xaMUGVJAjQNpm3j9q1bkGUZ2/s5xxsIKQHdJQLXhW/bsCwLjuOgzMSyuJtiMqlUSZLiGEzI7sJc+MowTRqE7UISARsEaNs2avU6FEWBz6Q3uKKfyMTHDMOAxNoGegmr+76P0x9/jGeffbavu/Mq94v9305tsR8k3bpOJCkSgkwmA9004XoelA6iYAIhENhoHgUr8rJ+EMBz3Vis3vU8CIKARqMBTVWp6qOuIwxDDA0MtD0PUUQlWyVRhMY+N66xnZSLTR4XEYRYWdEwTUp4pRIqiYLUjY6UgO4CYRAgYAVutVoNEcsy8fYC3TDgOA5UVUW+TZ+VQAhyuRxqrOaldZROEARwPY9aOkEQS6RKooh8Pg+NVeMmYRhG3F7Rz1SHz86dw8jICIb60D3mxYfJ4wgSGbk7QT8WEEDT6bZtw2LC+327rBGdfiEmxhgFLPAuiiIMw6AFhp6HarUKx3EwOjy8aj6YZdtUyzqfh8CsGwLE2+lygPGsMtOycO7sWTz17LOrJU02KFICugv4hoEoDOOUenlgII6p1BsN2juUySCXGP8bRVGT5o8kilR3hllKsizD9Tx4jkNjHVFEe5E0DYokwQ+CuIO+1epwHAe249BJqZnMSgq5Q51MvV7H9Rs38KXXX+/7mFtJNAzDOGB9J+DNrb3KCQhrCuU60Z2GLiZVBfj7Wq02nrHTMhnIshw3mxJCUG80cN1xMDQ4CFVRIMsyVUtkNxIe8xFZ/MwPAnRpVImTC9xqM00TZ06fxtPPP9+duDYI0ojYHcK3LES+D0JIbP2UmGxDg5FPIZdrJh+0byHQWC/W3Nwc5ubnYVsWCHM7yqUSyqUScuxi4RBbtuMz8Xg5MRGVj9QROhDEyVOncODRRzu6NKvQhsiCMLzrwGq/VpDEOtIdx2lKg3PS4QJmrUWFnVLzmqrCtm1KRpqG8bExjI+NQSAES8vLsCwLS9UqFhYXEYThqjidxGJ5fRwgtYREEdlsFo16Hec+/bSPI374kRLQHSBwXQSMJEzThG3bGCyXQQhBQ9fh+z6KhQLUdtNLoxXBMcfzUG80sFytxr1GfFxMoVRCRtPiGiGOVoVEgKaudTZ9lMu6toKn0zkZ3bhxA2EYYsf27X0dc6f2hE4xkL7BY0D9dJJHVKxeYOedT/SI5T06vK1TB31G0+A4TtNjxUIBo8PDUGQ5LpngRZKNRgMNXYfruohYCQGAuKAxiVWSIoRAZOOjVVXFzO3buDU11fuYH3KkLtgaEbC4D//C1Vnmq1Ao0PiL6yKbzUJV1ZXCOK57A1qVbNk2XMdByKwHTdOgKgoEUYSh67AdhzY7soF5SYRh2PxYFEHXdQRhiGKfI4WjKMJn587h2WeeabIQugWC+WTVprXwCu+7IKBkdXS39SahqCpMFpDuViGdhMAqnpP7UTWtbQFkNpeD7bpYWFhAEATYNjEBQghc14XjuvBNk6baRTHWdeLTR/g+2hEqP7+qqsIPAlw8dw7FUgkFljXdiEgtoDUiMIz4QnRdFzYrouOjcTRNQ4bX9fAvOyFxF/ry8jJsy4IgCMjn8yiVSshms3EGK5vLxSX9tXp9ldBV60Vk2TYcVmjYSZisFZOTkygVixgaGorbIpIFh8Bq16WT9QPceQA6ibipNtHqwf/m1g1fA682ttagRBj34CWgaRrsFguINweLgoCRSgWKJGGpWo1vFMVCgX5eogjH92HZNqr1eiyvwmuN2lpjhACshCCbySAMQ5w9fXpVVfVGQkpAa4Bv2wD7shDQ6mEuWGUzSdNkzAegsZl6vU4nTXgeNBbXKRaLUBSliUz4fKxMJoNiPg9EEWqsIZNbAWGik95zXRiWBU1RoHXT7EkgCAKcO38e+x99dOXBFusjJiH2d2sgN27zYnf5pJtIiSMx5DBaeU8sqJboI4t/gLjFJH59y3qS61M1DVEYdq7FaQPSYmlpCQsoAr2h6CyxkMvlMDAwgFK5DIfpcfNt8MB1MZ9HhvXM6YYRu99d18D2JYoiMpoGwzBw9fLlru95mJG6YH0iCAIEtt2UqbFMEwT0iyvLMm1FYPB8H6ZlwWV32EwmQ92yDttvHTMsyzJKpRIMXYdp27BdF9lMBlEYQpQkBGEI3TAgCcIq0uuGa9euYWBgAANrmG3VmqHif/NucZKwLKjlxOIuyTclYl9NSFhg3fR4mrZDCFRZhiOKcVr+TqCpKmzHieurgiCALEnIZrMxUZUKBQRM/ZBPzOAQBIFmGwFosgzHddEwDBBQcmvnmiaPUJFl+EGAqRs3MDo+jmKxeEfH8SAjtYD6ROS6VPKC+fEeG+GLiI72LRQKcV1IrV5HvV6H73nIZjIYKJdjZcO22+5w4QmESmcU8nkQAA1dp13cvk9naQHIFwpdGzCT8IMA58+fx6M9dH7aLLDtw2EQ0O71tW2tI0g/rlzCRdSYFbSWyRRJV0ySZdis2RURFRhrp4s9UC4jo6qo1mqwWmJGAmuIldmIJUUUqRtnGDAMo61F1GSFMcv16gbVlU4JqA9w6wdY+fLouk5bA/L5WHJDZ+ODPc+Dpmkol8vI5nLxnbAd0cT1Kl32r7DWgVw2ixDAwvIyqo0GjYWsIf5y9coVVCoVlLo0X64F4V0GoO8WiixDFMVVcZxe8Jl1yufOZzQNeT7UsQ0IIRgaHIQiSVhcXGwivFhYjiUcFFVFIZ+HpigIggCGYdCMXbssHyPDbCaDxfl5zM3NddU2ehiRElAfiBynaRpEFIZYWlqKpT8934/vjpqmYWBgANlsdmXcMLcS2jRyAt3Jh4NnTzKqGg/Qs9l0Btu2e35xfd/HhYsXm2M/faLTtgPW9Hkv0OqC9gNeK9WPFRRFEVzXRb3RoFlD36fDHMOQ9sr12JcoiqhUKnT8z+JikyYTl1nhwWT+WRXzeSpm77rQdT2OV7UrjMxoGqanpqg1toGQElAPhGGIsOXLXW804LBqWS5IjihCiYmLtb0oCaGyqQxrIZ/keyxWBTw2Ohq3d5iWhWq1Gs9zb+cyXb58GaOjoyiuMeXbMWaFlQbPe4Y7qKaWJYlaQR1ImFs79Xo91oXOZrMoFos0prbGfQ0NDYEAmGcTN7gonMuKUpsPh1DrirnQJnP32o0dUmQZer2OpaWlDTVdIw1C90BoWYj4nZ4QuI4DvdFACEpOjusio2nIsPlenUAIAYkSs7CwNvIB6Bc4CAJkWNGjoii0KZW1CrhM4jV+jikJer6PS5cv4+irr/a/syiCx9LMlmXBYWUGAe82Z4FbXpPELYADYbjqrvb++++BqDKV/yAEApPG4KL7QRCgyKq9FVWFoqq016rd+UycP35eM5lMbGHILLDreR58z6MXM8tcqWzGO8edkKeqqhgsl7G4tITF5WUMDw7SjF4X0pBEEflcDrbjwHVdNIIAWU1rcvm41TQ7PY2BgYENUxuUElAXhGGIkHVOgxBEQQDTsmAaBoIwhMbubpIo9rx7RwCdeAo2B2uNa/F9H6ZtU2JpqfeRWAd4lslWuK7bREaT169jpFKJ58cDTJ+oXqcuCRtO6Ng2bMeBbduw2dRWhenaqIwYJEmK9XVURUEml6NWCK+yFmaAoPkOv2ViK0IhWhlSyHR8wiCA47qwHQe6YcBzHJrxsywEQQBN0+IfVVWhqio954VCPE4IoC5MGEVYqlZpUJeRlCxJ0DSNjpluQzY889ZLV7oV2WwWXhCgWq1isVqFJIo0BtQFPGMmM01p0zTjz4y3okiiCL1ex+LiIi1C3QDaQSkBdUFk203uTEPXYeo6XN9HkRURNhUc9kBc9cvv4n1+6SNW7SyAZU26VCtzqwhRBJcpIl67ehUTExP48IMPYFgWLMOAHwRxhk1RVRSLRajDw00XvMQUCNtZIrbjwDJNFIvFplYMAx+ueu34+PhqUXoGx3Vh8u2wIr4wopKntm3HlpfNLLHZuTlcvXoVDV2n4vXZLDK5HJ1OIcsYHBzE4MAA7Zjv8bnwCz/uRVsDCRXyediWBV3Xkc/l+nLlCOjNIp/PU+JlsaGYbAiBlslgjllB9ypZcD8jJaAuCF03/hJbpolavU5NeTZDfc0RC6bYx9PN/X7pbduGz4rjDFZ71A6WZdFBiIuLWFpeRqNeB0AtBEQRyuUyxsbHoTHzv3Xig8gsGS5p2q01g7s29/ouzV1VXnmsyDKyuVxsNXmuG1/sHhOAN1nKe2lpCdeuXoXv+ygUChgYGMDQ0BAqlUpbF5lrMxFCNaXbxWbaHjtzpQfKZbhzc6g1GpSEupyvloOk7qAoQjdN6IaBbCYTW5cGJ7Z8/qHvmE8JqAPCRIWt4zhYWFiI631M01zR2llD4DQiq4OU8Ve+w5ffDwIYlkXjOck0cRShWqthaWkpJh3f9zE0OIiBwUEcPHAAxWIRb731Fg4fPozhFhGsIAiohCubQsrjJonFrVRCM61l3qohCEJMBKs6zzsde0shItd99lyXtrRYVpxh9FmcKXlGBELF6GVNg8TiR60lAI5t08pwVY0J6dbt2zhz5gxNpQ8NYWhoCIODgyizOBqP3bSr+G5zEAgSz4uShHK5jJnZWRiGgXIfhYTxyB9WP5bLZmlw2jSRZYoHsiiiXq9Tveo1FIw+iEgJqAN45stxHCzMz0MQBAwPD9O2CDB9l7VkbTrECOIvfQeXzGCVtdlMBsvVKq5NTqJRr6NarSKjaRgYHERleBiPPPJInG3hmJ2bAwhBpVJZtV0xEceJ54sx1ydg1gYfyxP4/kobBYPOLLGmeWSEwM6DjuXhnRgEkGs1QG5vKbmeF4/eEUURAqGyFRKPKzHdHW41+m2yTRyyokBg7TGDg4MYHBwEF0DlhLS4uIjJyUlKGOUyoijCwsICzW4JAqIOfVlc+7p139lsFrlsFku1Gp1h1mdVOg/ei6KIXC4XK2dqQRAXSJqmSWOMdyh3+yDg4T2yu0AURYh8H57rorq8DAC0BkSS6Ex2YG3l/z1iPrEsKX+AuTcmi3nUqlXMzc2BACiVy9i2fTueGx3tqSN9+fJl7Nm9u6dbwFstCCFxQBtgrRaJ13HZC0QR/DCk9SuZDHUtwS5SH4AHhGwsDyLavS4oYmxVgTW6CqyiXGaWhJA4D51S0d2ORWCzxGzbRsSGPHLkcjnkcjlMTEwAoIR07NgxhGGIj06ehO/7VA9ofByVSiVOrwO04rtbx36pVEJd17Fcq9EWjD7dUr59PojRtCxYjgOFHXsYhqjX6xgcHOxrew8iUgJqg8jzELDhdb7vo1Qux1aC5/t0HM4d1Kz0AiEEvudhZnYWUzdvYur2beSzWUxMTODFF19EPpeLv+S9yKdhGFhcXMSzzz7be79tHostnpY4kcCek0SRZqVammAjG3QsT4C4F0zRtI5B6LBNkLvTme0nU6WqKhwmm9GpQVfXdRw/fhwjIyOwHQdvvPEGdF3H7du3ceHiRbz3wQcYHh7G+OgoRsfGekrbCoSK0ZmsabWXuD2QuOmwmw1XfDRNE7bjQBAE+K4LWxCaxv88bHg4j+ou4dl2PK0iw0xsDtd1+9JajsEvmi4XTxgEuHX7Nm7euBG7AwODg3huYgKjIyNx7CXqY1scV65cwbbt2/sKYvIO7VWPdwpAM3K6FwHoTkfSaU29IDL3ze1AQIuLi/jggw+wf/9+DA8P4/b0NAAgn89jz5492LNnDyzTxK3padycmsLJ06cxNDiIiS1bsHnLlvZEwLKPoiBAZyn2flwxAkBgmkIcWiYDz/Ng2TYajQaGNA2WZT20dUEpAbXA9zzoy8vwfR+KoiCX6IzmgdtkPU1XtMRHWolD13Vcu3oV12/cQKlUwvbt2/HMM8+ACAKWq9W4hqX1zt/rwvR8H9evX+9b67nd9rrtg6+n2xSPvtGpIrzN+ep3b5qqouF5cWEix9TUFD755BM8/fTTGBkZQbVahSzLq3Sk1UwGO7Zvx7Zt2xD4PuZmZ3H9xg2cOXsWW7Zswc4dO1BskyIvFItU3J5NLenXamklWz5EcnZmBuXBwZSANgqiKEJ9YYGW2LPJmmriLup5HhCG/Wsot9tHGOL27du4evUq6vU6tm7dildffTUeugdQYiJAk7YzBx+t3A3Xb9zA8PBw3wHRttZGD4sNwOfaiNouI9VvsSBPZ9ssuA0AFy9exNWrV/Hyyy/Hshee79NUPIvxtO4fTPpkfPNmjG/eDMs0MXntGt55913kslns2LmTjnZOdOgPDAxgfmEB1VoNlT4mjRBCRcqiRNxHEARKQqaJm5OT2LZz5yoyfViQElACRqOBwLbpCBjXpQHWxJ04CEOEoDIOa4VuGLh65QomJydRKBSwY+dObNq0aZUbw9sqtDbyHVxknv2z8kSLWNjly5fx5BNPrHmNSbRqACXB62XudBJGO/RbP9OP+8l1tQ3Lgu/7OHP2LKrLyzh69CiV8GDWjus49LNst2/WMpJ0jzLZLPYfOID9+/djemYGk9eu4ZNPPsHmzZsxOjKCHBuFVMznUW00YJhm31pNnHD5SniDar1WQ3V5GYUu3foPMlICYgjDEBYrNAxYfCMO9LJgbOx69NpY4iIxLAvnzp3DrakpTGzZgiNHjlANnw6wuKBVhwBqUq0w3l3iApqdmaFd+n3cfRMbbSaxHq0ivAjxTocRJtFpX233vwbCkxUFoWHg+PHjEEURL7/8Mm3ZSBCKz2asdUKsYNC6X0HA+KZNGN+0CaZh4MqVK/jo1CkMDQ3h4KOPolAswrQs1Op1ZHplxRLnvbUQUpZlKL6P2ZkZDAwOPpSCZSkBMej1OojvQ85kaFFYNrvyxeMZC37n7+PCs2wb58+fx9TNm9ixaxe+8pWv9Bxf7HkeXKbv3OlL2841SV4ek9euYdfOnSttBj1Xuhq9bIxWXeq7AW+FaIdW15D06YIhimDbNj766CPk8nk8/dRTbcnS9/3uVkUbK6gV2VwO+x55BJs2b8bszAze+ulPsWl8HNu3b4fLpFq7KRDElg8rUWg9QlVVUWs0UK1WUalU1pYAeQCQEhBYo6euI8smZIqt1g9HHxeA4zi4cP48JicnsW37dnz5jTegqWrcPd8NFpu2oXawfgBKfn4HHWTH8zAzN4cnnnqKvrbl+Y6tAi0WEIk6j7gBaBzri2iU7KRFvWo9LdnBaq2G48ePY/v27RgdG6PTS9tcuF4f6W2uA9UrKC+KIvY98gh2796NS5cv49ixY6hUKhgZG+ss0dLuGFo+C0EQoCkKlhYX0RgdXZtl+wAgJSDQQYJiGEJi439zbawfAHGjZLsvk+d5uHTpEi5dvoyJLVvw5Tfe6Di9sx1c14Xr+8gnsm7t0O256Vu3MDIy0nFUTZMAPhIX1hqzbCELzt4LRO1cHI7WmA8nxsS4o9a1zs7O4qOPPsLhw4exadMm1Ot1uK7btm7K87zemSrWetKt2z2ZFRRkGY/u349dO3fi/LlzOHvmDObn5/HYwYNtbywRmgsvBUJWuWJaJoNarYb5+XkMDg7e09jbeuPh7/fvAd/34TQayCgKHNeFKAgrZm6PymWO6elp/OAHP4BuGPjSa6/hicOHV5FP169MFME0TbrvHtMthC6B2Os3bmArq/TtBZL43UqocUo6WplYkbREwii6Nyn4eDErFdDJH0R06GDEJ56CWl9x2rxlM5PXruHkRx/h+eefx6ZNmwAAiqLEI65bYTtO39NEuh1t1DqrDdR1evzwYTzz9NNwXBc/+OEPcfPmzVVr5hNd4/877FsSRczOzEDX9b7W+6Bgw1tAtm1DYI2Bpm0jxzNfwKo7c9hyt3ZdF5988gkWFxbw9NNPY7hNz1UTOtzteTNoPp/veXfjHdytJMBVEUfHxnoccY8loplg479YTCkKQ4AP30scTxywjSIgpOtDCIBEQJS4sJLnIGJCXux42gajGeH2coPOnj2L6elpHHn11abpJLKiQLBteK67ygKxTBPj/ZyvHlZQFEUd44JDQ0PwwxDupk04f+ECbt26hcNPPNFMfEn3F2hKy/P9ZzMZLNfr0HX9oaoJ2vAWkGNZkEWRNjkCPa0fAZQEZmdm8MMf/hCiJOH1L32pJ/nEPVCtYNaPlIw7dUFSgziJm1NT2LRp091nprrEueL9JjrjeYyEvoD2eEFgfVMCGHFFK+TE95HsjiedJ2u0uo2tCIIAH3zwAZaXlvBqC/kAgMg65502mtEm60C/W4RR1DFALssyCrkcZFnGSy+9hHwuhx/+8IeYmpqKdY9a0Uq2ESP8kM2Ye5iwoS0gXgtSEEW4jtO7w52ZyydPnsTs7Cy1epIyF72C1G3cJ8fzEIRh33e1mIBatnP9xg08duhQX9voij4zTesiRt+yNtd1cfz4cWSzWbz08ssd16QoCjzTRBCGTQRtmiYy/c5UY2UHba2gKAK6pPPz+TwMy0K90cCjBw9ifPNmnDhxAtevX8fhJ59se+NJFpxyEpZkGctMM/phUUt8OI7iDuG6Lgi7o4dRBDn5RWhDRFeuXsVHH30Ex7bxpddeWyGfFqmKTmh3oTmWRWM/fRaZiawRNkzcOWv1Olzb7u0C9rGufgLQwL0tQuyGThaQrut46623MDIygmeeeabrBckn0HoJK8hhYnNrLSptd9RhFHW9kESmCe2zHq+BchlHjx5FNpfDD3/wA8zOzrZ9X9NnQQgUWUaDTUF5WLChCchxHEhYie3E2aM2ZHL71i1MTU2hUCzCcV18/wc/wHvHj+Pa1avxtIW1wvd9eL4PbQ3ZMh5rSFpAN27exJY+g8+90K3dgWdruNsUZ3CilRHLnbYZB5Zb/u9UGpAMRCc2BIA2lL79059i79692N/HkEXCPls3Ub5g9dkw2rKh9rGeTuUNCXBdn3qtFhe6Hjx4EM89+yxOnDiBa9euNe8Kq61MWZJgW9ZDNbpnQ7tgvutCZBIYiiR1DD5fvnQJFy5exFNPPQXbcbB1YgKB72N2bg63bt/G2U8/RSaTwejoKMbGxjA4NASxDwuBD9RbS3EZVyTkFlAE4Pr163jxxRf73kYr4owT0NO8T6aLOzaS9tpXmzaSjjU+YLFs0IrvqZs38fHHH+OZZ57ByMhI3/tVFAWu58XSFpZl9e9+JdBaHR27ST1cIj7ldnFpCbZlxTedSqWCV44cwfFjx2DbNh555JGmand+7ABije5Go7FK4fJBxYYmIACx6LrcjgSiCGfOnMH0zAyOHj2KKIowMzcH3/ehqiomJiawZcsWREGApWoVM7OzOHPmDAzDwPDICMZGRzE6OtrUVBpLk4YhHNuGqqpr9ueTGZnFhQU6R76PMv2kBdLk2iSIpNdaeBX0PauE7hEDiiuEowgXzp3DtWvX8PLLL68SbG93PEnIsgyRELis9se0LNrrt1YwK4jvg0vH9gr+R0D8WRumuWL1EoJ8Po8jR47g+HvvwTRNPPHEEytDLQUhVtPkjzUajbWv+z7FhiYgEobwPA+qqkJWlCYRrjAM8dGHH8K0bRw9ehSKLMdzsDgBxdsRxVhv+MD+/bBtGzNzc5iZmcGZM2eQy+UwysioVCqBCAJsx0GEzj1f3SCyrB1A3a92tT/czWlHFO0G6CVdpG7o1jpxJ+hHyD2KIpw6eRKLS0s4+uqrbeVQolZXjWXkOHnxm4zD1BIt00R2Da5vEgIhsTY0vxF0UgaIa5aY25XLZlHX9VUiY6qm4ZWXX8YHH3yA48eP49lnn4Usy1QsP7E9URRhpAT0kIDpHielMDj5HHv3XciyTJsY2Z1HEEWQROq0bcyDEGiahu1bt2L71q0IogjLi4uYmZ3F6dOnoRsGRoaHUSgWUalU7qiimPBaIABTt27h1SNHVpNHl9R2222iv6kQ9zoDs8ola4HnunjvvfcQAThy5Eh/GjvJOqPEw4osw3VdOrPdNDE2Onpni070bcXSJB1KLFqLOLPZLBq6DsM0V1mtoiTh+RdewOlTp/D2O+/glZdfjvWK+NYFQu445ng/YkMTkO+6q7NfUYRTp05BkiQ8++yzTXdniU3rDIJgJfPV4+4tEioKX6lUcPDAATQMA7empnDz1i1cuHgRpUIBo2NjGBsbiyc1dAK/k3NCXFpagihJyCUJ9G7QBwFF97oNA50tKss0cezYMQwODuLgoUN96wF1gihJiEB7wBqNBnbu3HnHyouEpclbU/scPDjfCpkNejQtC4V8fpXlRAjBE088gVOnTuHEiRN4/vnnIZCV6SmCIMBigxsfhpE9G5qAAs+DwDIkPBB7+fJlLC8v4+irr666MPhoGp+PjOnWw8S214psJoPRkREMDg2hyIKSMzMzOHHiBFzXjeNGI6OjULhbyGNHYUjnirHtT9++fed38VawC6qX1dSt6nfN6BLErlarOH78OHbv3o3du3atGtNzJ4izYY4DXddRLBabmkDXQkZ8zWEQNFllSZerE7LZbDyBNpfNtrVeDx8+jLffeQfnzp+nmb4EWXuuSxtsUwJ6cMF7jICVL93c/DwuXLyIo0ePdjT1RVFsW73aFjxTlMgY+WEI1/eRyWYhShJGRkbibI6h65hh8p8fnTyJcrGIkdFRjI2PU3OdF6SxL97MzAwePXDgDs9AM5JmfsfXMJfiXvWBdbKAZqan8dFHH+GJJ57Aps2b+YuBfs97F0iyjGWm+9T0GSfctaSUSUcaSSQUBDbjnrtkvWJamqpCEgQYXcb4EEHA888+izffegvFQgGbNm9GFNFpJIQQ6I1GV9WEBwUbloAiJscpsICuZVn48MMP8ewzz3RVsRMlKU6f94Xkl5EQOKyIrF31ay6fx45cDjt27EAQBFhYWMDMzAzef+89BGFI0/yjoxgeGUEYBKg3Gn3Jfva1zD7jP/Qw7i0BJc/R1StXcP7CBbz4wgsYSBzbvQp7y5IEi1k/vdaVDLi3Ozu8MVYQhDWdGy65Wms04HhexyJURdPw3PPP4/ixY8jncsjmciARlf4wDANDd1h4ej9hwxJQ4LoQ2Z3LtiwcP3YMjzzySM/6ClEQ+reAkmB3TNu2aYMkH8/Mv+wtBCCKYpw5w2OPQTcMzMzM4NrkJD766CMoqgpVVWGYJh0TfZek0M+7OwmyJV2OkEQAAQJhxQOVmPuIDul7nqk6e/YsZqan8eqRI/curtUCfvH2W4SYJMnWjFTIuvTvBLlcDo1Gg07Z7TIDvlwu49Bjj+Hd997DSy++SFP+ogj9IcmEbVgC8llZvqoouHzlCorFInbt3NnzfZIk0WmhdxAE9DyPZslUtUnuolcgm9eK7N69G7t374bv+3j7pz9FCODdd98FATDGAtmV4eE7miHF6S8Mw1giIvl3FEVwXRe6aSIMAhqIjlZLYth50MGE4QoB2Y06iLw62BoEASy2vXPnz8NzXTz/wguQZRkei88JfCrqPUz9m5ZF64j6OfccLOvIq57DKKJxGEG4o6wgH+poWhbCQqHrNrZs2YKF+XlcvHQJu3fuRPQQZcI2LgF5Xnw3vn7tGl7rc4QNLyazHadvwXEOx3XpjHMe8OXd42uEKAio6zqeePJJDFcq8QiXS5cv44MPP8Tg4GBMSPk2lkTTCGY2htlzXXistqgVBCz1D5rVUxQlnhrCu/wJWNGgDRCXTkYNCSU2WcvEo5nj9oooggdaR3Pq1Clkslk8fvgwgiCAaVlt1xFFUTyuWRAEiGwNa4Wu69gyMQG/JYDcFdGKGFrI9ukHwV2VJPBpqKZlId/Sxd+KRx59FD/44Q+xdds22pKREtCDjZBZMFevXsXo2FjfTYmKqkIA7SNbCwFFUUR7zySJBi15zCDxfFPQuguW2Vz4jKYhCAKUSiWUSiXs3bcPnutidm4OszMzuHjxIkRBwPDICCqVCkrFIiJW55SEyC7meA47WZHb4L/BjlkgBLkuEqOBRwA/QhisWFWyooCoq79q9tISPv30U2ydmMCjBw7EleIRExDjQmRhFMFnc77sFpIUBIGun8+RZz+dwK2uXDbb98RRviYkbhhRGCIMAiiqGmsWrTVLp2oaREGAbds9CUgAsHl8HFcvXcK+/fu7KjQ+SNiwBBT4PgLfx40bN/DiSy/Bse14umU3iIIAWZbh9BmI5l9K23EQRlHHvq/4Tp6o+eiEmZkZGhsCmuJRPEVeqVRQLpexc/duNOp1LC4u4uLFi9B1HUODg7RNZGwsrkMhrLq7VzzjXgah5+fn8cH772PHrl3Yv2/fSv8TISCiuKpLOlCUuP4qTFhwISOCJDHFM+4ZGUmiGBNHo16n43OYm9e2ETgRl4tWNtr0Ep+dd0kUqXXIsl8xUfWDKIKqaTBNs2uBZxiGsF0Xu3btwk9/8hNs2br1nugY3Q/YkAQUBAGiKMLVK1ewY+dOlEslVGs1WD1MYf5lVDWtpzAUdzV4ENP3PBDQQjTSg2R6yWNMT0/j4MGDEASBykqw+eG+76+khlnNy+jICDZv2gRBFOG5LuZYi8g7ly9DU1WMjo1hdGQEA4ODXY8HYMJb96AP7MaNGzjzySc4fPgwDTb30YrBYy+8DEBgN4LEixBEEb2xBAHNbLLudwKavZREEcvVKorFImRZhut5CIOAFgPyIDrbVi/wVhgx8d64TEEQmj77bseV0TSYhgHHdTtqiPObXT6bxa7du3H1yhUM9fF5PQjYkATkeR5s28b0zAy++pWvQBAEGhA0Tfiq2tksZ18oRVEQovOc+NZCtAiA7box+QBoK07WDq1kZFkWao0GVE1Dg6VxeZ+RwmpbJElq64YoqootExPYMjGBKIqwvLyM2ZkZnP30U9RrNQxWKisNtO3usD0aR3shiiJcuHABk9eu4ZVXXqG9WY7Tk9B4fImvof2LCERCmqZfRCxQ7DNr1/Z9LCwsQGXTTzzfh+t5UAShr88iCd/zYuuRr5Gn7SMWtI9FxTpl/kBjikQQ4DhOWwIKgoBORZUkCIKAnTt24Nq1a2jU6w+FMNmGJaDlxUWMjI7GbRiapsE2zc5zuBNfUFVVIRICx3GaCIgHKVu/yh4jieRr28336oQoiugF43mYunUL5VIJPtMREkQRhXx+zVMzCSEYHBzE4OAg9j3yCGzbxu3padpAe/YsrdhmRZCDAwOxFvWdVkFHQYBTp0+jWqvh6NGj0DKZeAxRz/e2XORrOUZZluNzE4Yh6o0Gdu3ejSAI4DoOVcRk50+SpL6Oj8eolMSNqlUzOqmZ3Xbd7AZEWFC/k0tv2zaiKILEvjuCJGFoaAhz8/MIfR/CAz4nbEMSUOj7WKpW6VxvBgJAy2ZhmmbbaQnJL5Asy3FHOyerCOg4s93zPCCKmkmiD7fD9Tx4rgvX82LXw2g0MFypYKBcRhAEqNXrsSAY3ezKoLu+EUVQVRXbt27F1okJhGGIpeVlzExP4+OPP4ZpmhgdGUGxVLojHRrf8/D+BycgSlJTQ2nf62xTsNgXooi2rrDzEwQB6rUaxkdHY2nbhmFQK4O5VJIkxaTVaW2+7yNir43RZW18gEDyO5T8W1VVWI6zKijueR6CIICiKJD49sMQg4ODuH3rFvwwfOAv4Ad9/XeEMAyxvLSEw4cPNz2uqio8z4NpmrFLEyPhMgmEQGWB6E6FhBwRqA8vM1nQeHNofzcPwhCO48BhQWuBEFp0yO7QtUYD+/fvp02pLLjq+35TZfWqu29ibZ3UBwFmaTDXoTI0hMrQEA6Cun2zs7O4OTWFCxcuoFgoYGxsDCOjoxgol3u6AW+/8w4qY8M49NhjTRZG2C8BJSygfpCUVYmzU4SgyuI/3D1VFAUaU0MImDSL73mwfB+2ZUFm5721YZQPMEgmLHg5QjtXLm7tIM16UByaqoKATtMtsLIJXp3P59xzhFGE8sAAPv30Uzqg8g4lRe4XbEgCWlhchCiKq9LoBLQ2Q6/XYeg6hGJxZXZ4yxdL1TQYS0sI2syESsL3fYRRhEwPF8nzPDiOE1s7iixDVdUmEgzCELVqFYMDA3S9hEASxbaTUpvIjqeOE4WPyemnvO+pEylmMhls374d5YEBqiZompidncWpkydh2zbGxsZoA+3ICIgmI/JW3IlAALbu2Ibd+/au2m6y1aEr+LlPxtWiRJNuOyJrs92FhYWmYLsoSSBgI5oVhVofmQx834/dM5eVTiiqGkv2eqwQs12zcjdJk1ijqeVxWZYhsThQIZ9vqoXKZjLNccAwhCSKyOXzuHnzJvY/+mjH/T0I2JAEdGtqCgPsIm4Csxhy+TwajQb0RgOFYrFtal7VNIBVpHbLnLmuC0RR234fQggs24btOFSZkW1XU9W2+6zWasjlck1mOq8a7icg2XTBkIReECejlsrsJuuJVUSLoojh4WEMDw/j4MGDtAhydhZTU1M4deoUHhuVMJLoEvD3DbQlH77N2GVMrKvVmuQTaQla5tLz9/Xpmi0uLWEiId4msiprPwyR/HR4ID8KQziuC891YRoGBEGglfDMLWpFP6uICzZb6rF4Op5bPlEYIsen5CZUEflk3pHhYVy9di0loAcRCwsLeGRiomPRnyCKKBQKqDMSyhcKTVZOCNrCIUkSDMPoSkCe664KbkZRBNtxYPFRMcwaU1vctFYsLSxgsKX5NKlRdCcZkbatINxNSD6UeI6L+BMAGdY8u2PHDgRhiIWn5nD7j05BuqGjWgxhPaVidGoKwyMjNK7Ct00IAt8HYcTMZSzaHX1SJuROSwCiKMLiwkKT283dWN/vUAEuCNA0Daqqwvc8OK4L3TDgui4kWYbSEifqd23JeipOthlNg2EYqNbrkEUR2Uxm5fNMWn5hCCIIGBocxOz09FpOwX2JBzuHd4eIAJBEcVrTczzOI4rI5XIIwxBGoxGb1iFWCv6y2Sxs2+5odocRlU9IWiyO49CaI9OEJMso5PMoF4s0DtDjC7y4uLiq/oO7iJ3aKHoh2RqRLIKMkj9RtLoIkVtL0cqECwJgZn4WVx6VUP7mV/DZI0BheBDXrl3Dn/3X/4qf/uQnOH/xImr1Os0kYeUibIqldagqXnNwPYE6k+BoTS7w3r5uGUku55rP56GwmBAXNXNct+m9vW4CTeUZib8VRYHnurCZXnSyjCJseY9ImC5178O+77EhLaBONR9N9Sag7k0ul0ND11Gv1ejo5MQXI5vJoN5o0NL+NlaQn8is8OB2EAQQBQGZfJ4KjvX48iexsLSE/S36PwKb/Ol7HtCjOjZpYfCAMycX3k4AtE8Z84ugEwEEvo8PP/wQnu/j6KuvxoHbXbt2YRcTFJufn8fMzAyOHzuGIIowxHrWNm/e3KSyGLuDyf+xQoirjgu93Z/FxcW28hUSq7oOWGylG7j8RrlYhCRJsG0blm3DdRxomkaznD0IMindEW83ilaaSwVhZTwUmLuW+H6EYRhnU7+o2WyfJzYmAXVBa32OJMvI5/PQdR21RgO5bLapdkgSReidCIhX5DIJTSIIyOVyzYL2fdYDmWwb7frPJCaY327aRRxYTlgq7Mn4dz/ZOXQhINu2cfz4cRTyeTz73HO0JqZFskQUxbhBFlGEer2OyRs3MHn9Oj7++GMMDg7SquzRUZoJ4oHzxDZ48+sqi7PFjWxnKS0uLWGwTfVw7ML6fk8C8lg1uyTLkEQR+Xw+Lmo1LAuS6/ac8db6Wfu+D9M0EYUhsrlc0+wydtDxuefH/aAXHyaxYQloLfcOSZJQKBRg6DoMXUcmm4WqabEbVme1OMk4UQRAbzRgWhYkSUImm23vZvV5F1taXMTQ0FBbApAlCTZYNkeW4y95U8C2A1rJphMhthMPA2hv1bFjx7B12zbsf+SR/o6HEOTyeWydmKB9YIKA+bk5zMzO4tKlSxAFIdbJrlQqve/0LTU2rWuIoggL8/PYs3t3m7fSto7A94EeCoOu7wMs88jBCxhdz4Nj29B1HaIktf+sW1xL13VhWVZ8PmAYcB2Huu0d4j8A7p0k7n2AlIDaoJ0lIQgCCsUiDMOgweMgQDabbeuGBUGAhq5DNwxkMxkMsFE8HdfShxW0uLgYp99bIUoSwiiC53lNsYO+qoxb9pt0xdq9Lkmy8/Pz+PCDD3Dg4EFs27at576SiK0Yllka37QJ45s2xdbRzMwMLly4gPePH8dgpRIPfcz26BqP15v42zAMeJ6HAldBbDk+qY/m4igMEfg+lDYkxWt1ZEmC4zgwWVFhNpNp/jxYawYXpnNdl7YBZbMQCG2gBevr45XPSbeZN8CKonjPFCLXGxuSgERZ7iirmowDRaCxgeSHncvl4IgidYl8H1om0+SGOY4Ti3ZpqopSsdj7jtXhok9icXERBw4ejP/nwWGeipYEoXN3dze0prw7vqzZBbtx/TrOnDmDZ5977s6mdCYnrCZBCIqlEopMXsR1HMzOzmJmdhYXLlyAJMsYZoQ0NDTU14SO2dlZjI2PN+0jcWCUJFhXfaf5Xtw16tbywnsKBaa6qBsGMpoWp+x5NbZlWfCDIK714ueUp/5D3wcUZRXJ+ExGWBQEWLbdVuvpQcOGJKCJiQncnpzEoUOH2j7PazQ6TYlQWQ+WaRgwdB0iITAMAzVNi8vpJTb8rh+9mV7d8VEUYblWQ7FY7CiZoSgKTFY/shYTvTWA2+nOmlzfuXPncOP6dRw5cmTFqlgjYkLr8TpZUbB5yxZs3rIFiCIsV6u4desWPvvsMzR0HcOVSlyV3UlmdXpmBhNbtnTchyRJIKJIi0q7EFByJFLXNbO4IQ9Se56HjKbBdhxaFwYaP2ytDZNlGYIgwPV9ZIGmGxMnL05my0tLeKWlkv9BxIYkoK1bt+LU++9TRbw2X7hkxXAny0SWZRRLJVi2Dd00UV1eBiEEY2wUs24Y9Avbp+IeN89b10EIgcFS9t3ITJZlwLbh+X7fs+Y71d20q4/ixYAnT55EvdHAq0ePrt3aSiDOqvVKWye7yQnBwMAACsUiHtm/H47jYG52FrOzszh79iy0TAbjLHY0MDAAQRQRsA74p596qv0OCImtMK5S2eqWhkEQi4/1A4IV4XnXdaHrOuqNBmRm8Wia1rF6ns9/b302SLhfYRRhcXkZO/uQEL7fsSEJKJvNQtE0LCwuYoyNxEmip/RD4nWqLFMzW5Zh6jrcgYFY7Got2sxNVlAiYxVFERr1etwj1AmSJEEgZE0E1DFg3OZx13Xx8enT0DQNR1555a6HE8YtIX0EmFc9BMRSFhNbt2Ji61ZEYYilpSXMzs7ik08+gWEYGB4ZQTaTQaFQaB4+2bo9VhEdcCUDQpqyhx5rPu1XcYBn63h/WbLWSZHlrq07Epu6ErepsO9gUgCtWqshXyxSXesHHBuSgERRxODICGZnZlYRUISVJsm4SK8DfN+HruuQZRlbt27F3Pw8TMuiGRHHQXktX5CEqR2i2TVpNBrtJUJaILPRw/3vskM9VIsVYBoG3nvvPQwODuLpp566J1mYKIruvAq2jWVKBAFDlQqGKhU8euAAHNuOA9mGYeDNH/+YZtZGRzEwMLDqGARC4oscWCF/gRC4nhfLvvaDkLVwWJaFMIqgZTLI5/MwTROmaULLZDqO4pEkCZFl0fPPx/4A8SBCQgjm5+exZ2+H9pYHDBuWgDZv3owbFy7g8cceW/U8v/t1y0y5ngfTMCCyepAwilBjKomSKKJq29S9i6JYt6cjuMUTtW9WrNXrfcVaZFmG47odXctWdKz5SWB5aQnvvfcetm3fjomJiXuWAubV5L1e0xZ9BO1VTcO2bdtw7vx5HHn1VQRBgNmZGZw6fRq2ZcUjj0bHxqjcBatubt4NtSjDIOjL3QzDEK7rxp+BIIrIMt3nKIqQzeVgMc0pAG1JiFvNnudR8X8WjwzDMO6KX1pawnMvvdRzPQ8CNiwBjY6O4uzJk1hYWECFVcjG1g9WzOh2X3PHdWGZJkRJQj6Xo7EeQlDI57FcqyGfy6GQz1OdFxaIVFUVGU1rdl048bDYAw9+t7oljXqdBmF7QJFlENAvbz8E1AncApq+fRsnT57Ek0891VQceC/QtxRHu/WhN3ECdPpFGAQol8sghKBSqeDAwYOwTBMzs7O4ffs2Tn/8MYqFAiqVCvKFAvK5XNPNwmXZUk4WSf1njiAMaee86yIEvQEVElXpyRKGbDYLy7LihtPW6aacgPwggMLeG8u/ShKq9TrqbK79w4ANS0CCIODQY4/hzNmzOHr06EqzY+J17QLDnufF2a3WNGihUECj0UCtVoOqqigWCgiCIJ4D7rguFBYzEmV51bA+XhTXeuev63rPGBB/v8jaPjrpCyfRzcK7fPkyLl26hJdeegnlgQE0Go17WnsSsSbczxOzs7MYGR1dRXSZbDZuoA2DAIuLi7g1PY1zn32G0x9/jDFWc1SpVGJLJK7M5plRQnWYHMehipegFmiWDTaIQAPHre4sIYTK3TIVBNKiOyWyGWjJ93ClRVEQ8Omnn+Kpp556KMYyAxuUgHgX9I6dOzF78yZu37qFzZs3x9ZPjJYLNAhDmNzyaUMIsiwjm81ibmGBynUAcad7NpOJ07K240CWpDgV29pRnfzyuY6DIAz7zjgpsnxH6fiVQ47w8SefYHZmBq8eORIX/vFizHuFflywjj17fVpO09PT2L5jR9fXCKKI4ZERDFUq2L51K/wgwNLiIm7cuIGPTp5EPp/H+Pg4xsfHUWJxuJh42JQOWVHovLg2mcN2JE8IQUbTaEGiZcVjkeL3JPoDI15gKkmYX1xErVbDk50yeg8gNiQBASvpzEOHDuHjjz/G2Ph42zaJpHCXaRgA0HUeWLFQwPzCAiw2A35lU/RLp6oqHMeBZVlo6DrVAFLVWN5jlfvVaPRl/XDITGSrn2xY66Xh+z5OnDgB3/fx6tGjTVmfjin7OwC/MNfaJrIW+J6HxaUlPPvss329XhAEQBCgyjJ27t6NHbt2obq8jFq9jmq1iveOH0cQhhgaGqJa2gMDNJvKxmy39qcRtLeg4+eZJaTrOgzTRD6fp0MrWaA5nqbCJp0oioL3338fBw8c6Hus9IOADUtAEpsuOTIygqymYXJyEjva3C0J6wTn7Rf5fL6rJaCyrmjTMJousmQlMdeY8Zjyns1+BEJiFUQeh2g0Gij2kQFLHpfA1PX6TseDyoQcO3YMxWIxvmiTl9TdSGG0gl+U3dLRd4vbt29juFLpe+AkwG5KLBPmMSG5oaEhDAwMYOvWrbBME8vVKm7fvo3PPv0UAwMDcWYt3/IZ9UOeAiHIZbMwDAO2Za0QSyLI7rIR1TPT0wijCBMTE1AfkplgwAYmIFVVY3mMAwcP4p133sGmTZtW+9aEwGV9O5qm9aztiaIIuWwWtUaD3tmYplDrxUsIgcJErXIRnbvuel48qpeTUbVW6ysF33Rs/VZFsy95vV7HsePHsX3bNuxjQwLbuQ/3jID62F6/EiWdcPPmTWxJqB/2A1EQaBbLtlGtVuH5PrLMKslmMrEWNkAtk/mFBcyyGWsCIXG/WmV4mA4sRG8iEkURmqZRWQ8+5olZ3Xz4oiiKOPvZZzj8+OMAu4E9LNjQBATQbEN5YADbduzAsXffxZFXX20WgwpD2LYNicVseiFkmQ3NcbBcra7IanYBYWSjqipyrHrWdhyYloWFpSVs2bwZJquGltu4aa2QZRmE6Ut3C1ZGAObn5vDBhx/isUOHsHXr1uSimiQ74sfuAWJxs8+pq9uxbSwuLuKZPtyvKAxj2RTTNKEbBjzXhe/7KBQKHT8/SZIwPjaG8bExHAZQbzQwMzODy5cv44MPPsDg0BBGRkYwMjLSVqolCUVR4LNkRdIF4+OcTp08iZHhYYyOjsbtGg8LNiwBCYJAVegcB6qi4MCjj+L9eh0nP/oITz/zTPylc2wbhJCeXyKOkGW2CsUilpeXUa/XUVxDv5SQkAH12CwwrrwYsbWIggCZdV+3ixtxN8x13a4EdOPGDZw9cwbPP/dcXIrAkdzi3VojrbhbF4ygu0t469YtjI6NtbVWk8MK/SCgMhwAIkIgiCIdzy1JyMpyz3ntSRQLBRQLBezdswee72N2dhbTt2/j3PnzkCSpKbPWjkAyfNCk69IsWBjC9TxcuXIFEYDHH3uMWs0PSfaLY8MSEECtIIOJQQHAM888g5/+9Ke4cP48Htm/P65oVVmgsZ8LMWB9Q+VyGZZl0bqgHnGjdiCEQJJl+K6LgYEBZDQtnl/luS5s24bN2hkkUaS6NLIMURAoiSkK7cpvI1YfRRHOnTuHa5OTeOWVVzoTJNt+7DKt6Qg64164YN3ee/PmTexm2j/cwuETRnlPVRRFENm0Cz5HPialIOirjKETJEnCls2bsWnzZjzueajVapiZmcH58+dRrdVoNz+LHfG4D78hcolX1/exODODhYUFvPrqq7G12Cop+6Dj4bHl7gCxG8bnPIkinn/hBVy5cgW3pqZgs0yWqmlxoWA3RKDSpITVcgyUyyCsg/uOEEWUAJlkgyRJyGgaisUiBsplFAoF6hZGESzbRqPRQLVWw3K1GuvN6LreNDM+DEN89NFHmJ2ZwWtHj3a3zlp64toJbDX93Ubao90541bivXTBoojOha9Vq6jX68gXCqjX63EszmLtDYqqIpvNolQqIZ/Pr8T12OfrMQK44zobQppqygRBwEC5jEceeQRHjhzBV7/yFWzZsgVLi4t488038cMf/hBnzp7F/NwcdZ2xksG7evUqXnjhhfhxAHF5RxL/8l/+SxBC8Fu/9Vttl3ThwgWoqoojR47c2TF9jtjQFpAsy4AkwUtMpMxoGl588UW8/c47ePzxx5tMZgKs6tNKIgpDBNGKMqKqachls3Ema63jk13XhSxJbXuQCEmMHc5kYtciCILYtfB8H069Ds/3aTYvCHDmzBmoioLnnn8eoiTFc83aEUVrMLpJpK1FR3rlCVa/ghVXqd15air8bFM/0wkhq5Px2Lx3HqjlxXrXJycxODSEMIqoZchqbERR7Kv1I/B9KH3E7dqi5XzErmLiJYqiYGJiAhMTEwijCNVqFbNsHLau6xiqVOLJtE8cPhy7/nztuTYlGS+xtoz33nuv7bL+1t/6WwiCAP/23/7btR/T54wNTUA8+OvpOrKJ2otyuYxDBw/i5KlTeO7ZZ5vSowLaXyAhaxxsHXMzMDAAy7KwtLyM0Tad991g2zYyjFz6CWQn56AD1MKrNRrIZjIwLQsnTpzA4NAQdu3cCZ2LoLP1CoIAgf0mzDoR2T6DMEQQBLEAGt/fnSKMorjMgLeigMl9cB2mgPU/RVFEu9T5/3Tn8IMAEXMvRVGEKkkQRBHz8/M4eODAmjOHAGKRuk6Noj3RjjhbrMgkBEIwxGqK9u/fD8e2ceXqVVy6fBnZfB6jLOPGiUwQBAy0jGUCgCeffBKZTAbvv//+quf+6I/+CD/4wQ/w9a9/HY+16Xtcb2xoAgIANZOB22jEDZycXAYGB3H4iSdw4sQJHDxwADtY70271GoYNWv9Ji9OUZLigLRpWciuoYaDp/6JIPRsvmwHWZYhiiKWq1WcPnkS+x55hPYQRXTuvM/iVWHi4veYu8YtnJDFUEzLiidHJFtHki4Hn7cOQuJYi87qoRCGiBjJG7oOQRBo9zkv1EsUfXIi58V8nGR4jGuViD77v9FowLbtO5tfzyyqOw3ydpLVJVFCdoSd52RtWPJY5ubncfXqVWzatAlDCS1srsyQzWbbWtGyLMfxy+npaYwz9UfDMPB3/s7fwcjICH7jN37jjo7r80ZKQKqKGiG03J318PBRNaPDwxg6ehTH3n0X9UYDjx06RLVjsGIFreqab1P5Wi6VoOs6FhcXke2jqZTDZk2svVy/ThBFEUuLi/j000/x9NNPY3xsbKUxUpIgCwLQ4W7PScgPAriOE3eExySd6OAH0HTeoojOQwuZjnJsVQEAs7QkRYHKxtgQoIlsAPSMufEOcf5agAafN2/aRCeJrhEOj/cpSkfVyW7o2rmf+FtIEJUginHbxfnz53FtchKHDx+GbhiQFSV2jznBlttM9eB46aWX8NOf/hTHjx/HX/pLfwkA8Bu/8RuYmprCt7/97ftWO2hDB6EBepHKmUz8BSRonueVz+fx6tGjqFWrOP7ee/FoFg5eORujnbtEqJJfGASoM8mOfuA4ThyAXssHxeM2Fy9exIULF/D44cMYqlSarbQe2yAsLS1JEmRZhqIoyGgaNE1DJpNBJptFNptFLpdDLpdDPpdDPp9HoVhEsVRCqVQCIQTFYhH5fB459pNlE0VymQzdDtumyrSTeQnBmoTKGPFdn5zE9u3baUwLaHszaAeellfZQMA1E1C3tXaLrTES/ejECUzPzOClF1+Ews6FIIpxESLHQA8CAhC7YefPn8dv//Zv44UXXsBf+St/ZW3H8wViwxMQAOSLRYSgne7Ayvwn/uGrqooXX3oJsqLgJz/5SaznwrM5SXRylHK5HDRNw3KtFtee9IJt23HxY6dpFfF+mUUSRlQ7+NTp05i8fh1Hjx5FsVDoOfWhE+5V9TPHqgmr9wjT09PIZLMolcsrQXNBgABGtl3OnW1Z4OqWvfS526FryUC7IDxrxHUcB2+//TaCMMTLL70UB+4lWYbEZqvxbYuiiGIXK+bFF18EISQORP/Nv/k3EQQBfvd3f/een+t7iZSAQAXCBTYpg7AAp9hS4CeKIp568klMTEzgRz/+Ma7fuLHmKZ08Lb+wvNzXupIEhA4uSZJ4QiYB+t7770PXdRw5coRaHKpKYxytafM+kLwg78XXOEy4H+3Qb9EjaXndtatX22rkJGuOBLqDpud9VhsUW5odYjmdF0K6npd2zxFCcPvWLfzoxz/G4NAQnnnmGWp1RxGtdGfTT6OEdc01jTphgAWyP/roI3znO9/Bj370I/zKr/wKnnjiif6PZR2QEhBDrlCgqWvPQxQEbQsHCSHYu3cvXnjhBVy4cAHvvPMOdF1v+7p2UDUNpVIJlmm2fV8ruJBZjMQ88FbiAShh/fSnP4WqKHiR1Y8AK/VOXsIKivq9K7ap77kbxFXQnV7Q57qS69d1HdVaDZs3b+7+Hrb9eN8Rnc/F+/IAxDG+vtDDKo33mYBpmjh+/DjOnj2Lp595BgcOHEDACl4VRaGxNEJitQZOhqUu7hfHyy+/DMMw8Cu/8iuoVCr41re+1e+RrBtSAmJQ83kQQmgqlqWjO6FcLuNLr7+OsZERvPnmm7h44UJ8YfW6VMulEjKahoXl5djl6wTf85rE1HmwNmSp6WSsol6v46233sLmTZvwxJNPNtW8iKJIp6e67urRzH2A7+VemPK9pnv2bQEl/r527Rq2bt3aV7U5z2Lygr+ABddbM079rKOf1/DthmGIK5cv40c//jGKxSK+9KUvYZi1v9i2HTcfh0EQDylMbr3dWOlW8DiQruv4zd/8TQx0GGR5P2HDZ8E4JEmCms3CNowmbZd2U1J5inrP3r3YtHkzTp46hZs3b+LJJ5+kF0GPoGRlaAjT09OYm5+nWZsOiFgWJN5vh6LAubk5fPjhh3jssccw0aEDnNc7eb4PZS0TLdYYAO+FbvPNI2DN1lYQBLh+4wZeXWOVb8Sqx0VJgqqqcWaPYCVI3LP2qp/9AKjVajh56hQIIXjl5ZfjWA4vqPR9H5lMhk7mYFrSSR2hXC4HrY/yDS4n88wzz+Cv/bW/1sfq1h+pBZRAplSi8htsskTHKt3EY7lcDi+/9BL27t2Ld48dw7kLF+D3sGwkWUZ5YAC+73dt0wjYRcDrdOhySFPNyfXr13Hiww/x3HPPdSQfYGXoHc/2reUyX3tSusu2ukiEtMZ1uoJ9BlO3b6NcKrWtEO4GrsmczWRi1yzZ99bPvnvB9318+umn+Onbb2PrxEQT+XA4rAOeu4CttVYAMNblJpXEP//n/xyCINz3geckUgsoASWTgaJp0BuNWM93VX9Tu2IzQjAxMYGR0VF8dOIE3nzrLezatQt7du/uWNhWKBRg2zZqtRqymUzb3qOQzaPid+Z4f6AWxKdnz2JqagqvHDnSs/KXV31brKBwLRAS7sndIoyizuNt+oipxC9lr7t29Sr27NmzpjV4LNantE4rYeTe8yh7rNF1XVy+cgVXrlzB4NAQXn/99RWiS8CyLIRBQMmTkDgtLyQsVFVVMZocK90B3/nOd/Anf/In+LVf+zU888wzPV9/vyAloBZkikVgbq7JCuLmeDcpUUJILOux23Vx4+ZNfP/738fWbduwd+9eKkTegqGhITrdc24Omzdvjt0Svp+gTSc7QDWMTp48CZ1NKO23cZJP6eDi+P0ivnDuBQGxO/zdgrs2pmnGImH9vs9mgm/tOsvj6u47OFbbtnHp8mVcm5zE+Ogojhw5gkw227Z63mFTbDOZTFzu4dg2Hbgoy/HrxxLfi1bcuHED3/nOd3DlyhX8/u//Pg4cOIB/9s/+2ZrXvZ5ICagFSjYLmQnI+y2FYJ26u5MQJAkKgCeeeAL79+/HpUuX8IMf/ABbtmzBvn37mnSFBEHA0NAQ5ubmsLS0hEqlElcTA6sbGQFqsr/33ntxd/NaOsoFNoHBdZymDuteuFd6QDx+JnSQig0STaq9QAjB5StXsG379jWRhW3bCMOQiu13KhIE/ayFVk3nDhaaaVm4eOECbty8iS1btuD1116L+wd936dV7Il9+b5PBxPIMhRe6R5FcFh9mKIosG0biiRhvIv79ed//uf4+3//76NcLuNrX/safud3fueB04tOCagFgiCgUC5jaXoahmGs6DH3kY7mdSQee52maTh06BD27d2Ly1eu0Omco6N45JFH4kGDmUwGxWIR1Wo1rjLmaJ1Eoes6jh0/jvGxMRw8eDC2yloF0btB1TQq/8qqrPvFPXG/egiRrWUPlmXh9q1beONnfqbv9wRBANe2IbOK605IWiwxwUerJWp1XceFixdx6/ZtbNu6FV/+8pebVDN5vDB5XFEYwjJNCIIQaw7xrJzDlDcJ66Ubm5joqqDwy7/8y/jlX/7lvo//fkRKQG2QKZUgLS3BcRzYbOQK99F7QWDTUJOumqKqePTRR7F3zx5cuXoVP3n7bRRyOWzduhVbJiYwUC7DNAzMLyxgbHQ0FpNPBmwXFhfx/vvv45FHHsGuRMFdrwrpVsiSBEmWYVsWFEXpm1juRUgz7oG6BzpAFy9dwtatW9ckvG9aFsAUJ+8EEaj1cmtqCjdu3kStVsPOHTvwlTfeaDt7XmDz5uP3RxEVwIuobnjSeuVNv7lcjsYfBQFbt2+/o3U+SEgJqA1UVYWSySBgAwVlSaKuWB8XO28eFNpkVCRZxr59+7Bnzx7Mzc3hxvXrOHPmDCqVCjZt3gyBEMzOz2NsdBSyJNEJnACmpqZw+vRpPMUaSlftUxDW1L+U0TQqWOZ58bjfnvicLaC1OHmO4+DG9et49ejRvt/jui5tqGXp7o7gn3GyFCMMMTM7i5s3b+LW7dsYGR7Gjh07MD421rGim7S5YdmOgyAIkM1kmibkEqxIgaisCbVULq9JyvdBRUpAbUAIgZzPA6wnzLIs5PP5vqYc8EraMAxpPUc7HRhBwNjYGMbGxuA6Dm5OTeHqtWuo1moYLJWgGwb27d6NELTI7trkJF56+WUMlMvt97nG45NlGZIowrHtVYMRO+IexIFiAmpz0fZjXXJcvnwZmzZv7tuSCcOQDgBkms89wVzb5eVl3Lh+HVO3biGbzWJiYgKPHToEqdc54wmLxEOe58Flo5Jai0sBxL16kiTBtCxs2rLloRKf74SUgDogw3SCBEKosqDr9hzJAyAW8eIB5G6XbRiGkCQJO7Zvx47t22FaFq5cvkzHIl+4AM91MTk5iSOvvNJ2EmsSa7WCNDYULx493AusQ/1uAtJ8PNHdxJM8z8PVq1dxtE/rJwJgmCZCALlexXxhiGq1ips3bmCaz+HasgVHjhxpFqhnMZq22VCsHGe82SCAxQgwSZr8+yGAEpAiy4iiCIVCoa/K54cBKQF1QDabRUPTEDoOBEGAZZrI5fMr4mAtBYkxEql0YCV423rhRm2C2tlMBocOHcLWbdswNTWFTz75BEQQ8KMf/xjDlQpGRkcxOjJCrbGWfRNQ16bfgLSiKBBFkWZb+nTDIiAWMIvCsEnBMNmjBiAWNtPZ9FcQQov/wCaNMO0f0qPtpRVXrlzB6NgY8vk8vD5UBeKsVyaz2vKKIhiGgfm5OczNz2NudhaKqqJUKuHxw4cxPDzc3rqMorayHTyb1Uo+hmmCgH6+7T431/cRhCEy2Sx838f23bv7nsLyoCMloA4ghI7WqS0uIiuKME0TJiOhuGq2zcBBrkUThCFkNLtHyT6ssEvKuVQswh8bw6WLF3HosccwWC5jbn4es7OzOH/+PAghGBkZwejICIZHRuJsCu/47peEMpoG3TDget6quqAwohrTYRDANM34Qo6D65yAeaCcHTeJIkAUY53pKIpoGjqK4imfXOw/3hc7b6IoxuqH/O8kfN/HlStX8Morr/R1fHzyrCzLsdvj2DbmFxYwNzuLufl5hL5Pz+XoKA4dPAhRkqDrOrKsfqcT4or4Lm07ASMfHnSOCbDldXyMtySKGBkfx+Dg4IZwv4CUgLoiy8bmOkybWTcMiJYV9+W0k0rlesqr7o7cfelBPhwDAwPQNA1LS0soFYuY2LIFE1u2UKvCMDA3P4+pqSmcOn0aGU3DyOgoSqUSyuVy32OAFEWBaNvx4MV4XpbnIQyCmDB9zwNho34gCFQWNaEh3Q5ckjU5VjpksheqqsZkFjL9Zy4un7RqCBDPPpMkCVevXcPQ4GBc9d2tX4tLv5qmCc91Ua3VMD8/D8MwUKlUMDIygl27d6PQYk26bCpGL/DG4CC5hmTPYBjGcrS5bLY56Jy0kKIIpq7T6auFAoaZhbtRkBJQFxBCUCgUsOy6cb+OwWo4OrVYEEIHByZFx/7p//F/4OyZM/j6r/86nnzyyfjxCMD/+e//Pd5++238Nz/7s/h//Q//Q/ycQAi0bBaiIGB+YQHjLD1PCEEhn0chn8euHTviyQr8rn7x0iXouo5cNosyUyYslUoolcux5g0HJ8lGvR73JBFC54ypbFyNKAiwbBue6yKTzd5xDCg5DVVISK+2dp5zqdWATSv1fB8us8QuXbyIp556CkEY0naOxLE4to1avY5arYZqtYrq8jJ000Q2k4nPweHDh1EulzuSJq96559jP2ir0cTIJwzD1eTT8lrbtuGHIQqFAjZt3oxCofDA9HHdC6QE1AOZTAa6qsJ0XeRyOYRBAF3XURQESEzTuNUKkmWZzmYH/cL93P/4P+J//fRT/Oc/+iM8/vjjsXj7d77zHbz99tt4/bXXmsiHQ2UzrERRxMzsbFONEIdACAYHBjCYkF4IwhCNep1eiLUaZmZnUavVAEJQKhaRLxTieiCFaSBLsoxSsdh20moSdxqI5gTUsQ+MHw8jJynRpR6GIc6fP49CoQA/CHD9+nU4joOGrsNoNFCr1xGGIUqlEorFIsrlMsbGxjA4ONi2BaYtooiK5vNMXT8uECu3SFq7SfLJdiMfdh4bjQYAYMvEBDKZzANXyXy3SAmoD5RKJSwuLsL2PGRzOei6jka9jmKp1PQF4+DZsoDNG9u6dSteeuklvPnWWzj27rt45cgRfPd738N//bM/w/PPPotf/MVfbLtfRZYRBgE2jY9jdm4OM7OzGBkZ6TkdUxQElMtlFMtlbGVk4fs+6o0GlhYX0Wg0sLC8DJ9VRFu2Dd/zqFYzk47NcM1mFjglzOrjBCG2dGz3AnfJkpZPkJhEGjDxe9u2YVoWLNOEZduwLAumZcHQdciShM8++wyaqsZB9LFNm7D/wAGUikWIbLqpYZp0iOMaJpDwG0nI/+6BpPIlz0BGYQg9EfNJiuMndYjASMt1XXieh1K5jIGhoVhHeyMhJaA+oCgKSqUSqktLgO8jx0iozkmIVT9zSJIUi9tzMvpv//JfxjvHjuG/fPe7sB0H//mP/giPHTqEv/E3/kbH1gRFUWiAWFEwOjJCA9FzcxgdHu6rBoYA8IIAtmXB9TwgijAyNoaJbdtWvba6vAyLXbi2bcO0bRiGgcWFBTQMA57rxnrTgefFbpDA3LQ4cMyE7HlD7Y/efBMhc6X4AMGQzfTicSSRzfRSFWVFqD6TQbFUQjaTwbVr1zA6MoLDhw/H640iOjXWdRw4nkfjc4IAl5VLrLnamX9+bfrvVp3X1s+LZQV1NuY7m81SUkq6c3y7ieSFrusIAGzftQvFYvGOK7QfZKQE1Cey2Sw8z0NjaQmIIuQLBTQaDTQaDRQKhSbXgsdR/EQcaHBwEP+Pr34Vf/Inf4Lf//3fx969e/GNb3yja22Roii0fYD9PTI8TElofh4jw8Nd55eHUQTbsmA6DiIe/NW02ALxfb/pTp9ngV1VVVfN1TItC67rosyFtNj2IzaFlY/fCVg7QRgEcH0fMzMzOPzYYxAlCY7jIIoilMtlSly8srxH7VJD1zEzO4s33nhj1XOiKCKTzUILQziOg2qtBs/3mwLf3ZCM+XD0LIjkLmhrIJmn+7NZGtBPTktJZMz4ez3Pg2GaGB0bQ6VS2VCB5yRSAloDisUifN+HubQESZKQy2ahGwZMw0CGBYy5nIMoy7H4F4C4wIzjr//1v94cz2kTV1FkmcZu+P+KgrHRUcywFPJwpbJq0GEURXBdFwYT3FIUBRm+38RF0zr9QZIkyIpCq6NVNS6o7LQ+AoCIIpQOrQg8LsJlQRtsn03p/pZq4XY4c/Ys9u7d27VxlmcdtUwGOUIQsPojVVG69ru1HRvd0gDctJ825OP7PkzmdmWzWcjtbijM5UquQ280EEURdu/di3KHCveNgI1RbHCPQAid76Ww9Lwgishms3A9j4pLRRGdPBHR6QYRaOwjAnDs3Xfxh3/4h/GAuD//8z9v3fiq/UmyvKrYTpIkjI2OQpVlzC8sxBYSQC/6hq5DN804g5dj7kA/QdWMpgGEwE5sE2juDr9TJMcxc/Ta5vzCAmrVKnbt2tX1dTbT1tE0jc4ly+chSRIc14Wu620LBjsF0jvWUHHCTmbeHAeGrgOEIJ/LQebjpllqnt+MWssFPNfFcrWK8c2bMT4+vuHiPkmkBLRGCIKAwZERQBDQaDSoG8AkLgxdB1hdiyAIIFEEz/dx+vRp/J///t9jy5Yt+M3f/E2Mj4/jrbfewvT0dPPGW6ySTDYLi89wT0CSJIyMjkKT5bi2xfN91Op1KnKlaSgWCk1aRkBnGYz4eVGk2tFsbHMnrJWQYh2glv13y6ZFAM588gkOHjy46jiScB0nbmPgwXlBFJHP5eLWC95yQhdPq8XbnYkINIPYSpStBBFFES3OtCw6vDKXo2OcWki+XbV7EASYm5+HrCh4/PDhrse2EZAS0B1AlmUMM6U6nc05z2az8IMADV2nFxv7Yl28eBG/89u/jcHBQfzdv/t3USgU8N/95b+MMAzxH//jf1y17aRrVCwUUK/X216okihieHQUmqZhZnYWs7Oz1M3L57u7Kz1ISGNWUDviS6IXmSXBM2BNFxvpLn1648YNEEHAli6jrD3Pg2nb9CbQJuMlKwoK+TwkQYBlWbQCu0sRaBSGQBQ1DQJodVXDMKSE77pQNQ3ZXK7JuhSYC9juM/N8H0tM5uXRgwc3tOvFkRLQHULNZDAwNARREGCYJg1M53KImBsUBAHmFxfxe9/+NlRNw9/7e38v/sI98+yz2LljB06ePIkLFy6s2jY33RVWp2N0IANJFFEqFoEoQr3RgOf7PQmGV/B2eh0RBGQyGQRhSDNndEEA7lwZMe6CT1yo3bblMTH3Q4cOdX2NaZoQBYE2inY4HkEUkS8UoCgK1XdqaQNJImAEJEpSLMuaXKXv+zRzFQQ0+J0Y58OzXCHbRitcx4Fer0M3TVQqFTx64EDHdWwkpAR0F9DKZZTKZZqtMk24nhdPZ5icnMS/+93fBQjB//I//88YHhlZGTQXRfjvWeHhH/7hH3beASscbHSYJ++wGp5KpYLK0BBMw8Ds/HxscXTebHeSUhUFoiDAZHGtTg2Z/SIIAlq0l3RRurz/7JkzGB0dxdDQUMftmYYBAehKPvF+mIWqqipcz+s4pjoMAoSgdVStwWaHu9hsn00JhEQzbrsYkm3bsGwbtuMgm8ngmRde2DC9Xr2QZsHuAoIgIDMwgAiAKQiw+ZSDXA6EEPxv3/wm/CCA1DJtM4giPProo/iD3//9nkVvxVIJ9UYD4y2TEVwWYBVZDKJA6NSL5eVlTM/MYLhS6S252qmjnxBk8nnojUYsIwE0F9916vJvh5DVDDX1THV43/zCAmZmZvClL3+547YMwwAAZLk6QTck9pXNZABWP0SYPnYSQRjSWfItSoU2a0WRJAkZFtQHmMvGrFUAq+RxozCEZVlNiYQDhw5tGKmNfpDS8F1CkCSoxSK0TAbZXI5W4uo6VVVk871Ny2qagsrnj3eKFSRRKpWgt1hAYRjCNE2QFvejUChgZGQEADA7N9d1/HMvGQyJBaRdz+s456zfKFDYMt2j0zH7vo+TJ0/i8BNPtNVC5uTDReW7BnA7EGs2m6WStKxuZ+UpEg8F5HBdFw1dj+M9mWw2ljxptZBa9+mx9/osO2dbFjZv3Ypdu3d3XvMGREpA9wCyqkJlwd8CawkwTRNhFEHLZOD5PpaXl5v0gfn8qYhVF4e8Jqbl4iwWi2iwVC/PkhmGAT8IaN9Qy0WgaRrGx8agKAoWl5exuLTUVqgsbiPoYoFlNC1uRo3Xl0C7x1rROl6otfk0iU/PncPA4GDbMTsB68HjFma30T5ddbIJQZbFbuJ+PUYqPkseBEEAQ9epeDwhyOXzUFsE5NuBt2MYhgHTsiCJIgr5PGzLQnFwEAcOHkxdrxakZ+MeQc3lIKoqRBb0zGazlFjCkGowOw7qtRps227quOZBYV7O32oV8UwYv6B8z4PredBYt3o78FqhYj4PQ9cxOzfXNS7UcRgfIXR8DWgQtfWiFlgzZjfwoGzSWmn3jsWlJUzdvInH2gSegyCg0hYAcvl850kRzCrpZVUKrHQiDEN4nheTYhSGcaDZZ/rROW5p9eFq2paFRqOBwPOQYX11lm0DgoC9+/Zt2GrnbkgJ6B4iWy5DZMFJVVVRLBQg8R4pZuJb/EvKCSFRsAasFMmFTHFQlCQosgyTZcIcxwEBevYNEUIwODiIoaEh+J6H6ZmZpqLFpteis9XAu9L5NNFuiBI/9AFq/UTo3l0ehCFOfvQRHn/ssVVxK275IIqQZ20OfNvNO6fB5n6D46qmQRTFOCDtuC5Mw4DruhAlCTkWaE4G7DsF78MgQKPRoCUBkoRCqQRN0+LExK69e7Gpz/HKGw0pAd1jaKUSBKbtK4gi8vl8TEQ8Bez7PhqNxoo1xC2hBBEBiHuHyoODmJubg+/7tDmVDbPrB/l8HqOjoxAFAQvz81hYXOysZ9wSLOfIZDIQCInV/WKLAZQ8+Oz6iImMRQkrjhMtEcXmCauJ/Z87dw75QgGbW2p+AmaNAIiL/TianEq+vV7kk6hIjqIICptA0dB11KpV+EGAfD5PNXx6WGwA03o2TTRYCURW01DI52kG0TRhuS527NmDXbt2pa5XB6Rn5R5DEARkymWIfLwuIVAUBcMjI5AkKbYiPM+DYRhoNBpNTavtanQ2jY9jdnYWjm0jDALIjOD6haqqGB8fR7FYhGmamGZDF1vRqUaICAJUTaOEYJq0q51ZN80vXH2p8sriTq7a4tISJicnmzrdAVZzYxi0zSGfXy17wsoZ1jQXjafXsWJlWqZJSU4UUSwW4/R6cirtqtgXk6ltNBpwPS8ueOQidVxSZOfu3di9e3dKPl2QnpnPATw9TxL1JJqmocgEv1RNi4XATNNErVajvWRtZFwBYHR0FLNzc/CYNKogCCtWSPIHnQO8vI9tbHQUoihiYXERc/PzTcqN7IVNcSlEEcIgoCqQikIlMFy373MRBkGsFNBKbLbj4IP338czTz+9ojtESKzpQ8Asn04B5z7iPRw8xsPd4HqtBttxICkKJEWBwppxOam1azdJEo/neTTpUCjEOkmEENhMKG3brl3Ys2dPX5NUNjLSs/M5QRAE5IaGoC8sxBdwPp+H47oA64x3XTduEXDYqGReMBffNQlBJpNBPpfDIpsf3xHsYoyJLBFXov+S2Bqq1WpYXFrCLcfBINORbt4Um3iBFeJQFAXwPFgs1hETQ6d6IlAXTJblJikKvv0PP/gA23fswGgi6+WwcyKwAHgn8mmbBk8+H4aIEsfPBcAcx0EEqjWdVVUq1FavIxAE5JjCZeu2AzaWyXNdgJ1DlSUceO0QVyGoNxrYtnMn9u7dm5JPH0jP0OcIQRCQHxyEvrgY18LkWCe9oijQmCWUyWRgmiatbLYsyIqCfC5HYy+MiMbGxjA3Px/X+XQDbyGIA9rAirvC7u6lUgmKqmJpcRFLy8swdB2DQ0OQZTnWZQZaXDLW9V2v12EYBhV0T0zE6GSLxFNlE/j0009BRBH7H3mEPhBFtF7K9yEzqZN24v4RmjV7YgsoQRqEEDrHjJGozYTLOPFoLAANUGLyfD+2YuLtJhQLeSW3qmlQFQWCKNJtY8UKtW0bjUYDW7Zvx969e9c0MnojIyWgzxmCJCE/PAxzeRme49CiNCY1KkkSBDarXFEUeL5P4weGgcXFRao5lMshn89jfHwck5OTK42S6F4ImHyOExKvM+JEIcsyKsPD0A0DtWoVt27dQjafRzGXgyjLdMQOELuSURSBCAJy+Tx0XYdhmn2lllvHWk9PT2NqagqvvfZarJVjGgaCMISqqrTHKrF2LnGCxPpX1UyRlTFA3HpzHIdOuQCgMNe3KbjM1hSGISSWQfOZtcOLL0Um7SrLcjNBEYKQBdhr9TqCMMS23buxZ8+eDalseKdICegLgCAIyA8NwdZ12PU6spkM6izly4XXBUGAKstQFQX5fB62bUPXddRqNdTrdWiaFqvorSULRhJWAb9c4xYCtrZioYCMpmFhYQGNWg16o4ECy94RQYi7xHlpgCAIUFU1JlJN0+Jt83WF7AeExOOLIlAhrhMnTuDFF1+MJWctVuOTyWTiNHwE0M51QiAmq4+BmHg4ISYLOn3Pg8vGCwFU1I27S+xENM1O830fHtOkrjcasVSsqmlQZDmujBZaXLOQxcYWl5aQLRSwd9cubNmyJXW71oj0bH2B0PJ5SIoCc3mZai6bJgRRXKWiJzJXLZfNxqJapmEgm8vh8uXL2LNnD7KZDORWtb8ecZH4GR4UTgSuiSBgeHgYruOgWq2iXq+joesoFAooMlcrYlIWEWhmzQ8C2EwOQ2Yd5MksU6u0RRAEeO/997F//34MDg7G3encNW2q8UlUftMlCyuzypKWGXOhPNel01jBRhqxVhgu/drUi8ekY33PwxJLAOQyGaqgmMnQdXCCJok574lza5kmavU6RsbHsWv37u6xuRQdkRLQFwxJUZAfHgaRJCzMzFBh+0IBkiy3rc1RZBlDg4Mol8swTBOffvYZxsbGqBiaJEFTVWiZDFRZhsDE8Pt1z3i2JwyC+KJWVBUjo6OwHQc1RkS6rkNg6XAeS4rCEFlNQ4NlrPK5XHPDKSMRgVURh2GIDz/8EKViEdu3b6ftJL4PSZbp2GReRNiFQAVCEIBaVr7vw2WuUgiazpWZfElMZAniCZgwvp+wjiLQCu9cJoNyqRRbajwbF7t6iRhYEARxzdCOPXuwc+fODTdK514iJaB1gCAIKAwNQZRl3L5xI7Y0+Kib1vgNAIiEYNvWrbg6OYkwDDE4NEQzaJYFwzDiimkeKJXYhAoAHS9sblWEWB241lQVWoKIavU6DFZJnc/l4uBzPp9Ho9FYISHuorD4CK9ZOnnqFPwgwOEnnoiLCzVNi+MlBIizVq1r5bGdIAypLAYrWSCgQWWZkU7sjrH9+wnC4ZaZyJpsZVmG47oQBQHFYpE25xISryFqXgDtonccLC0tIV8sYt/u3diyZUta43OXSAloHZEtFrF5507cvnoVjUYDxWIRAOKakqbLkBU07ty+HVcuX8a2bdtQyOfjFLHFRu841SoIG40jiSJkWY7H5khs/E0yqxUiYRHFu1ohI1VRMDo6CkmSUGODDmv1OnLZLLK5HFRVpWOKDAM6I1KBEHhcBVEQ8Mknn0Cv1/HEk082u1yJgHC7DFqSQIIgiN06QmhDKbcaeU+X7/s0NsNcMX4skizHI545YfAaLIEFmVvFx/j54cRTq9Xgui7GN2/Grj17OmoVpVgbUgJaZ2SyWWzauRO3rl1Do9FAPp9HFIbUrWCuQGwFiSLGx8dx8cIFzC8sYLhSgShJyEoSbX71fTieB4eJtLuuS9s/WCBXYH1pnJwEVseCKAJpqVaOyYhdsHxCq6qqVPjeMKAbBiRZRj6XQzaTgWlZlIQYMUYALly4gPn5eRx+4gkAgKaqbeVTeYzI83064idBIpIkxUQKAC6bS+YwaY54zYTQeJSqQhQE2ofXISjsuS5sy6I1V4kyAW6JRVEE13FQr9dh2zZkUcRjhw9jYtu2NNB8D5GeyfsAmWwW49u3Y3pyEoZhIJfPx65QlAi4EgC5bBY7du7E+fPnMfLyywDQdKGKkoRsJoOQdXbzyaOe665kiVglsyAItFk0DCkBATER8YuZ6wZFrDYom81S/WvWp2UYBqrLywAT+OJBYN/3gTDEjRs38OSTT9Jhg8zd4kMOeSbJY7Pfeec8YXPD+DqCKKIxHPYeXhEusepsQRRjK68VEZrL/fm5ahgGwihCPp9f6cFjwWbHceJePUIIhoeH8cQzz6Sxns8BKQHdJ8jlchjbtg1zU1Oo12rI53J0wijYXZlZRUQQsHXrVly6dAnVahXlcnlVwJmThyiKUFnBHAENxAZsmGAcG+Fp6FaZUnYx8rHMnufBc92m1gcCatE4TA2yquvwggDTnoeFhQWAEOzctQsea76t1evNRYSgLhof9SxKEiUdNjGVk1/yJ2QB7XaxF54mF+hJoGTWem7AerVMM67viRgR8h4ux7ZBBAHFfB7jW7Zg9759qdXzOYHcqdD4F4T7enGfB1zXxfz0NMx6HZqiQE0U5XEyCqMIZ8+cwe3paRx97TVIotg165U8iXGWLBE7cVyXtl3wBlPe4c5GKUdMoN6yrJXq7Da9ZyGbCjI1NYXlahVBGGLPnj3IZDI0qM0KLjnhJF1MTjpx/KtDNszxvBWrMPkEc5t61UcFYYiZ6Wm4vo+hSgUuqz53PQ+EF1rmciiXy9iydStGWqRwH0L0W1L2+ew8JaD7D2EYYnlpCdX5eZAwRC6XW9VN7noefvKTn2BgYACHDh2KL2COfr9VEWhnfpgI8HKC4t+NkFUI11nwWWY9U8mUvOu6sB0HFy9diocJakzSVeCV1EBcxKgmCIlEESKyohAZZ8H437wOJwxhe96aji3OrjF39vbt26jW6/EQRhJF8YhnTpS5QgFbd+yA1iZW9RAiJaAuuK8X93nDMAwszM7CMwxkMpkmEfUIQK1Ww5tvvonDhw9j06ZNTVZD0oroxyponcC6ClGE5WoV2UwmvjCDMIRj23BdF4Hv47PPPgMRRRx49NFYyEzX9Vh7x/d9WnzoOLSokKW+RVGEJMuQBCHOWHEXMulqecyF7LpMIHYzPdeNXU3XdVHXdZhMr7tYKiGbydBxyuy8CoKATVu3Ynh0tMcZe6iQElAX3NeL+yLgeR4WFxZg1OuIXHfFamDPT05O4pMzZ/Dcc8/RuWM8fZ+0HLBCSCTZtMmeC5nrFfj+Sk8Vfz7Rw1WtVqEoCmRZjhs1CSgRnTp5EpXhYTx26BBq9ToV5VcURFEEvdGAz6Rpubayy6qgueg9D5Yn64GiKILEsnYA4AVBHENKCrmBxblCto2mzBioBKvjOLBY3Gd88+amEgBCCAYqFYxv3hxr+mwgpATUBff14r4o8G7rWrUKo1ZDyHrIVFWFQAg++OAD2K6L/fv3U/GudiOCk24Ng8DbHVh2iTdxrhpFzDJqy9UqAt9HJpul0h6KAt0w8OEHH2Dvvn3YtWsXnVZqGHQ0UUKI3tB1eL4PlXX/NxUbJto3uMXCrR3fdeO0Ox8XzdsxVl05hA5z5FYUbyDVdR0NXYcgiqgMDTX1x5WHhjC+eXNMjBsQKQF1wX29uPWA4zioV6toLC/Dd5xYt/idt99GvljErp0746bOXgMIk+DaPxEQF/J5zDrxWKuG7Tg4duwY/uSP/xi/+b//75ibm8OtW7fw5FNPxXPLTDanvlAoNFkiEahoO69Lmr59G9/61rfwV37hF/BGYgZYwGbINwmusbX1cr/anSvTNGGYJkRJQqlUgixJ1OIZGsLYxiYejnUloDS3+IBBVVUMj45iYGiI9motLcG1bRx+8kmcOXMGZz/5BHseeYSq9eXzPdPHIauxCcJwxRUKQ1qXE0UQWZe+rChQFSVu/nznnXewfdcufOnLX4aiKDj+3ns4f+4c5ubmcPPGDczNzeGll1/Gr/7qr8YWC5/kYZgmRsfGMDIygo8++ghf/tKX4vVw8mnVJFrLjTJg8h4OK8RUZBmFUgmZTAblwUFURkdTyYz7BCkBPaCQJAlDlQoGh4bgui6MRgP5YhGnTpzAmTNnsGf3bjQaDchMjiIOSrNUM9A8xzyKIoSEQCKEBoFVlRY2imIs32GaJmZnZyEKAg49/jj27d0br+d7/+W/4PbMDIYGB2kh5cJCcxCcpe4lSUKxUIBt2zhw8CBOnzqFWq2GUqlE14EVRcfWdH8s65HIjiWzcWEYwmaxpZC1ZeRyOYyNj2N4bAzFcjnt3brPkBLQAw4us6qqKgYrFWzZsQNvv/UWPv3sM+zbuxeapsFlrprMqoaTc8kEQaBtC6zosd1sc90wcPXqVUxevw6FNXIODQw0reF/+vmfRy6fR6lQwO3pafyTf/JPmjeSLGAkVGb28ccewwcffIBTp0/j8ccfj7V7msYtkxbd52SNEG98ZeOTHceJNYsUTcPA0BB27NoFdWOk0x9IpAT0kEGUJBz98pexeds2/PSttxBcuYK9O3agMjwMPwggs6ZWqd1wv2RRoe/j1u3buHb1KnTDwNZt2/DlL30J3//zP48VDpPtIo/u349avd5RVmRlF8xaiSIcPHgQtmXh7NmzeOKJJ6j14jjUamNr7ESKAJPkYKqHfLpsNp/HYKWCysgIisViavHc50gJ6CHFnj17sHv3bty4cQPH3nkHZ86fx46tW5HLZumc80wGBTZOmhACXdeh6zrqjQZqtRpu376NgYEB7Nq9G+NjY00z02OReSC2UFzPQxiGcT9YPCssQR78L170KCsKDh46hNOnT+NXfuVXAND0vON58AyD6lEz2Q+R9XuBEFq9bNu0+521ZRRKJQyPjWFwaGhlmmmK+x4pAT3EIIRg27Zt2LZtG+bn53H69GnMLy6idvMmGvU6oiCgyoauiywjpHyhgFK5jH379iHHxjK3224yI0UIWVFGlOWVsT6t70v8zauTn3rqKZw6eRLnzp3DwYMHkclmoUURPJZ+5/VGHkvFE0GgFpKmYaBQoGOwcznkcjlks9nU4nnAkBLQBsHw8DDeeOONpsdM08Ti4iJEUYRr23BME77rgkRU99l13aZq5ORUUTcxptl1XYRB0JGwWhH3thGCJw4fBiEEH504gYMHDtCsHCsmDIKAKiYWi9AyGWTzeSiKEo8uaq2UTvHgISWgDQwurQFQUnEch9bOGAYsw4DnujDqdeoCMYkMLunhsKCvJElU2ItVLPOMVcgExJJ9ZbwRNmKB4iAIoGga9j7yCD797DMsV6uIADpbPZtFJZ9HNp9vamJN8XAhJaAUAChJcInUUqkU6wk5lhWPt3FdF1YYYnZpCQEhWFxejqVRuSoiVxDMFYsQRRGNRoMSEG8DSUpvqCoUScItNvV1x759UJhgWesYnBQPJ1ICStEWfBSzoigoJB4PogifXriArbt2oVwuIwzDeNAfz4hNLSzgzIUL2L53L7bv27fSh5YQOuM/169fx4/ffBP/4B/8A4xsrCbQFEgJKMUdwPM82tTZQSsnm81icXERnudhcHCw67b+5E/+BADwta997Z6vM8X9j9TGTbGu+N73vofx8XE888wz672UFOuA1AJKcU/w3e9+F9/97ncBADMzMwCA48eP4xd+4RcAAJVKBf/iX/yLpvcsLi7inXfewS/90i+tqXE2xcODlIBS3BOcPn0a/+E//Iemx65evYqrV68CALZt27aKgP70T/8UQRCk7tcGRuqCpbgn+Ef/6B+tyGe0+ZmcnFz1nu9973vI5/N4/fXXv/gFp7gvkBJQinWBbdv4/ve/j69+9atQN54KYQqGlIBSrAs+/vhj7N69Gz/3cz+33ktJsY5IY0Ap1gXPPfccTp8+vd7LSLHOSAkoxZpw9OhRAKAC+ClS3CVSTegUKTY21rX+IY0BpUiRYt2QElCKFCnWDSkBpUiRYt2QElCKFCnWDSkBpUiRYt2QElCKFCnWDSkBpUiRYt2QElCKFCnWDSkBpUiRYt2QElCKFCnWDSkBpUiRYt2QElCKFCnWDfd7N3wqFJwixUOM1AJKkSLFuiEloBQpUqwbUgJKkSLFuiEloBQpUqwbUgJKkSLFuiEloBQpUqwbUgJKkSLFuiEloBQpUqwbUgJKkSLFuiEloBQpUqwbUgJKkSLFuiEloBQpUqwbUgJKkSLFuiEloBQpUqwbUgJKkSLFuiEloBQpUqwbUgJKkSLFuiEloBQpUqwbUgJKkSLFuiEloBQpUqwbUgJKkSLFuiEloBQpUqwbUgJKkSLFuiEloBQpUqwbUgJKkSLFuiEloBQpUqwbUgJKkSLFuiEloBQpUqwbUgJKkSLFuiEloBQpUqwbUgJKkSLFuiEloBQpUqwbUgJKkSLFuiEloBQpUqwbUgJKkSLFuuH/D5ZcMwyWDWATAAAAAElFTkSuQmCC",
        "encoding": "base64",
        "path": [
         "value"
        ]
       }
      ],
      "model_module": "@jupyter-widgets/controls",
      "model_module_version": "1.5.0",
      "model_name": "ImageModel",
      "state": {
       "layout": "IPY_MODEL_3cec343d0bc0477c9f77ae72ae6fc090"
      }
     },
     "a987e43442bb4a129943eb668603bba4": {
      "model_module": "@jupyter-widgets/controls",
      "model_module_version": "1.5.0",
      "model_name": "ButtonStyleModel",
      "state": {}
     },
     "aada0f10bdb445b69dadde2b7ae39915": {
      "model_module": "@jupyter-widgets/controls",
      "model_module_version": "1.5.0",
      "model_name": "ButtonStyleModel",
      "state": {}
     },
     "ab4940faa5ef45e495d64b2ecd004275": {
      "model_module": "@jupyter-widgets/base",
      "model_module_version": "1.2.0",
      "model_name": "LayoutModel",
      "state": {}
     },
     "ac0320bf56654d6da7c7118b933fc781": {
      "model_module": "@jupyter-widgets/controls",
      "model_module_version": "1.5.0",
      "model_name": "ButtonModel",
      "state": {
       "description": "X",
       "layout": "IPY_MODEL_f91fbe036c6f4d6fb43c86aaf411a77f",
       "style": "IPY_MODEL_2913ce1dd62a4dc2a58bead7f8748265"
      }
     },
     "ad8b102b3b524fb2b547f630b412907a": {
      "model_module": "@jupyter-widgets/controls",
      "model_module_version": "1.5.0",
      "model_name": "ButtonModel",
      "state": {
       "button_style": "primary",
       "description": "Clear",
       "layout": "IPY_MODEL_eb6129d0892f4939a7714fc9e5a79e67",
       "style": "IPY_MODEL_2029803e462e4e30ac836a6a67ce780e"
      }
     },
     "aeef0f269b5143c9a1affb04e9efb4f0": {
      "model_module": "@jupyter-widgets/controls",
      "model_module_version": "1.5.0",
      "model_name": "ButtonStyleModel",
      "state": {}
     },
     "b576f3d1daed40929926814c1e2a74d8": {
      "model_module": "@jupyter-widgets/controls",
      "model_module_version": "1.5.0",
      "model_name": "DescriptionStyleModel",
      "state": {
       "description_width": ""
      }
     },
     "ba850550b7f84ccdb2ad9dd860c578fd": {
      "model_module": "@jupyter-widgets/controls",
      "model_module_version": "1.5.0",
      "model_name": "ButtonModel",
      "state": {
       "description": "Z",
       "layout": "IPY_MODEL_d68db7446a3248feb4305877a660cfdf",
       "style": "IPY_MODEL_17092b2f34544d35838c5aaa56658ff7"
      }
     },
     "be3c63cb92be46249dea559ce5dd7d48": {
      "model_module": "@jupyter-widgets/controls",
      "model_module_version": "1.5.0",
      "model_name": "ButtonStyleModel",
      "state": {}
     },
     "c140f38c892c42e7aca4f34719457b10": {
      "model_module": "@jupyter-widgets/controls",
      "model_module_version": "1.5.0",
      "model_name": "HBoxModel",
      "state": {
       "children": [
        "IPY_MODEL_fdd86001c5c8468db10f4401655dff49",
        "IPY_MODEL_63a801ecdad84f3d9b92762a14be5bbe",
        "IPY_MODEL_755df312983e4235a05baa21e6f92ae7",
        "IPY_MODEL_ba850550b7f84ccdb2ad9dd860c578fd",
        "IPY_MODEL_4b920e73849c4e7b8ce5a752df5325ab",
        "IPY_MODEL_55478c88522845ba9c3981df42e6b231",
        "IPY_MODEL_2787d6862b864aacbfaba57c12bb6961",
        "IPY_MODEL_96a63786ab3240dba8dbe513e99e1082",
        "IPY_MODEL_a7ce8936855648d3aa3d6aee4d211386",
        "IPY_MODEL_14abbb5203ba49508d171f015b42520f"
       ],
       "layout": "IPY_MODEL_0eea64b62819484099e7139bd335f80c"
      }
     },
     "c6020d33278641568fac6d3f75590c05": {
      "model_module": "@jupyter-widgets/base",
      "model_module_version": "1.2.0",
      "model_name": "LayoutModel",
      "state": {}
     },
     "cc9173ba266c4159bf12a4b19522695d": {
      "model_module": "@jupyter-widgets/controls",
      "model_module_version": "1.5.0",
      "model_name": "GridBoxModel",
      "state": {
       "children": [
        "IPY_MODEL_ad8b102b3b524fb2b547f630b412907a"
       ],
       "layout": "IPY_MODEL_f95b9b197f2e467e93275f57247db999"
      }
     },
     "cdba61623a69433b9af99003018a9fb2": {
      "model_module": "@jupyter-widgets/controls",
      "model_module_version": "1.5.0",
      "model_name": "ButtonStyleModel",
      "state": {}
     },
     "d68db7446a3248feb4305877a660cfdf": {
      "model_module": "@jupyter-widgets/base",
      "model_module_version": "1.2.0",
      "model_name": "LayoutModel",
      "state": {
       "height": "3em",
       "width": "3em"
      }
     },
     "da76593c628e4391a186131ed6e2530f": {
      "model_module": "@jupyter-widgets/controls",
      "model_module_version": "1.5.0",
      "model_name": "ButtonModel",
      "state": {
       "description": "Y",
       "layout": "IPY_MODEL_12d580b0bca24d24a0155d68543500c2",
       "style": "IPY_MODEL_214c685ed19e42ab9f637167a7a99adf"
      }
     },
     "e15bfaf2c0c445d0b8a9da77020141d3": {
      "model_module": "@jupyter-widgets/base",
      "model_module_version": "1.2.0",
      "model_name": "LayoutModel",
      "state": {
       "height": "3em",
       "width": "3em"
      }
     },
     "e22d3a9fe7984a1aae5808b1e7f8c196": {
      "buffers": [
       {
        "data": "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",
        "encoding": "base64",
        "path": [
         "value"
        ]
       }
      ],
      "model_module": "@jupyter-widgets/controls",
      "model_module_version": "1.5.0",
      "model_name": "ImageModel",
      "state": {
       "layout": "IPY_MODEL_008fb37aaa5e4d4cb6f918ef40a3e961"
      }
     },
     "e33733e99b1c477580451132fd75bf8b": {
      "model_module": "@jupyter-widgets/controls",
      "model_module_version": "1.5.0",
      "model_name": "SliderStyleModel",
      "state": {
       "description_width": ""
      }
     },
     "e359d01aa3404fbfbf82c0fbb9c70b57": {
      "model_module": "@jupyter-widgets/base",
      "model_module_version": "1.2.0",
      "model_name": "LayoutModel",
      "state": {
       "height": "3em",
       "width": "3em"
      }
     },
     "e3d2fe2a47f940859798563406c75f4e": {
      "model_module": "@jupyter-widgets/controls",
      "model_module_version": "1.5.0",
      "model_name": "HBoxModel",
      "state": {
       "children": [
        "IPY_MODEL_81984cc734e34bb99d1326dc0102576d",
        "IPY_MODEL_44e13a859f1a4d02b8061717c0bf72db"
       ],
       "layout": "IPY_MODEL_c6020d33278641568fac6d3f75590c05"
      }
     },
     "e42da321b094404b9ebfc93166877c15": {
      "model_module": "@jupyter-widgets/controls",
      "model_module_version": "1.5.0",
      "model_name": "ButtonStyleModel",
      "state": {}
     },
     "eb6129d0892f4939a7714fc9e5a79e67": {
      "model_module": "@jupyter-widgets/base",
      "model_module_version": "1.2.0",
      "model_name": "LayoutModel",
      "state": {
       "grid_area": "right",
       "padding": "0px 0px 0px 0px",
       "width": "70px"
      }
     },
     "ec9caff46e764afe9d13f338ec4a2f11": {
      "model_module": "@jupyter-widgets/controls",
      "model_module_version": "1.5.0",
      "model_name": "VBoxModel",
      "state": {
       "children": [
        "IPY_MODEL_a8222a02250c4cdbba37b0499eb3b759",
        "IPY_MODEL_e3d2fe2a47f940859798563406c75f4e"
       ],
       "layout": "IPY_MODEL_464ee918008a4d578bf87a8e9ab45e22"
      }
     },
     "f81e83651a264f93b6d386de227d1336": {
      "model_module": "@jupyter-widgets/controls",
      "model_module_version": "1.5.0",
      "model_name": "SliderStyleModel",
      "state": {
       "description_width": ""
      }
     },
     "f91fbe036c6f4d6fb43c86aaf411a77f": {
      "model_module": "@jupyter-widgets/base",
      "model_module_version": "1.2.0",
      "model_name": "LayoutModel",
      "state": {
       "height": "3em",
       "width": "3em"
      }
     },
     "f95b9b197f2e467e93275f57247db999": {
      "model_module": "@jupyter-widgets/base",
      "model_module_version": "1.2.0",
      "model_name": "LayoutModel",
      "state": {
       "grid_template_areas": "\n                                       \". . . . right \"\n                                        ",
       "grid_template_columns": "20% 20% 20% 20% 20%",
       "width": "100%"
      }
     },
     "fb02c5456647456fa17caa7ffb463979": {
      "model_module": "@jupyter-widgets/base",
      "model_module_version": "1.2.0",
      "model_name": "LayoutModel",
      "state": {
       "height": "3em",
       "width": "3em"
      }
     },
     "fdd86001c5c8468db10f4401655dff49": {
      "model_module": "@jupyter-widgets/controls",
      "model_module_version": "1.5.0",
      "model_name": "ButtonModel",
      "state": {
       "description": "I",
       "layout": "IPY_MODEL_36724a10b354409da35520e52031fd59",
       "style": "IPY_MODEL_2c975f4ecf684f0196e3124c55bfe550"
      }
     }
    },
    "version_major": 2,
    "version_minor": 0
   }
  }
 },
 "nbformat": 4,
 "nbformat_minor": 5
}
