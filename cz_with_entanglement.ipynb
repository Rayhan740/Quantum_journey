{
 "cells": [
  {
   "cell_type": "code",
   "execution_count": 10,
   "id": "f5d236e8-a14c-402c-92a0-0aebeb691858",
   "metadata": {},
   "outputs": [
    {
     "data": {
      "text/plain": [
       "'Statevector([ 0.5+0.j, -0.5+0.j, -0.5+0.j,  0.5+0.j],\\n            dims=(2, 2))'"
      ]
     },
     "metadata": {},
     "output_type": "display_data"
    },
    {
     "data": {
      "image/png": "[encoded data removed]",
      "text/plain": [
       "<Figure size 267.052x144.48 with 1 Axes>"
      ]
     },
     "metadata": {},
     "output_type": "display_data"
    }
   ],
   "source": [
    "# Phase Kickback circuit \n",
    "from qiskit import QuantumCircuit\n",
    "from qiskit.quantum_info import Statevector\n",
    "\n",
    "qc = QuantumCircuit(2)\n",
    "\n",
    "qc.h(0)\n",
    "qc.h(1)\n",
    "qc.z(0)\n",
    "qc.cx(1,0)\n",
    "\n",
    "ket = Statevector(qc)\n",
    "display(ket.draw())\n",
    "display(qc.draw())"
   ]
  },
  {
   "cell_type": "code",
   "execution_count": null,
   "id": "e3190a8e-80ce-4fbd-857d-077b6ae7c436",
   "metadata": {},
   "outputs": [],
   "source": []
  }
 ],
 "metadata": {
  "kernelspec": {
   "display_name": "Python 3 (ipykernel)",
   "language": "python",
   "name": "python3"
  },
  "language_info": {
   "codemirror_mode": {
    "name": "ipython",
    "version": 3
   },
   "file_extension": ".py",
   "mimetype": "text/x-python",
   "name": "python",
   "nbconvert_exporter": "python",
   "pygments_lexer": "ipython3",
   "version": "3.8.13"
  },
  "widgets": {
   "application/vnd.jupyter.widget-state+json": {
    "state": {},
    "version_major": 2,
    "version_minor": 0
   }
  }
 },
 "nbformat": 4,
 "nbformat_minor": 5
}
