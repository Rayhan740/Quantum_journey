{
 "cells": [
  {
   "cell_type": "code",
   "execution_count": 2,
   "id": "25dd25a5-ed2e-4d6a-bf98-fe2efb182ec4",
   "metadata": {},
   "outputs": [
    {
     "name": "stdout",
     "output_type": "stream",
     "text": [
      "Hello I am code cell\n",
      "Set up started...\n",
      "Set up complete!\n"
     ]
    },
    {
     "name": "stderr",
     "output_type": "stream",
     "text": [
      "<frozen importlib._bootstrap>:219: RuntimeWarning: scipy._lib.messagestream.MessageStream size changed, may indicate binary incompatibility. Expected 56 from C header, got 64 from PyObject\n"
     ]
    }
   ],
   "source": [
    "# Here we are going to visualize few concept and game for better understanding \n",
    "print('Hello I am code cell')\n",
    "\n",
    "print('Set up started...')\n",
    "from qiskit_textbook.games import hello_quantum\n",
    "print('Set up complete!')"
   ]
  },
  {
   "cell_type": "code",
   "execution_count": 4,
   "id": "7e04cdc4-fc07-4284-b378-dc2029933e56",
   "metadata": {},
   "outputs": [
    {
     "data": {
      "application/vnd.jupyter.widget-view+json": {
       "model_id": "15418db53b584a22bf121963f8a23432",
       "version_major": 2,
       "version_minor": 0
      },
      "text/plain": [
       "Image(value=b'\\x89PNG\\r\\n\\x1a\\n\\x00\\x00\\x00\\rIHDR\\x00\\x00\\x01\\xb0\\x00\\x00\\x01\\xb0\\x08\\x06\\x00\\x00\\x00\\xc8N0*\\x…"
      ]
     },
     "metadata": {},
     "output_type": "display_data"
    },
    {
     "data": {
      "application/vnd.jupyter.widget-view+json": {
       "model_id": "fe55229889c648a2bf04054e94c6101e",
       "version_major": 2,
       "version_minor": 0
      },
      "text/plain": [
       "VBox(children=(ToggleButtons(options=('Choose gate', 'NOT'), value='Choose gate'), ToggleButtons(options=('',)…"
      ]
     },
     "metadata": {},
     "output_type": "display_data"
    }
   ],
   "source": [
    "# Initializing Not gate 3 times \n",
    "initialize = []\n",
    "success_condition = {}\n",
    "allowed_gates = {'0': {'NOT':3}, '1': {}, 'both':{}}\n",
    "vi = [[1], False , False]\n",
    "qubit_names = {'0': 'the only qubit', '1': None}\n",
    "puzzle = hello_quantum.run_game(initialize, success_condition, allowed_gates, vi, qubit_names)"
   ]
  },
  {
   "cell_type": "code",
   "execution_count": 5,
   "id": "e7426b1c-e9b2-4e23-995c-a17dab7537ff",
   "metadata": {},
   "outputs": [
    {
     "data": {
      "application/vnd.jupyter.widget-view+json": {
       "model_id": "e063cc8fb709406ca851d61170ea78cc",
       "version_major": 2,
       "version_minor": 0
      },
      "text/plain": [
       "Image(value=b'\\x89PNG\\r\\n\\x1a\\n\\x00\\x00\\x00\\rIHDR\\x00\\x00\\x01\\xb0\\x00\\x00\\x01\\xb0\\x08\\x06\\x00\\x00\\x00\\xc8N0*\\x…"
      ]
     },
     "metadata": {},
     "output_type": "display_data"
    },
    {
     "data": {
      "application/vnd.jupyter.widget-view+json": {
       "model_id": "6bb20539f601487291594e5aedfa3a95",
       "version_major": 2,
       "version_minor": 0
      },
      "text/plain": [
       "VBox(children=(ToggleButtons(options=('Choose gate', 'NOT'), value='Choose gate'), ToggleButtons(options=('',)…"
      ]
     },
     "metadata": {},
     "output_type": "display_data"
    }
   ],
   "source": [
    "# Let's do the same thing for 2 bits\n",
    "initialize = []\n",
    "success_condition = {}\n",
    "allowed_gates = {'0': {}, '1': {'NOT': 0}, 'both': {}}\n",
    "vi = [[], False, False]\n",
    "qubit_names = {'0':'the bit on the left', '1':'the bit on the right'}\n",
    "puzzle = hello_quantum.run_game(initialize, success_condition, allowed_gates, vi, qubit_names)"
   ]
  },
  {
   "cell_type": "code",
   "execution_count": 6,
   "id": "df91d014-2925-42c7-b0ab-12d3c882d60f",
   "metadata": {},
   "outputs": [
    {
     "data": {
      "application/vnd.jupyter.widget-view+json": {
       "model_id": "b75d4a04d10c497bb9fff5549e6eb665",
       "version_major": 2,
       "version_minor": 0
      },
      "text/plain": [
       "Image(value=b'\\x89PNG\\r\\n\\x1a\\n\\x00\\x00\\x00\\rIHDR\\x00\\x00\\x01\\xb0\\x00\\x00\\x01\\xb0\\x08\\x06\\x00\\x00\\x00\\xc8N0*\\x…"
      ]
     },
     "metadata": {},
     "output_type": "display_data"
    },
    {
     "data": {
      "application/vnd.jupyter.widget-view+json": {
       "model_id": "badca92bbf904240808b2dddaa2a61b6",
       "version_major": 2,
       "version_minor": 0
      },
      "text/plain": [
       "VBox(children=(ToggleButtons(options=('Choose gate', 'CNOT'), value='Choose gate'), ToggleButtons(options=('',…"
      ]
     },
     "metadata": {},
     "output_type": "display_data"
    }
   ],
   "source": [
    "# Using CNOT to turn on the bit on the right\n",
    "initialize = [['x', '0']]\n",
    "success_condition = {'IZ': -1.0}\n",
    "allowed_gates = {'0': {'CNOT': 0}, '1': {'CNOT': 0}, 'both': {}}\n",
    "vi = [[], False, False]\n",
    "qubit_names = {'0':'the bit on the left', '1':'the bit on the right'}\n",
    "puzzle = hello_quantum.run_game(initialize, success_condition, allowed_gates, vi, qubit_names)"
   ]
  },
  {
   "cell_type": "code",
   "execution_count": 7,
   "id": "03dafcc6-a5df-4da6-9bd1-9cc82293aca0",
   "metadata": {},
   "outputs": [
    {
     "data": {
      "application/vnd.jupyter.widget-view+json": {
       "model_id": "86b3d3440a5645be9b8c860ce6011a69",
       "version_major": 2,
       "version_minor": 0
      },
      "text/plain": [
       "Image(value=b'\\x89PNG\\r\\n\\x1a\\n\\x00\\x00\\x00\\rIHDR\\x00\\x00\\x01\\xb0\\x00\\x00\\x01\\xb0\\x08\\x06\\x00\\x00\\x00\\xc8N0*\\x…"
      ]
     },
     "metadata": {},
     "output_type": "display_data"
    },
    {
     "data": {
      "application/vnd.jupyter.widget-view+json": {
       "model_id": "1e2133e8d02546cdb64c87dcab5a4972",
       "version_major": 2,
       "version_minor": 0
      },
      "text/plain": [
       "VBox(children=(ToggleButtons(options=('Choose gate', 'CNOT'), value='Choose gate'), ToggleButtons(options=('',…"
      ]
     },
     "metadata": {},
     "output_type": "display_data"
    }
   ],
   "source": [
    "# Using some CNOTs to turn the left bit off and the right bit on\n",
    "initialize = [['x', '0']]\n",
    "success_condition = {'ZI': 1.0, 'IZ': -1.0}\n",
    "allowed_gates = {'0': {'CNOT': 0}, '1': {'CNOT': 0}, 'both': {}}\n",
    "vi = [[], False, False]\n",
    "qubit_names = {'0':'the bit on the left', '1':'the bit on the right'}\n",
    "puzzle = hello_quantum.run_game(initialize, success_condition, allowed_gates, vi, qubit_names)"
   ]
  },
  {
   "cell_type": "code",
   "execution_count": 8,
   "id": "6d1c994e-0786-4ed0-a7f5-e3a4b4a5646a",
   "metadata": {},
   "outputs": [
    {
     "data": {
      "application/vnd.jupyter.widget-view+json": {
       "model_id": "754f767e3fa345869bee95030937c98a",
       "version_major": 2,
       "version_minor": 0
      },
      "text/plain": [
       "Image(value=b'\\x89PNG\\r\\n\\x1a\\n\\x00\\x00\\x00\\rIHDR\\x00\\x00\\x01\\xb0\\x00\\x00\\x01\\xb0\\x08\\x06\\x00\\x00\\x00\\xc8N0*\\x…"
      ]
     },
     "metadata": {},
     "output_type": "display_data"
    },
    {
     "data": {
      "application/vnd.jupyter.widget-view+json": {
       "model_id": "efe933b81f5f4042a360a0ccb3f78e3d",
       "version_major": 2,
       "version_minor": 0
      },
      "text/plain": [
       "VBox(children=(ToggleButtons(options=('Choose gate', 'CNOT'), value='Choose gate'), ToggleButtons(options=('',…"
      ]
     },
     "metadata": {},
     "output_type": "display_data"
    }
   ],
   "source": [
    "# Make a bit on the right random using a CNOT\n",
    "\n",
    "initialize = [['h', '0']]\n",
    "success_condition = {'IZ': 0.0}\n",
    "allowed_gates = {'0': {'CNOT': 0}, '1': {'CNOT': 0}, 'both': {}}\n",
    "vi = [[], False, False]\n",
    "qubit_names = {'0':'the bit on the left', '1':'the bit on the right'}\n",
    "puzzle = hello_quantum.run_game(initialize, success_condition, allowed_gates, vi, qubit_names)"
   ]
  },
  {
   "cell_type": "code",
   "execution_count": 9,
   "id": "9f0a7b86-fc6b-4ff4-a507-5facfd78ce02",
   "metadata": {},
   "outputs": [
    {
     "data": {
      "application/vnd.jupyter.widget-view+json": {
       "model_id": "b678ab28b3f6463d9e41c32612a1d4a2",
       "version_major": 2,
       "version_minor": 0
      },
      "text/plain": [
       "Image(value=b'\\x89PNG\\r\\n\\x1a\\n\\x00\\x00\\x00\\rIHDR\\x00\\x00\\x01\\xb0\\x00\\x00\\x01\\xb0\\x08\\x06\\x00\\x00\\x00\\xc8N0*\\x…"
      ]
     },
     "metadata": {},
     "output_type": "display_data"
    },
    {
     "data": {
      "application/vnd.jupyter.widget-view+json": {
       "model_id": "8f117e97d5b549bfb74e58b8163b4f7e",
       "version_major": 2,
       "version_minor": 0
      },
      "text/plain": [
       "VBox(children=(ToggleButtons(options=('Choose gate', 'NOT', 'CNOT'), value='Choose gate'), ToggleButtons(optio…"
      ]
     },
     "metadata": {},
     "output_type": "display_data"
    }
   ],
   "source": [
    "# Make the two bits always disagree (that means making the middle circle white).\n",
    "\n",
    "initialize = [['h', '0']]\n",
    "success_condition = {'ZZ': -1.0}\n",
    "allowed_gates = {'0': {'NOT': 0, 'CNOT': 0}, '1': {'NOT': 0, 'CNOT': 0}, 'both': {}}\n",
    "vi = [[], False, True]\n",
    "qubit_names = {'0':'the bit on the left', '1':'the bit on the right'}\n",
    "puzzle = hello_quantum.run_game(initialize, success_condition, allowed_gates, vi, qubit_names)"
   ]
  },
  {
   "cell_type": "code",
   "execution_count": 11,
   "id": "40713356-ff77-4b79-8a52-9d6c37da903d",
   "metadata": {},
   "outputs": [
    {
     "data": {
      "application/vnd.jupyter.widget-view+json": {
       "model_id": "d57bdeb9825d4347a76659fd8c143d26",
       "version_major": 2,
       "version_minor": 0
      },
      "text/plain": [
       "Image(value=b'\\x89PNG\\r\\n\\x1a\\n\\x00\\x00\\x00\\rIHDR\\x00\\x00\\x01\\xb0\\x00\\x00\\x01\\xb0\\x08\\x06\\x00\\x00\\x00\\xc8N0*\\x…"
      ]
     },
     "metadata": {},
     "output_type": "display_data"
    },
    {
     "data": {
      "application/vnd.jupyter.widget-view+json": {
       "model_id": "70a8c35682c84d729241b3c840c4afd2",
       "version_major": 2,
       "version_minor": 0
      },
      "text/plain": [
       "VBox(children=(ToggleButtons(options=('Choose gate', 'NOT', 'CNOT'), value='Choose gate'), ToggleButtons(optio…"
      ]
     },
     "metadata": {},
     "output_type": "display_data"
    }
   ],
   "source": [
    "# Turn on the bit on the right.\n",
    "initialize = [['h', '1']]\n",
    "success_condition = {'IZ': -1.0}\n",
    "allowed_gates = {'0': {'NOT': 0, 'CNOT': 0}, '1': {'NOT': 0, 'CNOT': 0}, 'both': {}}\n",
    "vi = [[], False, True]\n",
    "qubit_names = {'0':'the bit on the left', '1':'the bit on the right'}\n",
    "puzzle = hello_quantum.run_game(initialize, success_condition, allowed_gates, vi, qubit_names)"
   ]
  },
  {
   "cell_type": "code",
   "execution_count": null,
   "id": "ea16542f-e119-45e5-8ccc-faad2de46d7b",
   "metadata": {},
   "outputs": [],
   "source": [
    "# You can see the puzzle code in precious qiksit textbook but \n",
    "# It is not necessary as it is a part of Quantum game"
   ]
  }
 ],
 "metadata": {
  "kernelspec": {
   "display_name": "Python 3 (ipykernel)",
   "language": "python",
   "name": "python3"
  },
  "language_info": {
   "codemirror_mode": {
    "name": "ipython",
    "version": 3
   },
   "file_extension": ".py",
   "mimetype": "text/x-python",
   "name": "python",
   "nbconvert_exporter": "python",
   "pygments_lexer": "ipython3",
   "version": "3.8.13"
  },
  "widgets": {
   "application/vnd.jupyter.widget-state+json": {
    "state": {
     "01ccdcc2699142c2978ca10be8885438": {
      "model_module": "@jupyter-widgets/controls",
      "model_module_version": "1.5.0",
      "model_name": "ToggleButtonsStyleModel",
      "state": {
       "button_width": "",
       "description_width": ""
      }
     },
     "098acd9d17b04ecf97deece5abd0dcc8": {
      "model_module": "@jupyter-widgets/controls",
      "model_module_version": "1.5.0",
      "model_name": "ToggleButtonsStyleModel",
      "state": {
       "button_width": "",
       "description_width": ""
      }
     },
     "0a04cbf8d5774d2bb4f31e4d86b64377": {
      "model_module": "@jupyter-widgets/base",
      "model_module_version": "1.2.0",
      "model_name": "LayoutModel",
      "state": {}
     },
     "0abaad827cb5498f8612efaf54e82740": {
      "model_module": "@jupyter-widgets/base",
      "model_module_version": "1.2.0",
      "model_name": "LayoutModel",
      "state": {}
     },
     "0d5baaaf88354fc4a310c31b4575623a": {
      "model_module": "@jupyter-widgets/base",
      "model_module_version": "1.2.0",
      "model_name": "LayoutModel",
      "state": {}
     },
     "13c4ffd87c204519a779536bdab54000": {
      "model_module": "@jupyter-widgets/controls",
      "model_module_version": "1.5.0",
      "model_name": "ToggleButtonsStyleModel",
      "state": {
       "button_width": "",
       "description_width": ""
      }
     },
     "15418db53b584a22bf121963f8a23432": {
      "buffers": [
       {
        "data": "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",
        "encoding": "base64",
        "path": [
         "value"
        ]
       }
      ],
      "model_module": "@jupyter-widgets/controls",
      "model_module_version": "1.5.0",
      "model_name": "ImageModel",
      "state": {
       "layout": "IPY_MODEL_fabb20a4a1f04992a42b04b0d4f0fd42"
      }
     },
     "1c6b5763c74f44b5ad179cf8a8c1dc83": {
      "model_module": "@jupyter-widgets/controls",
      "model_module_version": "1.5.0",
      "model_name": "ToggleButtonsStyleModel",
      "state": {
       "button_width": "",
       "description_width": ""
      }
     },
     "1e2133e8d02546cdb64c87dcab5a4972": {
      "model_module": "@jupyter-widgets/controls",
      "model_module_version": "1.5.0",
      "model_name": "VBoxModel",
      "state": {
       "children": [
        "IPY_MODEL_564a289552f9451e8b7afa84da135e75",
        "IPY_MODEL_9f69b7ac2ccf4e6a98107b51e9ac0ff5",
        "IPY_MODEL_88d5df2382ba4633ba84cfea1951327f"
       ],
       "layout": "IPY_MODEL_c789a337483f4734a909e079db59338b"
      }
     },
     "1e67c356e5e749a98854f0da99c4075f": {
      "model_module": "@jupyter-widgets/base",
      "model_module_version": "1.2.0",
      "model_name": "LayoutModel",
      "state": {}
     },
     "1f81d454b39740a997dcf8f44b7f5d78": {
      "model_module": "@jupyter-widgets/base",
      "model_module_version": "1.2.0",
      "model_name": "LayoutModel",
      "state": {}
     },
     "20b7a5d8c6c34bf0bc288a75c1e379b9": {
      "model_module": "@jupyter-widgets/controls",
      "model_module_version": "1.5.0",
      "model_name": "ToggleButtonsModel",
      "state": {
       "_options_labels": [
        "Success!"
       ],
       "button_style": "",
       "icons": [],
       "index": 0,
       "layout": "IPY_MODEL_a7b83cb2577a46429a4429456dcdd9d4",
       "style": "IPY_MODEL_01ccdcc2699142c2978ca10be8885438",
       "tooltips": []
      }
     },
     "28147fd5385346448ed3330536dc8e75": {
      "model_module": "@jupyter-widgets/controls",
      "model_module_version": "1.5.0",
      "model_name": "ToggleButtonsModel",
      "state": {
       "_options_labels": [
        "Choose gate",
        "NOT",
        "CNOT"
       ],
       "button_style": "",
       "icons": [],
       "index": 0,
       "layout": "IPY_MODEL_4026c9043dc44ca7b2c2d4b1d6fdfb02",
       "style": "IPY_MODEL_49dfeefb0cf8407a9d58c0d696cce9b7",
       "tooltips": []
      }
     },
     "2928f8e6814c4553b4cb2b04f94f3cdc": {
      "model_module": "@jupyter-widgets/controls",
      "model_module_version": "1.5.0",
      "model_name": "ToggleButtonsStyleModel",
      "state": {
       "button_width": "",
       "description_width": ""
      }
     },
     "29eb050c475d4dceb85fbb4a3cf9505e": {
      "model_module": "@jupyter-widgets/controls",
      "model_module_version": "1.5.0",
      "model_name": "ToggleButtonsModel",
      "state": {
       "_options_labels": [
        ""
       ],
       "button_style": "",
       "icons": [],
       "index": 0,
       "layout": "IPY_MODEL_81f9b9c391594d5b9d665faafe1a87a9",
       "style": "IPY_MODEL_13c4ffd87c204519a779536bdab54000",
       "tooltips": []
      }
     },
     "2e6a1ef11d3a4c58b5b7e43b6eb7d40a": {
      "model_module": "@jupyter-widgets/base",
      "model_module_version": "1.2.0",
      "model_name": "LayoutModel",
      "state": {}
     },
     "2fbd53a5b69c4b93ad8c2fcbf28e7d35": {
      "model_module": "@jupyter-widgets/base",
      "model_module_version": "1.2.0",
      "model_name": "LayoutModel",
      "state": {}
     },
     "32f1a7e41b0448c5a09824882dd77b3c": {
      "model_module": "@jupyter-widgets/base",
      "model_module_version": "1.2.0",
      "model_name": "LayoutModel",
      "state": {}
     },
     "3d4ea378996843838030d363a7e114d6": {
      "model_module": "@jupyter-widgets/controls",
      "model_module_version": "1.5.0",
      "model_name": "ToggleButtonsModel",
      "state": {
       "_options_labels": [
        ""
       ],
       "button_style": "",
       "icons": [],
       "index": 0,
       "layout": "IPY_MODEL_0d5baaaf88354fc4a310c31b4575623a",
       "style": "IPY_MODEL_d1db32dd09af4639b04e188dc7bc4be6",
       "tooltips": []
      }
     },
     "4026c9043dc44ca7b2c2d4b1d6fdfb02": {
      "model_module": "@jupyter-widgets/base",
      "model_module_version": "1.2.0",
      "model_name": "LayoutModel",
      "state": {}
     },
     "415b7e08cd994ab9b073bd2d2e1984b9": {
      "model_module": "@jupyter-widgets/base",
      "model_module_version": "1.2.0",
      "model_name": "LayoutModel",
      "state": {}
     },
     "462654c19eaf438184b8db5848476a72": {
      "model_module": "@jupyter-widgets/controls",
      "model_module_version": "1.5.0",
      "model_name": "ToggleButtonsModel",
      "state": {
       "_options_labels": [
        "Success!"
       ],
       "button_style": "",
       "icons": [],
       "index": 0,
       "layout": "IPY_MODEL_5563181ac4ce426eb7c0eca72052cd15",
       "style": "IPY_MODEL_6ddd59b371cd4a5fbb745b109a21fd7a",
       "tooltips": []
      }
     },
     "49dfeefb0cf8407a9d58c0d696cce9b7": {
      "model_module": "@jupyter-widgets/controls",
      "model_module_version": "1.5.0",
      "model_name": "ToggleButtonsStyleModel",
      "state": {
       "button_width": "",
       "description_width": ""
      }
     },
     "4a68b9e5b77c4e419f4710034a06c083": {
      "model_module": "@jupyter-widgets/base",
      "model_module_version": "1.2.0",
      "model_name": "LayoutModel",
      "state": {}
     },
     "4f27d4912adc4010aa8e4821744ef10d": {
      "model_module": "@jupyter-widgets/controls",
      "model_module_version": "1.5.0",
      "model_name": "ToggleButtonsModel",
      "state": {
       "_options_labels": [
        "Success!"
       ],
       "button_style": "",
       "icons": [],
       "index": 0,
       "layout": "IPY_MODEL_1f81d454b39740a997dcf8f44b7f5d78",
       "style": "IPY_MODEL_6c188fa053cf45cc8bdc1ea1b2b6dcb9",
       "tooltips": []
      }
     },
     "525c7921d0f64816a740d50d58b45ca7": {
      "model_module": "@jupyter-widgets/base",
      "model_module_version": "1.2.0",
      "model_name": "LayoutModel",
      "state": {}
     },
     "54cb3098447b4a4d8ffb03bef22247d1": {
      "model_module": "@jupyter-widgets/base",
      "model_module_version": "1.2.0",
      "model_name": "LayoutModel",
      "state": {}
     },
     "5563181ac4ce426eb7c0eca72052cd15": {
      "model_module": "@jupyter-widgets/base",
      "model_module_version": "1.2.0",
      "model_name": "LayoutModel",
      "state": {}
     },
     "564a289552f9451e8b7afa84da135e75": {
      "model_module": "@jupyter-widgets/controls",
      "model_module_version": "1.5.0",
      "model_name": "ToggleButtonsModel",
      "state": {
       "_options_labels": [
        "Success!"
       ],
       "button_style": "",
       "icons": [],
       "index": 0,
       "layout": "IPY_MODEL_1e67c356e5e749a98854f0da99c4075f",
       "style": "IPY_MODEL_921dd4b2f73042c68e7bb44770c1cb2a",
       "tooltips": []
      }
     },
     "572f984b64b44ed49f5cbcee65e7126e": {
      "model_module": "@jupyter-widgets/base",
      "model_module_version": "1.2.0",
      "model_name": "LayoutModel",
      "state": {}
     },
     "6450974497f844858361c72d16f8aa2e": {
      "model_module": "@jupyter-widgets/controls",
      "model_module_version": "1.5.0",
      "model_name": "ToggleButtonsStyleModel",
      "state": {
       "button_width": "",
       "description_width": ""
      }
     },
     "64e52ce161144f1cba23d8bcd7680530": {
      "model_module": "@jupyter-widgets/controls",
      "model_module_version": "1.5.0",
      "model_name": "ToggleButtonsStyleModel",
      "state": {
       "button_width": "",
       "description_width": ""
      }
     },
     "6bb20539f601487291594e5aedfa3a95": {
      "model_module": "@jupyter-widgets/controls",
      "model_module_version": "1.5.0",
      "model_name": "VBoxModel",
      "state": {
       "children": [
        "IPY_MODEL_b9b5625150be4176b67de25c02918527",
        "IPY_MODEL_462654c19eaf438184b8db5848476a72",
        "IPY_MODEL_6dfed0208bd84ecc964f3856bee3f66f"
       ],
       "layout": "IPY_MODEL_d92f71fa385d4283a289b281b20cb082"
      }
     },
     "6bec2ab2140740358959d98a5288a86f": {
      "model_module": "@jupyter-widgets/controls",
      "model_module_version": "1.5.0",
      "model_name": "ToggleButtonsStyleModel",
      "state": {
       "button_width": "",
       "description_width": ""
      }
     },
     "6c188fa053cf45cc8bdc1ea1b2b6dcb9": {
      "model_module": "@jupyter-widgets/controls",
      "model_module_version": "1.5.0",
      "model_name": "ToggleButtonsStyleModel",
      "state": {
       "button_width": "",
       "description_width": ""
      }
     },
     "6ddd59b371cd4a5fbb745b109a21fd7a": {
      "model_module": "@jupyter-widgets/controls",
      "model_module_version": "1.5.0",
      "model_name": "ToggleButtonsStyleModel",
      "state": {
       "button_width": "",
       "description_width": ""
      }
     },
     "6dfed0208bd84ecc964f3856bee3f66f": {
      "model_module": "@jupyter-widgets/controls",
      "model_module_version": "1.5.0",
      "model_name": "ToggleButtonsModel",
      "state": {
       "_options_labels": [
        "Success!"
       ],
       "button_style": "",
       "icons": [],
       "index": 0,
       "layout": "IPY_MODEL_572f984b64b44ed49f5cbcee65e7126e",
       "style": "IPY_MODEL_098acd9d17b04ecf97deece5abd0dcc8",
       "tooltips": []
      }
     },
     "70a8c35682c84d729241b3c840c4afd2": {
      "model_module": "@jupyter-widgets/controls",
      "model_module_version": "1.5.0",
      "model_name": "VBoxModel",
      "state": {
       "children": [
        "IPY_MODEL_28147fd5385346448ed3330536dc8e75",
        "IPY_MODEL_d5beb65cf530445f966b6ef3150ae322",
        "IPY_MODEL_29eb050c475d4dceb85fbb4a3cf9505e"
       ],
       "layout": "IPY_MODEL_915338f464414fd49d290cf42f49508b"
      }
     },
     "754f767e3fa345869bee95030937c98a": {
      "buffers": [
       {
        "data": "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",
        "encoding": "base64",
        "path": [
         "value"
        ]
       }
      ],
      "model_module": "@jupyter-widgets/controls",
      "model_module_version": "1.5.0",
      "model_name": "ImageModel",
      "state": {
       "layout": "IPY_MODEL_f1e0e5592e7147148ee3dc0feaa99ffc"
      }
     },
     "75a72c9327de448ba8fa27f1d0b4e767": {
      "model_module": "@jupyter-widgets/base",
      "model_module_version": "1.2.0",
      "model_name": "LayoutModel",
      "state": {}
     },
     "7654ffa5235f479f88b44eee42395241": {
      "model_module": "@jupyter-widgets/base",
      "model_module_version": "1.2.0",
      "model_name": "LayoutModel",
      "state": {}
     },
     "78b8b3dfce614974a0999a8ee3dbea03": {
      "model_module": "@jupyter-widgets/controls",
      "model_module_version": "1.5.0",
      "model_name": "ToggleButtonsModel",
      "state": {
       "_options_labels": [
        ""
       ],
       "button_style": "",
       "icons": [],
       "index": 0,
       "layout": "IPY_MODEL_b7061f2ef9b84f68a0cf2bb11f3ee22a",
       "style": "IPY_MODEL_6bec2ab2140740358959d98a5288a86f",
       "tooltips": []
      }
     },
     "7fc280bc1ac844cb8deaafafd52cb3cb": {
      "model_module": "@jupyter-widgets/controls",
      "model_module_version": "1.5.0",
      "model_name": "ToggleButtonsStyleModel",
      "state": {
       "button_width": "",
       "description_width": ""
      }
     },
     "81f9b9c391594d5b9d665faafe1a87a9": {
      "model_module": "@jupyter-widgets/base",
      "model_module_version": "1.2.0",
      "model_name": "LayoutModel",
      "state": {}
     },
     "82aee34568f741eabbb16d75ea300088": {
      "model_module": "@jupyter-widgets/controls",
      "model_module_version": "1.5.0",
      "model_name": "ToggleButtonsStyleModel",
      "state": {
       "button_width": "",
       "description_width": ""
      }
     },
     "86b3d3440a5645be9b8c860ce6011a69": {
      "buffers": [
       {
        "data": "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",
        "encoding": "base64",
        "path": [
         "value"
        ]
       }
      ],
      "model_module": "@jupyter-widgets/controls",
      "model_module_version": "1.5.0",
      "model_name": "ImageModel",
      "state": {
       "layout": "IPY_MODEL_2e6a1ef11d3a4c58b5b7e43b6eb7d40a"
      }
     },
     "88d5df2382ba4633ba84cfea1951327f": {
      "model_module": "@jupyter-widgets/controls",
      "model_module_version": "1.5.0",
      "model_name": "ToggleButtonsModel",
      "state": {
       "_options_labels": [
        "Success!"
       ],
       "button_style": "",
       "icons": [],
       "index": 0,
       "layout": "IPY_MODEL_4a68b9e5b77c4e419f4710034a06c083",
       "style": "IPY_MODEL_ac5e639fa5b5453e894a5ae6b1a8f114",
       "tooltips": []
      }
     },
     "8bbcd12cf4e44eaaac19aeb0d5de927d": {
      "model_module": "@jupyter-widgets/base",
      "model_module_version": "1.2.0",
      "model_name": "LayoutModel",
      "state": {}
     },
     "8f117e97d5b549bfb74e58b8163b4f7e": {
      "model_module": "@jupyter-widgets/controls",
      "model_module_version": "1.5.0",
      "model_name": "VBoxModel",
      "state": {
       "children": [
        "IPY_MODEL_d01ee0c386b642438cb68c4f1a44dd3b",
        "IPY_MODEL_78b8b3dfce614974a0999a8ee3dbea03",
        "IPY_MODEL_3d4ea378996843838030d363a7e114d6"
       ],
       "layout": "IPY_MODEL_8bbcd12cf4e44eaaac19aeb0d5de927d"
      }
     },
     "90ddc4abb171449ebd09dd5f06523f09": {
      "model_module": "@jupyter-widgets/controls",
      "model_module_version": "1.5.0",
      "model_name": "ToggleButtonsModel",
      "state": {
       "_options_labels": [
        "Success!"
       ],
       "button_style": "",
       "icons": [],
       "index": 0,
       "layout": "IPY_MODEL_54cb3098447b4a4d8ffb03bef22247d1",
       "style": "IPY_MODEL_dd2820baa8ce4625b437584dc295a723",
       "tooltips": []
      }
     },
     "915338f464414fd49d290cf42f49508b": {
      "model_module": "@jupyter-widgets/base",
      "model_module_version": "1.2.0",
      "model_name": "LayoutModel",
      "state": {}
     },
     "921dd4b2f73042c68e7bb44770c1cb2a": {
      "model_module": "@jupyter-widgets/controls",
      "model_module_version": "1.5.0",
      "model_name": "ToggleButtonsStyleModel",
      "state": {
       "button_width": "",
       "description_width": ""
      }
     },
     "98f7a5853fea414b92a85dd41adc73cb": {
      "model_module": "@jupyter-widgets/controls",
      "model_module_version": "1.5.0",
      "model_name": "ToggleButtonsStyleModel",
      "state": {
       "button_width": "",
       "description_width": ""
      }
     },
     "9f69b7ac2ccf4e6a98107b51e9ac0ff5": {
      "model_module": "@jupyter-widgets/controls",
      "model_module_version": "1.5.0",
      "model_name": "ToggleButtonsModel",
      "state": {
       "_options_labels": [
        "Success!"
       ],
       "button_style": "",
       "icons": [],
       "index": 0,
       "layout": "IPY_MODEL_d7a663fd59a54004a621417ab1358a86",
       "style": "IPY_MODEL_1c6b5763c74f44b5ad179cf8a8c1dc83",
       "tooltips": []
      }
     },
     "a7b83cb2577a46429a4429456dcdd9d4": {
      "model_module": "@jupyter-widgets/base",
      "model_module_version": "1.2.0",
      "model_name": "LayoutModel",
      "state": {}
     },
     "ac5e639fa5b5453e894a5ae6b1a8f114": {
      "model_module": "@jupyter-widgets/controls",
      "model_module_version": "1.5.0",
      "model_name": "ToggleButtonsStyleModel",
      "state": {
       "button_width": "",
       "description_width": ""
      }
     },
     "afd62202eb2f48788f4a571d4d3a4ad6": {
      "model_module": "@jupyter-widgets/controls",
      "model_module_version": "1.5.0",
      "model_name": "ToggleButtonsStyleModel",
      "state": {
       "button_width": "",
       "description_width": ""
      }
     },
     "b678ab28b3f6463d9e41c32612a1d4a2": {
      "buffers": [
       {
        "data": "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",
        "encoding": "base64",
        "path": [
         "value"
        ]
       }
      ],
      "model_module": "@jupyter-widgets/controls",
      "model_module_version": "1.5.0",
      "model_name": "ImageModel",
      "state": {
       "layout": "IPY_MODEL_0abaad827cb5498f8612efaf54e82740"
      }
     },
     "b6c472dc416447b09527b27edf70c54e": {
      "model_module": "@jupyter-widgets/base",
      "model_module_version": "1.2.0",
      "model_name": "LayoutModel",
      "state": {}
     },
     "b7061f2ef9b84f68a0cf2bb11f3ee22a": {
      "model_module": "@jupyter-widgets/base",
      "model_module_version": "1.2.0",
      "model_name": "LayoutModel",
      "state": {}
     },
     "b75d4a04d10c497bb9fff5549e6eb665": {
      "buffers": [
       {
        "data": "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",
        "encoding": "base64",
        "path": [
         "value"
        ]
       }
      ],
      "model_module": "@jupyter-widgets/controls",
      "model_module_version": "1.5.0",
      "model_name": "ImageModel",
      "state": {
       "layout": "IPY_MODEL_2fbd53a5b69c4b93ad8c2fcbf28e7d35"
      }
     },
     "b7f7d52c81344fda9b0bebdb58e218be": {
      "model_module": "@jupyter-widgets/base",
      "model_module_version": "1.2.0",
      "model_name": "LayoutModel",
      "state": {}
     },
     "b9b5625150be4176b67de25c02918527": {
      "model_module": "@jupyter-widgets/controls",
      "model_module_version": "1.5.0",
      "model_name": "ToggleButtonsModel",
      "state": {
       "_options_labels": [
        "Success!"
       ],
       "button_style": "",
       "icons": [],
       "index": 0,
       "layout": "IPY_MODEL_75a72c9327de448ba8fa27f1d0b4e767",
       "style": "IPY_MODEL_c38682870e6d42969f1e9cf2253e5b38",
       "tooltips": []
      }
     },
     "badca92bbf904240808b2dddaa2a61b6": {
      "model_module": "@jupyter-widgets/controls",
      "model_module_version": "1.5.0",
      "model_name": "VBoxModel",
      "state": {
       "children": [
        "IPY_MODEL_c1db031fc3b0433e84a69e0ecea1dd03",
        "IPY_MODEL_d02eac696d4e4eadbe551a3543b7a033",
        "IPY_MODEL_bc74388d61bd445bbd7a83a8b5ab3b40"
       ],
       "layout": "IPY_MODEL_32f1a7e41b0448c5a09824882dd77b3c"
      }
     },
     "bc74388d61bd445bbd7a83a8b5ab3b40": {
      "model_module": "@jupyter-widgets/controls",
      "model_module_version": "1.5.0",
      "model_name": "ToggleButtonsModel",
      "state": {
       "_options_labels": [
        "Success!"
       ],
       "button_style": "",
       "icons": [],
       "index": 0,
       "layout": "IPY_MODEL_b6c472dc416447b09527b27edf70c54e",
       "style": "IPY_MODEL_7fc280bc1ac844cb8deaafafd52cb3cb",
       "tooltips": []
      }
     },
     "c1db031fc3b0433e84a69e0ecea1dd03": {
      "model_module": "@jupyter-widgets/controls",
      "model_module_version": "1.5.0",
      "model_name": "ToggleButtonsModel",
      "state": {
       "_options_labels": [
        "Success!"
       ],
       "button_style": "",
       "icons": [],
       "index": 0,
       "layout": "IPY_MODEL_f606446d94e144bea505cd134ea02f01",
       "style": "IPY_MODEL_6450974497f844858361c72d16f8aa2e",
       "tooltips": []
      }
     },
     "c38682870e6d42969f1e9cf2253e5b38": {
      "model_module": "@jupyter-widgets/controls",
      "model_module_version": "1.5.0",
      "model_name": "ToggleButtonsStyleModel",
      "state": {
       "button_width": "",
       "description_width": ""
      }
     },
     "c6c68fc070eb451eb4c7eed9760da5c9": {
      "model_module": "@jupyter-widgets/base",
      "model_module_version": "1.2.0",
      "model_name": "LayoutModel",
      "state": {}
     },
     "c789a337483f4734a909e079db59338b": {
      "model_module": "@jupyter-widgets/base",
      "model_module_version": "1.2.0",
      "model_name": "LayoutModel",
      "state": {}
     },
     "d01ee0c386b642438cb68c4f1a44dd3b": {
      "model_module": "@jupyter-widgets/controls",
      "model_module_version": "1.5.0",
      "model_name": "ToggleButtonsModel",
      "state": {
       "_options_labels": [
        "Choose gate",
        "NOT",
        "CNOT"
       ],
       "button_style": "",
       "icons": [],
       "index": 0,
       "layout": "IPY_MODEL_f868f709385140f3982b953b74e3afea",
       "style": "IPY_MODEL_98f7a5853fea414b92a85dd41adc73cb",
       "tooltips": []
      }
     },
     "d02eac696d4e4eadbe551a3543b7a033": {
      "model_module": "@jupyter-widgets/controls",
      "model_module_version": "1.5.0",
      "model_name": "ToggleButtonsModel",
      "state": {
       "_options_labels": [
        "Success!"
       ],
       "button_style": "",
       "icons": [],
       "index": 0,
       "layout": "IPY_MODEL_0a04cbf8d5774d2bb4f31e4d86b64377",
       "style": "IPY_MODEL_afd62202eb2f48788f4a571d4d3a4ad6",
       "tooltips": []
      }
     },
     "d1db32dd09af4639b04e188dc7bc4be6": {
      "model_module": "@jupyter-widgets/controls",
      "model_module_version": "1.5.0",
      "model_name": "ToggleButtonsStyleModel",
      "state": {
       "button_width": "",
       "description_width": ""
      }
     },
     "d2a4188a833a41c4b52038bbda426d74": {
      "model_module": "@jupyter-widgets/controls",
      "model_module_version": "1.5.0",
      "model_name": "ToggleButtonsModel",
      "state": {
       "_options_labels": [
        "Success!"
       ],
       "button_style": "",
       "icons": [],
       "index": 0,
       "layout": "IPY_MODEL_fa321ef726954b0e8972f7ab533dd079",
       "style": "IPY_MODEL_2928f8e6814c4553b4cb2b04f94f3cdc",
       "tooltips": []
      }
     },
     "d57bdeb9825d4347a76659fd8c143d26": {
      "buffers": [
       {
        "data": "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",
        "encoding": "base64",
        "path": [
         "value"
        ]
       }
      ],
      "model_module": "@jupyter-widgets/controls",
      "model_module_version": "1.5.0",
      "model_name": "ImageModel",
      "state": {
       "layout": "IPY_MODEL_e97e606871cd46be9a3de41d961334e0"
      }
     },
     "d5beb65cf530445f966b6ef3150ae322": {
      "model_module": "@jupyter-widgets/controls",
      "model_module_version": "1.5.0",
      "model_name": "ToggleButtonsModel",
      "state": {
       "_options_labels": [
        ""
       ],
       "button_style": "",
       "icons": [],
       "index": 0,
       "layout": "IPY_MODEL_415b7e08cd994ab9b073bd2d2e1984b9",
       "style": "IPY_MODEL_fb355184b99f4e0db5ce59a929e2cffd",
       "tooltips": []
      }
     },
     "d7a663fd59a54004a621417ab1358a86": {
      "model_module": "@jupyter-widgets/base",
      "model_module_version": "1.2.0",
      "model_name": "LayoutModel",
      "state": {}
     },
     "d92f71fa385d4283a289b281b20cb082": {
      "model_module": "@jupyter-widgets/base",
      "model_module_version": "1.2.0",
      "model_name": "LayoutModel",
      "state": {}
     },
     "dd2820baa8ce4625b437584dc295a723": {
      "model_module": "@jupyter-widgets/controls",
      "model_module_version": "1.5.0",
      "model_name": "ToggleButtonsStyleModel",
      "state": {
       "button_width": "",
       "description_width": ""
      }
     },
     "e0357b5fc886436a9e4bd7d2a56e59f3": {
      "model_module": "@jupyter-widgets/controls",
      "model_module_version": "1.5.0",
      "model_name": "ToggleButtonsModel",
      "state": {
       "_options_labels": [
        "Success!"
       ],
       "button_style": "",
       "icons": [],
       "index": 0,
       "layout": "IPY_MODEL_fff7e984e7294ca6a77b0b5192c7f060",
       "style": "IPY_MODEL_64e52ce161144f1cba23d8bcd7680530",
       "tooltips": []
      }
     },
     "e063cc8fb709406ca851d61170ea78cc": {
      "buffers": [
       {
        "data": "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",
        "encoding": "base64",
        "path": [
         "value"
        ]
       }
      ],
      "model_module": "@jupyter-widgets/controls",
      "model_module_version": "1.5.0",
      "model_name": "ImageModel",
      "state": {
       "layout": "IPY_MODEL_7654ffa5235f479f88b44eee42395241"
      }
     },
     "e97e606871cd46be9a3de41d961334e0": {
      "model_module": "@jupyter-widgets/base",
      "model_module_version": "1.2.0",
      "model_name": "LayoutModel",
      "state": {}
     },
     "ed3defd724f54faa840256049012b1fb": {
      "model_module": "@jupyter-widgets/controls",
      "model_module_version": "1.5.0",
      "model_name": "ToggleButtonsModel",
      "state": {
       "_options_labels": [
        "Success!"
       ],
       "button_style": "",
       "icons": [],
       "index": 0,
       "layout": "IPY_MODEL_b7f7d52c81344fda9b0bebdb58e218be",
       "style": "IPY_MODEL_82aee34568f741eabbb16d75ea300088",
       "tooltips": []
      }
     },
     "efe933b81f5f4042a360a0ccb3f78e3d": {
      "model_module": "@jupyter-widgets/controls",
      "model_module_version": "1.5.0",
      "model_name": "VBoxModel",
      "state": {
       "children": [
        "IPY_MODEL_4f27d4912adc4010aa8e4821744ef10d",
        "IPY_MODEL_20b7a5d8c6c34bf0bc288a75c1e379b9",
        "IPY_MODEL_e0357b5fc886436a9e4bd7d2a56e59f3"
       ],
       "layout": "IPY_MODEL_525c7921d0f64816a740d50d58b45ca7"
      }
     },
     "f1e0e5592e7147148ee3dc0feaa99ffc": {
      "model_module": "@jupyter-widgets/base",
      "model_module_version": "1.2.0",
      "model_name": "LayoutModel",
      "state": {}
     },
     "f606446d94e144bea505cd134ea02f01": {
      "model_module": "@jupyter-widgets/base",
      "model_module_version": "1.2.0",
      "model_name": "LayoutModel",
      "state": {}
     },
     "f868f709385140f3982b953b74e3afea": {
      "model_module": "@jupyter-widgets/base",
      "model_module_version": "1.2.0",
      "model_name": "LayoutModel",
      "state": {}
     },
     "fa321ef726954b0e8972f7ab533dd079": {
      "model_module": "@jupyter-widgets/base",
      "model_module_version": "1.2.0",
      "model_name": "LayoutModel",
      "state": {}
     },
     "fabb20a4a1f04992a42b04b0d4f0fd42": {
      "model_module": "@jupyter-widgets/base",
      "model_module_version": "1.2.0",
      "model_name": "LayoutModel",
      "state": {}
     },
     "fb355184b99f4e0db5ce59a929e2cffd": {
      "model_module": "@jupyter-widgets/controls",
      "model_module_version": "1.5.0",
      "model_name": "ToggleButtonsStyleModel",
      "state": {
       "button_width": "",
       "description_width": ""
      }
     },
     "fe55229889c648a2bf04054e94c6101e": {
      "model_module": "@jupyter-widgets/controls",
      "model_module_version": "1.5.0",
      "model_name": "VBoxModel",
      "state": {
       "children": [
        "IPY_MODEL_90ddc4abb171449ebd09dd5f06523f09",
        "IPY_MODEL_d2a4188a833a41c4b52038bbda426d74",
        "IPY_MODEL_ed3defd724f54faa840256049012b1fb"
       ],
       "layout": "IPY_MODEL_c6c68fc070eb451eb4c7eed9760da5c9"
      }
     },
     "fff7e984e7294ca6a77b0b5192c7f060": {
      "model_module": "@jupyter-widgets/base",
      "model_module_version": "1.2.0",
      "model_name": "LayoutModel",
      "state": {}
     }
    },
    "version_major": 2,
    "version_minor": 0
   }
  }
 },
 "nbformat": 4,
 "nbformat_minor": 5
}
