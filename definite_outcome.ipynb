{
 "cells": [
  {
   "cell_type": "code",
   "execution_count": 2,
   "id": "d135472e-f037-4529-b6aa-23d31a7b3a2a",
   "metadata": {},
   "outputs": [],
   "source": [
    "from qiskit import QuantumCircuit, assemble, Aer\n",
    "from qiskit.visualization import plot_histogram, plot_bloch_vector\n",
    "from math import sqrt, pi"
   ]
  },
  {
   "cell_type": "code",
   "execution_count": 9,
   "id": "58ea1cd0-41fb-44e1-89d0-88cc30381618",
   "metadata": {},
   "outputs": [
    {
     "data": {
      "image/png": "[encoded data removed]",
      "text/plain": [
       "<Figure size 133.526x84.28 with 1 Axes>"
      ]
     },
     "execution_count": 9,
     "metadata": {},
     "output_type": "execute_result"
    }
   ],
   "source": [
    "# Assemble a list of circuits or pulse schedules into a Qobj.\n",
    "\n",
    "qc = QuantumCircuit(1) # Creating a Quantum Circuit with one qubit \n",
    "initial_state = [0, 1] # Define initial state as |1>\n",
    "qc.initialize(initial_state, 0) # Apply initialization operation to the zeroth qubit\n",
    "qc.draw() # Drawing the circuit"
   ]
  },
  {
   "cell_type": "code",
   "execution_count": 4,
   "id": "75e15863-988f-4ddd-923a-ad56ca953f38",
   "metadata": {},
   "outputs": [
    {
     "name": "stderr",
     "output_type": "stream",
     "text": [
      "<frozen importlib._bootstrap>:219: RuntimeWarning: scipy._lib.messagestream.MessageStream size changed, may indicate binary incompatibility. Expected 56 from C header, got 64 from PyObject\n"
     ]
    }
   ],
   "source": [
    "sim = Aer.get_backend('aer_simulator') # Telling qiskit how to simulate our circuit"
   ]
  },
  {
   "cell_type": "code",
   "execution_count": 5,
   "id": "bbe249f5-8f7c-41fd-bb08-b77917a0b5e7",
   "metadata": {},
   "outputs": [],
   "source": [
    "qc = QuantumCircuit(1) # Creating a Quantum Circuit with one qubit \n",
    "initial_state = [0,1]  # Define initial_state as |1>\n",
    "qc.initialize(initial_state,0)  # Apply initialisation operation to the 0th qubit\n",
    "qc.save_statevector() # Tell simulator to save statevector\n",
    "qobj = assemble(qc)   # Create a Qobj from the circuit for the simulator to run\n",
    "result = sim.run(qobj).result() # Do the simulation and return the result"
   ]
  },
  {
   "cell_type": "code",
   "execution_count": 6,
   "id": "ecca2e39-4499-41ff-beed-aedca0908919",
   "metadata": {},
   "outputs": [
    {
     "name": "stdout",
     "output_type": "stream",
     "text": [
      "Statevector([0.+0.j, 1.+0.j],\n",
      "            dims=(2,))\n"
     ]
    }
   ],
   "source": [
    "out_state = result.get_statevector()\n",
    "print(out_state) # Display the output state vector"
   ]
  },
  {
   "cell_type": "code",
   "execution_count": 7,
   "id": "fff51c77-5875-4b93-9b08-a25429cf54d4",
   "metadata": {},
   "outputs": [
    {
     "data": {
      "image/png": "[encoded data removed]",
      "text/plain": [
       "<Figure size 357.679x144.48 with 1 Axes>"
      ]
     },
     "execution_count": 7,
     "metadata": {},
     "output_type": "execute_result"
    }
   ],
   "source": [
    "qc.measure_all()\n",
    "qc.draw()"
   ]
  },
  {
   "cell_type": "code",
   "execution_count": 8,
   "id": "23fb0108-22d3-4f78-af4f-5d447c0f14bb",
   "metadata": {},
   "outputs": [
    {
     "data": {
      "image/png": "[encoded data removed]",
      "text/plain": [
       "<Figure size 504x360 with 1 Axes>"
      ]
     },
     "execution_count": 8,
     "metadata": {},
     "output_type": "execute_result"
    }
   ],
   "source": [
    "qobj = assemble(qc)\n",
    "result = sim.run(qobj).result()\n",
    "counts = result.get_counts()\n",
    "plot_histogram(counts)"
   ]
  },
  {
   "cell_type": "code",
   "execution_count": null,
   "id": "2988ce48-e0d9-4726-8af5-e3f55b1e7578",
   "metadata": {},
   "outputs": [],
   "source": []
  }
 ],
 "metadata": {
  "kernelspec": {
   "display_name": "Python 3 (ipykernel)",
   "language": "python",
   "name": "python3"
  },
  "language_info": {
   "codemirror_mode": {
    "name": "ipython",
    "version": 3
   },
   "file_extension": ".py",
   "mimetype": "text/x-python",
   "name": "python",
   "nbconvert_exporter": "python",
   "pygments_lexer": "ipython3",
   "version": "3.8.13"
  },
  "widgets": {
   "application/vnd.jupyter.widget-state+json": {
    "state": {},
    "version_major": 2,
    "version_minor": 0
   }
  }
 },
 "nbformat": 4,
 "nbformat_minor": 5
}
