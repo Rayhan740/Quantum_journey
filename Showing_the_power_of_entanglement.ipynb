{
 "cells": [
  {
   "cell_type": "code",
   "execution_count": 7,
   "id": "8292f441-947e-404c-a293-28ba18eb3a9f",
   "metadata": {},
   "outputs": [
    {
     "data": {
      "text/plain": [
       "{'00': 1024}"
      ]
     },
     "execution_count": 7,
     "metadata": {},
     "output_type": "execute_result"
    }
   ],
   "source": [
    "# Here we are going to see how classical and quantum computer differ and how entanglement help QC \n",
    "# We are going ro send some message by the help of entanglement\n",
    "# Here we are not using entanglement just showing the direct approach\n",
    "\n",
    "from qiskit import QuantumCircuit\n",
    "from qiskit import Aer\n",
    "from qiskit.quantum_info import Statevector\n",
    "\n",
    "\n",
    "# The message\n",
    "MESSAGE = '00'\n",
    "\n",
    "# Alice encodes the message\n",
    "qc_alice = QuantumCircuit(2,2)\n",
    "\n",
    "if MESSAGE[-1] == '1':\n",
    "    qc_alice.x(0)\n",
    "if MESSAGE[-2] == '1':\n",
    "    qc_alice.x(1)\n",
    "\n",
    "# Using simulator to simulate our answer\n",
    "\n",
    "backend = Aer.get_backend('aer_simulator')\n",
    "\n",
    "# Bob measures\n",
    "qc_bob = QuantumCircuit(2,2)\n",
    "qc_bob.measure([0,1],[0,1])\n",
    "\n",
    "backend.run(qc_alice.compose(qc_bob)).result().get_counts()"
   ]
  },
  {
   "cell_type": "code",
   "execution_count": 12,
   "id": "a8878128-44ec-449d-97d0-c9a21653d03a",
   "metadata": {},
   "outputs": [
    {
     "data": {
      "text/plain": [
       "{'00': 1024}"
      ]
     },
     "execution_count": 12,
     "metadata": {},
     "output_type": "execute_result"
    }
   ],
   "source": [
    "# When we are going to take the help of entanglement \n",
    "MESSAGE = '00'\n",
    "\n",
    "qc_alice = QuantumCircuit(2,2)\n",
    "\n",
    "# Alice encodes the message\n",
    "if MESSAGE[-1] == '1':\n",
    "    qc_alice.x(0)\n",
    "if MESSAGE[-2] == '1':\n",
    "    qc_alice.x(1)\n",
    "    \n",
    "# Then she will be creating entangle state\n",
    "qc_alice.h(1)\n",
    "qc_alice.cx(1,0)\n",
    "\n",
    "#ket = Statevector(qc_alice)\n",
    "#ket.draw()\n",
    "\n",
    "qc_bob = QuantumCircuit(2,2)\n",
    "# Bob disentangles\n",
    "qc_bob.cx(1,0)\n",
    "qc_bob.h(1)\n",
    "\n",
    "# Then measures\n",
    "qc_bob.measure([0,1],[0,1])\n",
    "\n",
    "backend.run(qc_alice.compose(qc_bob)).result().get_counts()"
   ]
  },
  {
   "cell_type": "code",
   "execution_count": 13,
   "id": "59c22891-abba-406d-ad29-288f66391754",
   "metadata": {},
   "outputs": [
    {
     "data": {
      "text/plain": [
       "{'01': 1024}"
      ]
     },
     "execution_count": 13,
     "metadata": {},
     "output_type": "execute_result"
    }
   ],
   "source": [
    "# If we think about a third party like Charlie who will only create a entangle gate like \n",
    "# |phi^+>\n",
    "\n",
    "qc_charlie = QuantumCircuit(2,2)\n",
    "qc_charlie.h(1)\n",
    "qc_charlie.cx(1,0)\n",
    "\n",
    "MESSAGE = '01'\n",
    "\n",
    "qc_alice = QuantumCircuit(2,2)\n",
    "\n",
    "if MESSAGE[-2]=='1':\n",
    "    qc_alice.z(1)\n",
    "if MESSAGE[-1]=='1':\n",
    "    qc_alice.x(1)\n",
    "    \n",
    "complete_qc = qc_charlie.compose(qc_alice.compose(qc_bob))\n",
    "backend.run(complete_qc).result().get_counts()"
   ]
  },
  {
   "cell_type": "code",
   "execution_count": null,
   "id": "aef0a435-24af-4bdd-be8c-67fd3b367b57",
   "metadata": {},
   "outputs": [],
   "source": []
  }
 ],
 "metadata": {
  "kernelspec": {
   "display_name": "Python 3 (ipykernel)",
   "language": "python",
   "name": "python3"
  },
  "language_info": {
   "codemirror_mode": {
    "name": "ipython",
    "version": 3
   },
   "file_extension": ".py",
   "mimetype": "text/x-python",
   "name": "python",
   "nbconvert_exporter": "python",
   "pygments_lexer": "ipython3",
   "version": "3.8.13"
  },
  "widgets": {
   "application/vnd.jupyter.widget-state+json": {
    "state": {},
    "version_major": 2,
    "version_minor": 0
   }
  }
 },
 "nbformat": 4,
 "nbformat_minor": 5
}
