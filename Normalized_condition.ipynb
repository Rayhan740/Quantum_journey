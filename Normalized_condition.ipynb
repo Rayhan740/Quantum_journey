{
 "cells": [
  {
   "cell_type": "code",
   "execution_count": 23,
   "id": "9da9ecbd-3c2e-4aea-b3d0-de8e14653677",
   "metadata": {},
   "outputs": [
    {
     "name": "stdout",
     "output_type": "stream",
     "text": [
      "Traceback \u001b[1;36m(most recent call last)\u001b[0m:\n",
      "\u001b[1;36m  Input \u001b[1;32mIn [23]\u001b[1;36m in \u001b[1;35m<cell line: 8>\u001b[1;36m\u001b[0m\n",
      "\u001b[1;33m    qc.intialize(vector, 0)\u001b[0m\n",
      "\u001b[1;31mAttributeError\u001b[0m\u001b[1;31m:\u001b[0m 'QuantumCircuit' object has no attribute 'intialize'\n",
      "\n",
      "Use %tb to get the full traceback.\n"
     ]
    },
    {
     "data": {
      "text/html": [
       "\n",
       "<style>\n",
       ".button {\n",
       "  border: none;\n",
       "  color: white;\n",
       "  padding: 4px 8px;\n",
       "  text-align: center;\n",
       "  text-decoration: none;\n",
       "  display: inline-block;\n",
       "  font-size: 12px;\n",
       "  margin: 4px 2px;\n",
       "  transition-duration: 0.2s;\n",
       "  cursor: pointer;\n",
       "}\n",
       ".iqx-button {\n",
       "  background-color: #0f62fe; \n",
       "  color: white; \n",
       "}\n",
       ".iqx-button:hover {\n",
       "  background-color: #0043ce;\n",
       "  color: white;\n",
       "}\n",
       "</style>\n",
       "<a href=\"https://stackoverflow.com/search?q=AttributeError: 'QuantumCircuit' object has no attribute 'intialize'\" target='_blank'><button class='button iqx-button'>Search for solution online</button></a>\n"
      ],
      "text/plain": [
       "<IPython.core.display.HTML object>"
      ]
     },
     "metadata": {},
     "output_type": "display_data"
    }
   ],
   "source": [
    "# It is not normalized so that's why it will give an error\n",
    "from qiskit import QuantumCircuit , assemble, Aer\n",
    "\n",
    "sim = Aer.get_backend('aer_simulator')\n",
    "\n",
    "qc = QuantumCircuit(1)\n",
    "vector = [1,1]  \n",
    "qc.intialize(vector, 0) "
   ]
  },
  {
   "cell_type": "code",
   "execution_count": 24,
   "id": "83ccc2d3-902e-4019-b5b5-22ade84f218d",
   "metadata": {},
   "outputs": [
    {
     "data": {
      "application/vnd.jupyter.widget-view+json": {
       "model_id": "5730fe44c87a4453951afe6de3d93eb7",
       "version_major": 2,
       "version_minor": 0
      },
      "text/plain": [
       "VBox(children=(Label(value='State Vector:'), HBox(children=(Text(value='[1, 0]', placeholder='Type something')…"
      ]
     },
     "metadata": {},
     "output_type": "display_data"
    },
    {
     "data": {
      "application/vnd.jupyter.widget-view+json": {
       "model_id": "393b2e0c36124a189a914358b39d467e",
       "version_major": 2,
       "version_minor": 0
      },
      "text/plain": [
       "HTML(value='<pre></pre>')"
      ]
     },
     "metadata": {},
     "output_type": "display_data"
    }
   ],
   "source": [
    "# Run the code in this cell to interact with the widget\n",
    "from qiskit_textbook.widgets import state_vector_exercise\n",
    "state_vector_exercise(target=1/3)"
   ]
  },
  {
   "cell_type": "code",
   "execution_count": 25,
   "id": "c9dba207-f601-47a0-acb2-073115b721c3",
   "metadata": {},
   "outputs": [
    {
     "data": {
      "image/png": "[encoded data removed]",
      "text/plain": [
       "<Figure size 193.726x84.28 with 1 Axes>"
      ]
     },
     "execution_count": 25,
     "metadata": {},
     "output_type": "execute_result"
    }
   ],
   "source": [
    "# Exercise \n",
    "# Create a state vector that will give a 1/3 probability of measuring |0>.\n",
    "\n",
    "from qiskit import QuantumCircuit, assemble, Aer\n",
    "from qiskit.tools.visualization import plot_histogram, plot_bloch_vector\n",
    "from math import sqrt , pi\n",
    "\n",
    "sim = Aer.get_backend('aer_simulator')\n",
    "\n",
    "initial_state = [1/sqrt(3), 1j*sqrt(2)/sqrt(3)]\n",
    "\n",
    "\n",
    "qc = QuantumCircuit(1)\n",
    "qc.initialize(initial_state, 0)\n",
    "qc.draw()"
   ]
  },
  {
   "cell_type": "code",
   "execution_count": 26,
   "id": "abbea043-f013-4376-8281-ee80ff6ed17b",
   "metadata": {},
   "outputs": [
    {
     "data": {
      "image/png": "[encoded data removed]",
      "text/plain": [
       "<Figure size 357.679x144.48 with 1 Axes>"
      ]
     },
     "execution_count": 26,
     "metadata": {},
     "output_type": "execute_result"
    }
   ],
   "source": [
    "qc.measure_all()\n",
    "qc.draw()"
   ]
  },
  {
   "cell_type": "code",
   "execution_count": 27,
   "id": "3ef75e4f-4ca9-4d6a-a754-8ee78a727d74",
   "metadata": {},
   "outputs": [
    {
     "name": "stdout",
     "output_type": "stream",
     "text": [
      "Statevector([1.+0.j, 0.+0.j],\n",
      "            dims=(2,))\n"
     ]
    }
   ],
   "source": [
    "qc.save_statevector()\n",
    "qobj = assemble(qc)\n",
    "state = sim.run(qobj).result().get_statevector()\n",
    "print(state)"
   ]
  },
  {
   "cell_type": "code",
   "execution_count": 29,
   "id": "3edc739d-4012-4442-b710-372094e969df",
   "metadata": {},
   "outputs": [
    {
     "data": {
      "image/png": "[encoded data removed]",
      "text/plain": [
       "<Figure size 504x360 with 1 Axes>"
      ]
     },
     "execution_count": 29,
     "metadata": {},
     "output_type": "execute_result"
    }
   ],
   "source": [
    "qobj = assemble(qc)\n",
    "results = sim.run(qobj).result().get_counts()\n",
    "plot_histogram(results)\n",
    "\n",
    "# So the probability of measuring |0> is 1/3 and |1> is 2/3"
   ]
  },
  {
   "cell_type": "code",
   "execution_count": null,
   "id": "dbb34407-60f1-42e3-90ec-0ce180602f17",
   "metadata": {},
   "outputs": [],
   "source": []
  }
 ],
 "metadata": {
  "kernelspec": {
   "display_name": "Python 3 (ipykernel)",
   "language": "python",
   "name": "python3"
  },
  "language_info": {
   "codemirror_mode": {
    "name": "ipython",
    "version": 3
   },
   "file_extension": ".py",
   "mimetype": "text/x-python",
   "name": "python",
   "nbconvert_exporter": "python",
   "pygments_lexer": "ipython3",
   "version": "3.8.13"
  },
  "widgets": {
   "application/vnd.jupyter.widget-state+json": {
    "state": {
     "05d1f31640054059addd511445e8dde8": {
      "model_module": "@jupyter-widgets/base",
      "model_module_version": "1.2.0",
      "model_name": "LayoutModel",
      "state": {
       "width": "5em"
      }
     },
     "0afd29ae82af42f4b48b9a6e40b40871": {
      "model_module": "@jupyter-widgets/controls",
      "model_module_version": "1.5.0",
      "model_name": "ButtonStyleModel",
      "state": {}
     },
     "0f3c1abd455a4b539bf57b2ed079f28b": {
      "model_module": "@jupyter-widgets/controls",
      "model_module_version": "1.5.0",
      "model_name": "TextModel",
      "state": {
       "layout": "IPY_MODEL_ccd5bc25fc224cfa9b39e511ded87d48",
       "placeholder": "Type something",
       "style": "IPY_MODEL_42212e8687f24e26a9b09ef993b1d49e",
       "value": "[1, 0]"
      }
     },
     "16967c46ac814ed0b41d439b9bff971d": {
      "model_module": "@jupyter-widgets/controls",
      "model_module_version": "1.5.0",
      "model_name": "ButtonModel",
      "state": {
       "description": "Check",
       "layout": "IPY_MODEL_f8474dcaad594efeb4e8e2ab96c38bf2",
       "style": "IPY_MODEL_0afd29ae82af42f4b48b9a6e40b40871"
      }
     },
     "2085cb952d2d419faf725c2e9bf4ec9f": {
      "model_module": "@jupyter-widgets/controls",
      "model_module_version": "1.5.0",
      "model_name": "DescriptionStyleModel",
      "state": {
       "description_width": ""
      }
     },
     "26fd23bf6a474606b321778aead9e252": {
      "model_module": "@jupyter-widgets/base",
      "model_module_version": "1.2.0",
      "model_name": "LayoutModel",
      "state": {}
     },
     "2fc776b1990542b2bfcb40b0f82f1b9c": {
      "model_module": "@jupyter-widgets/controls",
      "model_module_version": "1.5.0",
      "model_name": "DescriptionStyleModel",
      "state": {
       "description_width": ""
      }
     },
     "342534fdb502479f8640995e2c73039e": {
      "model_module": "@jupyter-widgets/controls",
      "model_module_version": "1.5.0",
      "model_name": "DescriptionStyleModel",
      "state": {
       "description_width": ""
      }
     },
     "3671c65c40aa457f9acf1b75517c7fed": {
      "model_module": "@jupyter-widgets/base",
      "model_module_version": "1.2.0",
      "model_name": "LayoutModel",
      "state": {}
     },
     "393b2e0c36124a189a914358b39d467e": {
      "model_module": "@jupyter-widgets/controls",
      "model_module_version": "1.5.0",
      "model_name": "HTMLModel",
      "state": {
       "layout": "IPY_MODEL_cf030eb46700418c9e2ab3aba4203825",
       "style": "IPY_MODEL_d6ead512a84c4d5bb48d3d2867460a88",
       "value": "<pre></pre>"
      }
     },
     "42212e8687f24e26a9b09ef993b1d49e": {
      "model_module": "@jupyter-widgets/controls",
      "model_module_version": "1.5.0",
      "model_name": "DescriptionStyleModel",
      "state": {
       "description_width": ""
      }
     },
     "4d6a8987a93c40f487ea8be56417e837": {
      "model_module": "@jupyter-widgets/controls",
      "model_module_version": "1.5.0",
      "model_name": "VBoxModel",
      "state": {
       "children": [
        "IPY_MODEL_9c92b1650f2941b49d87fd19fbe25205",
        "IPY_MODEL_9c1c2b5977534f9c8482f934defe8ae3"
       ],
       "layout": "IPY_MODEL_26fd23bf6a474606b321778aead9e252"
      }
     },
     "51c52177f23f4c1a8bd7de34e1b0ef0d": {
      "model_module": "@jupyter-widgets/controls",
      "model_module_version": "1.5.0",
      "model_name": "LabelModel",
      "state": {
       "layout": "IPY_MODEL_a75901a8c86c47dc85b9ec71f1652483",
       "style": "IPY_MODEL_342534fdb502479f8640995e2c73039e",
       "value": "State Vector:"
      }
     },
     "5730fe44c87a4453951afe6de3d93eb7": {
      "model_module": "@jupyter-widgets/controls",
      "model_module_version": "1.5.0",
      "model_name": "VBoxModel",
      "state": {
       "children": [
        "IPY_MODEL_51c52177f23f4c1a8bd7de34e1b0ef0d",
        "IPY_MODEL_578c4a938deb45b2ae78e4006afa5f22"
       ],
       "layout": "IPY_MODEL_6dedbbcfd6da457db53b78ced0a8b679"
      }
     },
     "578c4a938deb45b2ae78e4006afa5f22": {
      "model_module": "@jupyter-widgets/controls",
      "model_module_version": "1.5.0",
      "model_name": "HBoxModel",
      "state": {
       "children": [
        "IPY_MODEL_dfef9de1c33644a3a2b28a704761396f",
        "IPY_MODEL_ee06f27600e3448e805a72612f241e59"
       ],
       "layout": "IPY_MODEL_d97e3faab000420bb01fcbc8b01211f2"
      }
     },
     "5e52df533cba4e6ca6595ca4d6ac0326": {
      "model_module": "@jupyter-widgets/base",
      "model_module_version": "1.2.0",
      "model_name": "LayoutModel",
      "state": {}
     },
     "668b3862a8f74dd0abb9c5da6a49b2ef": {
      "model_module": "@jupyter-widgets/base",
      "model_module_version": "1.2.0",
      "model_name": "LayoutModel",
      "state": {}
     },
     "6dedbbcfd6da457db53b78ced0a8b679": {
      "model_module": "@jupyter-widgets/base",
      "model_module_version": "1.2.0",
      "model_name": "LayoutModel",
      "state": {}
     },
     "7a30afa03f784fd9b31656ca57adddf5": {
      "model_module": "@jupyter-widgets/base",
      "model_module_version": "1.2.0",
      "model_name": "LayoutModel",
      "state": {}
     },
     "9ac5d37be6524e80a3b3b7fee291bfb2": {
      "model_module": "@jupyter-widgets/controls",
      "model_module_version": "1.5.0",
      "model_name": "ButtonStyleModel",
      "state": {}
     },
     "9c1c2b5977534f9c8482f934defe8ae3": {
      "model_module": "@jupyter-widgets/controls",
      "model_module_version": "1.5.0",
      "model_name": "HBoxModel",
      "state": {
       "children": [
        "IPY_MODEL_0f3c1abd455a4b539bf57b2ed079f28b",
        "IPY_MODEL_16967c46ac814ed0b41d439b9bff971d"
       ],
       "layout": "IPY_MODEL_7a30afa03f784fd9b31656ca57adddf5"
      }
     },
     "9c92b1650f2941b49d87fd19fbe25205": {
      "model_module": "@jupyter-widgets/controls",
      "model_module_version": "1.5.0",
      "model_name": "LabelModel",
      "state": {
       "layout": "IPY_MODEL_3671c65c40aa457f9acf1b75517c7fed",
       "style": "IPY_MODEL_2085cb952d2d419faf725c2e9bf4ec9f",
       "value": "State Vector:"
      }
     },
     "a75901a8c86c47dc85b9ec71f1652483": {
      "model_module": "@jupyter-widgets/base",
      "model_module_version": "1.2.0",
      "model_name": "LayoutModel",
      "state": {}
     },
     "ccd5bc25fc224cfa9b39e511ded87d48": {
      "model_module": "@jupyter-widgets/base",
      "model_module_version": "1.2.0",
      "model_name": "LayoutModel",
      "state": {}
     },
     "cf030eb46700418c9e2ab3aba4203825": {
      "model_module": "@jupyter-widgets/base",
      "model_module_version": "1.2.0",
      "model_name": "LayoutModel",
      "state": {}
     },
     "d0a0b4a090eb4c95b5fd639173f5c5ad": {
      "model_module": "@jupyter-widgets/controls",
      "model_module_version": "1.5.0",
      "model_name": "HTMLModel",
      "state": {
       "layout": "IPY_MODEL_668b3862a8f74dd0abb9c5da6a49b2ef",
       "style": "IPY_MODEL_2fc776b1990542b2bfcb40b0f82f1b9c",
       "value": "<pre></pre>"
      }
     },
     "d6ead512a84c4d5bb48d3d2867460a88": {
      "model_module": "@jupyter-widgets/controls",
      "model_module_version": "1.5.0",
      "model_name": "DescriptionStyleModel",
      "state": {
       "description_width": ""
      }
     },
     "d97e3faab000420bb01fcbc8b01211f2": {
      "model_module": "@jupyter-widgets/base",
      "model_module_version": "1.2.0",
      "model_name": "LayoutModel",
      "state": {}
     },
     "dfef9de1c33644a3a2b28a704761396f": {
      "model_module": "@jupyter-widgets/controls",
      "model_module_version": "1.5.0",
      "model_name": "TextModel",
      "state": {
       "layout": "IPY_MODEL_5e52df533cba4e6ca6595ca4d6ac0326",
       "placeholder": "Type something",
       "style": "IPY_MODEL_f033f27486864fdaae4175f2dac35ee6",
       "value": "[1, 0]"
      }
     },
     "ee06f27600e3448e805a72612f241e59": {
      "model_module": "@jupyter-widgets/controls",
      "model_module_version": "1.5.0",
      "model_name": "ButtonModel",
      "state": {
       "description": "Check",
       "layout": "IPY_MODEL_05d1f31640054059addd511445e8dde8",
       "style": "IPY_MODEL_9ac5d37be6524e80a3b3b7fee291bfb2"
      }
     },
     "f033f27486864fdaae4175f2dac35ee6": {
      "model_module": "@jupyter-widgets/controls",
      "model_module_version": "1.5.0",
      "model_name": "DescriptionStyleModel",
      "state": {
       "description_width": ""
      }
     },
     "f8474dcaad594efeb4e8e2ab96c38bf2": {
      "model_module": "@jupyter-widgets/base",
      "model_module_version": "1.2.0",
      "model_name": "LayoutModel",
      "state": {
       "width": "5em"
      }
     }
    },
    "version_major": 2,
    "version_minor": 0
   }
  }
 },
 "nbformat": 4,
 "nbformat_minor": 5
}
