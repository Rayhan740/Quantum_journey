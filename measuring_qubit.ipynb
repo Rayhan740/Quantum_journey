{
 "cells": [
  {
   "cell_type": "code",
   "execution_count": 6,
   "id": "12d77096-3224-4fb5-a280-a8c7f737d6dd",
   "metadata": {},
   "outputs": [
    {
     "data": {
      "image/png": "[encoded data removed]",
      "text/plain": [
       "<Figure size 193.726x144.48 with 1 Axes>"
      ]
     },
     "metadata": {},
     "output_type": "display_data"
    },
    {
     "name": "stdout",
     "output_type": "stream",
     "text": [
      "Results from x measurement: {'0': 494, '1': 530}\n"
     ]
    }
   ],
   "source": [
    "# x measurement \n",
    "\n",
    "from qiskit import QuantumCircuit\n",
    "from qiskit import Aer\n",
    "\n",
    "backend = Aer.get_backend('aer_simulator')\n",
    "\n",
    "meas_x = QuantumCircuit(1,1)\n",
    "qc = QuantumCircuit(1,1)\n",
    "\n",
    "\n",
    "meas_x.h(0)\n",
    "meas_x.measure(0,0)\n",
    "\n",
    "#display(qc.draw())\n",
    "display(meas_x.draw())\n",
    "\n",
    "print('Results from x measurement:', backend.run(qc.compose(meas_x)).result().get_counts())\n"
   ]
  },
  {
   "cell_type": "code",
   "execution_count": 8,
   "id": "6fe6cdb1-a50a-47dc-9ff2-f371769d0b52",
   "metadata": {},
   "outputs": [
    {
     "data": {
      "image/png": "[encoded data removed]",
      "text/plain": [
       "<Figure size 133.526x144.48 with 1 Axes>"
      ]
     },
     "metadata": {},
     "output_type": "display_data"
    },
    {
     "name": "stdout",
     "output_type": "stream",
     "text": [
      "Results from z measurement:  {'0': 1024}\n"
     ]
    }
   ],
   "source": [
    "# z measurement\n",
    "\n",
    "meas_z = QuantumCircuit(1,1)\n",
    "meas_z.measure(0,0)\n",
    "\n",
    "display(meas_z.draw())\n",
    "\n",
    "print('Results from z measurement: ', backend.run(qc.compose(meas_z)).result().get_counts())"
   ]
  },
  {
   "cell_type": "code",
   "execution_count": 9,
   "id": "7228c933-ff88-4c21-9bd8-2c50702c9ceb",
   "metadata": {},
   "outputs": [
    {
     "data": {
      "image/png": "[encoded data removed]",
      "text/plain": [
       "<Figure size 133.526x144.48 with 1 Axes>"
      ]
     },
     "execution_count": 9,
     "metadata": {},
     "output_type": "execute_result"
    }
   ],
   "source": [
    "# Let's see for |1> state \n",
    "qc = QuantumCircuit(1,1)\n",
    "qc.x(0)\n",
    "\n",
    "qc.draw()"
   ]
  },
  {
   "cell_type": "code",
   "execution_count": 10,
   "id": "a81c2319-036e-4cb3-8b4a-ab6174672d9b",
   "metadata": {},
   "outputs": [
    {
     "name": "stdout",
     "output_type": "stream",
     "text": [
      "Results from zmeasurement:  {'1': 1024}\n",
      "Results from xmeasurement:  {'0': 501, '1': 523}\n"
     ]
    }
   ],
   "source": [
    "# let's see x and z measurement for different circuit\n",
    "\n",
    "for basis, circ in [('z',meas_z), ('x', meas_x)]:\n",
    "    print('Results from ' + basis + 'measurement: ',\n",
    "         backend.run(qc.compose(circ)).result().get_counts())"
   ]
  },
  {
   "cell_type": "code",
   "execution_count": 11,
   "id": "6654df34-97d7-4704-b6b6-12b2fde21f56",
   "metadata": {},
   "outputs": [
    {
     "data": {
      "image/png": "[encoded data removed]",
      "text/plain": [
       "<Figure size 133.526x144.48 with 1 Axes>"
      ]
     },
     "execution_count": 11,
     "metadata": {},
     "output_type": "execute_result"
    }
   ],
   "source": [
    "# Let's see for |+> state\n",
    "qc = QuantumCircuit(1,1)\n",
    "qc.h(0)\n",
    "\n",
    "qc.draw()"
   ]
  },
  {
   "cell_type": "code",
   "execution_count": 12,
   "id": "9804d8e7-7f68-4def-915e-23be4be64d56",
   "metadata": {},
   "outputs": [
    {
     "name": "stdout",
     "output_type": "stream",
     "text": [
      "Results from z measurement: {'1': 493, '0': 531}\n",
      "Results from x measurement: {'0': 1024}\n"
     ]
    }
   ],
   "source": [
    "for basis,circ in [('z', meas_z), ('x', meas_x)]:\n",
    "    print('Results from ' + basis + ' measurement:',\n",
    "      backend.run(qc.compose(circ)).result().get_counts())"
   ]
  },
  {
   "cell_type": "code",
   "execution_count": 14,
   "id": "b5a32518-b1c2-4e70-b362-94ef014d848f",
   "metadata": {},
   "outputs": [
    {
     "data": {
      "image/png": "[encoded data removed]",
      "text/plain": [
       "<Figure size 133.526x144.48 with 1 Axes>"
      ]
     },
     "execution_count": 14,
     "metadata": {},
     "output_type": "execute_result"
    }
   ],
   "source": [
    "# We want to try different angle for ry rotations or can see ry gate\n",
    "from math import pi\n",
    "\n",
    "qc = QuantumCircuit(1,1)\n",
    "qc.ry(-pi/4, 0)\n",
    "qc.draw()"
   ]
  },
  {
   "cell_type": "code",
   "execution_count": 15,
   "id": "5726610f-6c21-4cfa-8220-d06fcf6b1346",
   "metadata": {},
   "outputs": [
    {
     "name": "stdout",
     "output_type": "stream",
     "text": [
      "Results from z measurement: {'1': 148, '0': 876}\n",
      "Results from x measurement: {'0': 154, '1': 870}\n"
     ]
    }
   ],
   "source": [
    "# Using ry gate to see the x and z measurement\n",
    "for basis,circ in [('z', meas_z), ('x', meas_x)]:\n",
    "    print('Results from ' + basis + ' measurement:',\n",
    "      backend.run(qc.compose(circ)).result().get_counts())"
   ]
  },
  {
   "cell_type": "code",
   "execution_count": null,
   "id": "90e006c3-49c2-4fc7-a17f-b0eb979b1d70",
   "metadata": {},
   "outputs": [],
   "source": []
  }
 ],
 "metadata": {
  "kernelspec": {
   "display_name": "Python 3 (ipykernel)",
   "language": "python",
   "name": "python3"
  },
  "language_info": {
   "codemirror_mode": {
    "name": "ipython",
    "version": 3
   },
   "file_extension": ".py",
   "mimetype": "text/x-python",
   "name": "python",
   "nbconvert_exporter": "python",
   "pygments_lexer": "ipython3",
   "version": "3.8.13"
  },
  "widgets": {
   "application/vnd.jupyter.widget-state+json": {
    "state": {},
    "version_major": 2,
    "version_minor": 0
   }
  }
 },
 "nbformat": 4,
 "nbformat_minor": 5
}
