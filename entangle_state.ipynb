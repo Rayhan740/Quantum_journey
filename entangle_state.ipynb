{
 "cells": [
  {
   "cell_type": "code",
   "execution_count": 3,
   "id": "f800bffc-b403-4903-b92b-5fd16fa2961b",
   "metadata": {},
   "outputs": [
    {
     "data": {
      "text/plain": [
       "'Statevector([0.70710678+0.j, 0.        +0.j, 0.        +0.j,\\n             0.70710678+0.j],\\n            dims=(2, 2))'"
      ]
     },
     "metadata": {},
     "output_type": "display_data"
    },
    {
     "data": {
      "image/png": "[encoded data removed]",
      "text/plain": [
       "<Figure size 206.852x144.48 with 1 Axes>"
      ]
     },
     "metadata": {},
     "output_type": "display_data"
    }
   ],
   "source": [
    "# Let's start with creating multiple qubit\n",
    "# The result will be an entangle state which is our favourite state |Phi^+>\n",
    "# |Phi^+> = 1/sqrt(2)[1 0 0 1]\n",
    "from qiskit import QuantumCircuit\n",
    "from qiskit.quantum_info import Statevector\n",
    "\n",
    "qc = QuantumCircuit(2)\n",
    "\n",
    "qc.h(1)\n",
    "qc.cx(1,0)\n",
    "\n",
    "ket = Statevector(qc)\n",
    "\n",
    "display(ket.draw())\n",
    "display(qc.draw())"
   ]
  },
  {
   "cell_type": "code",
   "execution_count": null,
   "id": "4747e06b-35f7-4cd9-b4ab-bc5b228adf88",
   "metadata": {},
   "outputs": [],
   "source": []
  }
 ],
 "metadata": {
  "kernelspec": {
   "display_name": "Python 3 (ipykernel)",
   "language": "python",
   "name": "python3"
  },
  "language_info": {
   "codemirror_mode": {
    "name": "ipython",
    "version": 3
   },
   "file_extension": ".py",
   "mimetype": "text/x-python",
   "name": "python",
   "nbconvert_exporter": "python",
   "pygments_lexer": "ipython3",
   "version": "3.8.13"
  },
  "widgets": {
   "application/vnd.jupyter.widget-state+json": {
    "state": {},
    "version_major": 2,
    "version_minor": 0
   }
  }
 },
 "nbformat": 4,
 "nbformat_minor": 5
}
