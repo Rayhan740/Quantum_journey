{
 "cells": [
  {
   "cell_type": "code",
   "execution_count": 9,
   "id": "52eb43ed-b553-4a6c-9009-5bd35656a28a",
   "metadata": {},
   "outputs": [
    {
     "data": {
      "image/png": "[encoded data removed]",
      "text/plain": [
       "<Figure size 267.052x144.48 with 1 Axes>"
      ]
     },
     "execution_count": 9,
     "metadata": {},
     "output_type": "execute_result"
    }
   ],
   "source": [
    "from qiskit import QuantumCircuit\n",
    "\n",
    "oracle = QuantumCircuit(2)\n",
    "oracle.cz(0,1) # Invert if both of the state is |11>\n",
    "oracle.draw()"
   ]
  },
  {
   "cell_type": "code",
   "execution_count": 10,
   "id": "770f417f-be1d-4f05-a4d9-fe8005ba76ee",
   "metadata": {},
   "outputs": [
    {
     "data": {
      "image/png": "[encoded data removed]",
      "text/plain": [
       "<Figure size 387.452x144.48 with 1 Axes>"
      ]
     },
     "execution_count": 10,
     "metadata": {},
     "output_type": "execute_result"
    }
   ],
   "source": [
    "diffuser = QuantumCircuit(2)\n",
    "diffuser.h([0,1])\n",
    "diffuser.x([0,1])\n",
    "diffuser.cz(0,1)\n",
    "diffuser.x([0,1])\n",
    "diffuser.h([0,1])\n",
    "diffuser.draw()"
   ]
  },
  {
   "cell_type": "code",
   "execution_count": 11,
   "id": "09d1852f-2783-4087-93ee-a209e751fe29",
   "metadata": {},
   "outputs": [
    {
     "data": {
      "image/png": "[encoded data removed]",
      "text/plain": [
       "<Figure size 839.279x204.68 with 1 Axes>"
      ]
     },
     "execution_count": 11,
     "metadata": {},
     "output_type": "execute_result"
    }
   ],
   "source": [
    "grover = QuantumCircuit(2)\n",
    "grover.h([0,1])\n",
    "grover = grover.compose(oracle)\n",
    "grover = grover.compose(diffuser)\n",
    "grover.measure_all()\n",
    "grover.draw()"
   ]
  },
  {
   "cell_type": "code",
   "execution_count": 12,
   "id": "21b3c24b-fd53-4111-84c8-108214d4d7a9",
   "metadata": {},
   "outputs": [
    {
     "data": {
      "text/plain": [
       "{'00': 1024}"
      ]
     },
     "execution_count": 12,
     "metadata": {},
     "output_type": "execute_result"
    }
   ],
   "source": [
    "from qiskit import Aer\n",
    "sim = Aer.get_backend('aer_simulator')\n",
    "sim.run(grover).result().get_counts()"
   ]
  },
  {
   "cell_type": "code",
   "execution_count": 13,
   "id": "11eb21c7-68c1-4d06-83ad-c3d99da9c565",
   "metadata": {},
   "outputs": [
    {
     "data": {
      "image/png": "[encoded data removed]",
      "text/plain": [
       "<Figure size 267.052x144.48 with 1 Axes>"
      ]
     },
     "execution_count": 13,
     "metadata": {},
     "output_type": "execute_result"
    }
   ],
   "source": [
    "# Building different types of oracle with two qubits\n",
    "from qiskit import QuantumCircuit\n",
    "\n",
    "oracle = QuantumCircuit(2)\n",
    "oracle.x([0,1])\n",
    "oracle.cz(0,1) # Invert if both of the state is |11>\n",
    "oracle.x([0,1])\n",
    "oracle.draw()\n",
    "\n",
    "# This oracle with change |00> to -|00>"
   ]
  },
  {
   "cell_type": "code",
   "execution_count": 14,
   "id": "2adccc65-4d38-4bcf-89a6-eaa672bf0ef3",
   "metadata": {},
   "outputs": [
    {
     "data": {
      "image/png": "[encoded data removed]",
      "text/plain": [
       "<Figure size 327.252x144.48 with 1 Axes>"
      ]
     },
     "execution_count": 14,
     "metadata": {},
     "output_type": "execute_result"
    }
   ],
   "source": [
    "# Building different types of oracle with two qubits\n",
    "from qiskit import QuantumCircuit\n",
    "\n",
    "oracle = QuantumCircuit(2)\n",
    "oracle.x([0,1])\n",
    "oracle.cz(0,1) # Invert if both of the state is |11>\n",
    "oracle.x([0,1])\n",
    "oracle.x(0)\n",
    "oracle.draw()\n",
    "\n",
    "# This oracle with change |01> to -|01>"
   ]
  },
  {
   "cell_type": "code",
   "execution_count": 16,
   "id": "ffd8d5f2-fa00-44d4-926e-7d09d0a69375",
   "metadata": {},
   "outputs": [
    {
     "data": {
      "image/png": "[encoded data removed]",
      "text/plain": [
       "<Figure size 327.252x144.48 with 1 Axes>"
      ]
     },
     "execution_count": 16,
     "metadata": {},
     "output_type": "execute_result"
    }
   ],
   "source": [
    "# Building different types of oracle with two qubits\n",
    "from qiskit import QuantumCircuit\n",
    "\n",
    "oracle = QuantumCircuit(2)\n",
    "oracle.x([0,1])\n",
    "oracle.cz(0,1) # Invert if both of the state is |11>\n",
    "oracle.x([0,1])\n",
    "oracle.x([1])\n",
    "oracle.draw()\n",
    "\n",
    "# This oracle with change |10> to -|10>"
   ]
  },
  {
   "cell_type": "code",
   "execution_count": null,
   "id": "f9ef55fe-a85c-4449-9b8a-b5d94ad83225",
   "metadata": {},
   "outputs": [],
   "source": []
  }
 ],
 "metadata": {
  "kernelspec": {
   "display_name": "Python 3 (ipykernel)",
   "language": "python",
   "name": "python3"
  },
  "language_info": {
   "codemirror_mode": {
    "name": "ipython",
    "version": 3
   },
   "file_extension": ".py",
   "mimetype": "text/x-python",
   "name": "python",
   "nbconvert_exporter": "python",
   "pygments_lexer": "ipython3",
   "version": "3.8.13"
  },
  "widgets": {
   "application/vnd.jupyter.widget-state+json": {
    "state": {},
    "version_major": 2,
    "version_minor": 0
   }
  }
 },
 "nbformat": 4,
 "nbformat_minor": 5
}
