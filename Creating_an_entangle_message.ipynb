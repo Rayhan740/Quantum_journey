{
 "cells": [
  {
   "cell_type": "code",
   "execution_count": 10,
   "id": "06741ef6-53a8-4fc7-861c-0544bafaaec6",
   "metadata": {},
   "outputs": [
    {
     "data": {
      "text/latex": [
       "$$\\frac{\\sqrt{2}}{2} |00\\rangle- \\frac{\\sqrt{2}}{2} |11\\rangle$$"
      ],
      "text/plain": [
       "<IPython.core.display.Latex object>"
      ]
     },
     "metadata": {},
     "output_type": "display_data"
    },
    {
     "data": {
      "text/plain": [
       "{'10': 1024}"
      ]
     },
     "execution_count": 10,
     "metadata": {},
     "output_type": "execute_result"
    }
   ],
   "source": [
    "# Create a function that takes a QuantumCircuit and two-bit string as input,\n",
    "# and applies the gates that encode the string onto the entangled state so Bob can decode it.\n",
    "# Verify it works on all inputs.\n",
    "from qiskit import QuantumCircuit\n",
    "from qiskit.quantum_info import Statevector\n",
    "from qiskit import Aer\n",
    "\n",
    "backend = Aer.get_backend('aer_simulator')\n",
    "\n",
    "MESSAGE = '10' # You can add four different state here 00, 01, 10, 11\n",
    "\n",
    "qc_alice = QuantumCircuit(2,2)\n",
    "qc_alice.h(1)\n",
    "qc_alice.cx(1,0)\n",
    "\n",
    "if MESSAGE[-2] == '1':\n",
    "    qc_alice.z(1)\n",
    "if MESSAGE[-1] == '1':\n",
    "    qc_alice.x(1)\n",
    "    \n",
    "ket = Statevector(qc_alice)\n",
    "display(ket.draw(output='latex')) # If you use output as Latex then you can see clearly    \n",
    "qc_bob = QuantumCircuit(2,2)\n",
    "qc_bob.cx(1,0)\n",
    "qc_bob.h(1)\n",
    "\n",
    "qc_bob.measure([0,1],[0,1])\n",
    "\n",
    "backend.run(qc_alice.compose(qc_bob)).result().get_counts()"
   ]
  },
  {
   "cell_type": "code",
   "execution_count": 8,
   "id": "0868c294-f382-49a0-bd33-4a28cc11da43",
   "metadata": {},
   "outputs": [
    {
     "data": {
      "text/latex": [
       "$$\\frac{\\sqrt{2}}{2} |00\\rangle- \\frac{\\sqrt{2}}{2} |11\\rangle$$"
      ],
      "text/plain": [
       "<IPython.core.display.Latex object>"
      ]
     },
     "execution_count": 8,
     "metadata": {},
     "output_type": "execute_result"
    }
   ],
   "source": [
    "# How to visualize state vector more clearly \n",
    "from numpy import sqrt\n",
    "from qiskit.quantum_info import Statevector\n",
    "\n",
    "sv = Statevector([1/sqrt(2),0,0,-1/sqrt(2)])\n",
    "sv.draw(output='latex')\n"
   ]
  },
  {
   "cell_type": "code",
   "execution_count": null,
   "id": "b7a78e0b-0df2-49ad-8644-d31bff0e4b54",
   "metadata": {},
   "outputs": [],
   "source": []
  }
 ],
 "metadata": {
  "kernelspec": {
   "display_name": "Python 3 (ipykernel)",
   "language": "python",
   "name": "python3"
  },
  "language_info": {
   "codemirror_mode": {
    "name": "ipython",
    "version": 3
   },
   "file_extension": ".py",
   "mimetype": "text/x-python",
   "name": "python",
   "nbconvert_exporter": "python",
   "pygments_lexer": "ipython3",
   "version": "3.8.13"
  },
  "widgets": {
   "application/vnd.jupyter.widget-state+json": {
    "state": {},
    "version_major": 2,
    "version_minor": 0
   }
  }
 },
 "nbformat": 4,
 "nbformat_minor": 5
}
